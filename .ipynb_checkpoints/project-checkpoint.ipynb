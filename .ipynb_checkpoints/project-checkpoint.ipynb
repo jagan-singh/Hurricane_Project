{
 "cells": [
  {
   "cell_type": "code",
   "execution_count": 1,
   "id": "56a2b9f0-8f0c-4782-8aff-ce9e06bb276c",
   "metadata": {},
   "outputs": [],
   "source": [
    "import pandas as pd\n",
    "import numpy as np\n",
    "pd.set_option('display.max_columns', None)\n",
    "pd.set_option('display.max_rows', None)"
   ]
  },
  {
   "cell_type": "code",
   "execution_count": 2,
   "id": "0eebb780-d6e2-4c09-a666-cd22cbb77d17",
   "metadata": {},
   "outputs": [],
   "source": [
    "df = pd.read_pickle(\"df.pkl\")  "
   ]
  },
  {
   "cell_type": "code",
   "execution_count": 3,
   "id": "18a33d49-5281-42f6-8797-60f844e6394b",
   "metadata": {},
   "outputs": [
    {
     "data": {
      "text/html": [
       "<div>\n",
       "<style scoped>\n",
       "    .dataframe tbody tr th:only-of-type {\n",
       "        vertical-align: middle;\n",
       "    }\n",
       "\n",
       "    .dataframe tbody tr th {\n",
       "        vertical-align: top;\n",
       "    }\n",
       "\n",
       "    .dataframe thead th {\n",
       "        text-align: right;\n",
       "    }\n",
       "</style>\n",
       "<table border=\"1\" class=\"dataframe\">\n",
       "  <thead>\n",
       "    <tr style=\"text-align: right;\">\n",
       "      <th></th>\n",
       "      <th>storm_id</th>\n",
       "      <th>duration</th>\n",
       "      <th>name</th>\n",
       "      <th>damage</th>\n",
       "      <th>time</th>\n",
       "      <th>wind</th>\n",
       "      <th>pressure</th>\n",
       "      <th>state</th>\n",
       "      <th>lat</th>\n",
       "      <th>lon</th>\n",
       "      <th>elevation</th>\n",
       "      <th>rainfall</th>\n",
       "      <th>category</th>\n",
       "    </tr>\n",
       "  </thead>\n",
       "  <tbody>\n",
       "    <tr>\n",
       "      <th>0</th>\n",
       "      <td>AL011900</td>\n",
       "      <td>474.0</td>\n",
       "      <td>AL011900</td>\n",
       "      <td>171510000000</td>\n",
       "      <td>1900-09-09 02:30:00</td>\n",
       "      <td>120</td>\n",
       "      <td>936.0</td>\n",
       "      <td>TX</td>\n",
       "      <td>29.171100</td>\n",
       "      <td>-95.201800</td>\n",
       "      <td>1.306692</td>\n",
       "      <td>10.25</td>\n",
       "      <td>3</td>\n",
       "    </tr>\n",
       "    <tr>\n",
       "      <th>1</th>\n",
       "      <td>AL011918</td>\n",
       "      <td>162.0</td>\n",
       "      <td>AL011918</td>\n",
       "      <td>420000000</td>\n",
       "      <td>1918-08-06 18:00:00</td>\n",
       "      <td>105</td>\n",
       "      <td>955.0</td>\n",
       "      <td>LA</td>\n",
       "      <td>29.800000</td>\n",
       "      <td>-93.200000</td>\n",
       "      <td>0.347064</td>\n",
       "      <td>4.91</td>\n",
       "      <td>2</td>\n",
       "    </tr>\n",
       "    <tr>\n",
       "      <th>2</th>\n",
       "      <td>AL011926</td>\n",
       "      <td>270.0</td>\n",
       "      <td>AL011926</td>\n",
       "      <td>7190000000</td>\n",
       "      <td>1926-07-28 06:30:00</td>\n",
       "      <td>90</td>\n",
       "      <td>967.0</td>\n",
       "      <td>FL</td>\n",
       "      <td>28.564317</td>\n",
       "      <td>-80.532650</td>\n",
       "      <td>-6.941955</td>\n",
       "      <td>10.40</td>\n",
       "      <td>1</td>\n",
       "    </tr>\n",
       "    <tr>\n",
       "      <th>3</th>\n",
       "      <td>AL011929</td>\n",
       "      <td>78.0</td>\n",
       "      <td>AL011929</td>\n",
       "      <td>110000000</td>\n",
       "      <td>1929-06-28 21:30:00</td>\n",
       "      <td>80</td>\n",
       "      <td>982.5</td>\n",
       "      <td>TX</td>\n",
       "      <td>28.383333</td>\n",
       "      <td>-96.516667</td>\n",
       "      <td>0.584941</td>\n",
       "      <td>3.55</td>\n",
       "      <td>1</td>\n",
       "    </tr>\n",
       "    <tr>\n",
       "      <th>4</th>\n",
       "      <td>AL011934</td>\n",
       "      <td>414.0</td>\n",
       "      <td>AL011934</td>\n",
       "      <td>710000000</td>\n",
       "      <td>1934-06-16 19:00:00</td>\n",
       "      <td>85</td>\n",
       "      <td>966.0</td>\n",
       "      <td>LA</td>\n",
       "      <td>29.700000</td>\n",
       "      <td>-91.700000</td>\n",
       "      <td>-2.300000</td>\n",
       "      <td>10.00</td>\n",
       "      <td>1</td>\n",
       "    </tr>\n",
       "  </tbody>\n",
       "</table>\n",
       "</div>"
      ],
      "text/plain": [
       "   storm_id  duration      name        damage                time  wind  \\\n",
       "0  AL011900     474.0  AL011900  171510000000 1900-09-09 02:30:00   120   \n",
       "1  AL011918     162.0  AL011918     420000000 1918-08-06 18:00:00   105   \n",
       "2  AL011926     270.0  AL011926    7190000000 1926-07-28 06:30:00    90   \n",
       "3  AL011929      78.0  AL011929     110000000 1929-06-28 21:30:00    80   \n",
       "4  AL011934     414.0  AL011934     710000000 1934-06-16 19:00:00    85   \n",
       "\n",
       "   pressure state        lat        lon  elevation  rainfall  category  \n",
       "0     936.0    TX  29.171100 -95.201800   1.306692     10.25         3  \n",
       "1     955.0    LA  29.800000 -93.200000   0.347064      4.91         2  \n",
       "2     967.0    FL  28.564317 -80.532650  -6.941955     10.40         1  \n",
       "3     982.5    TX  28.383333 -96.516667   0.584941      3.55         1  \n",
       "4     966.0    LA  29.700000 -91.700000  -2.300000     10.00         1  "
      ]
     },
     "execution_count": 3,
     "metadata": {},
     "output_type": "execute_result"
    }
   ],
   "source": [
    "df.head()"
   ]
  },
  {
   "cell_type": "code",
   "execution_count": 4,
   "id": "ce6c1b93-12b0-4db8-b500-56e6ca542c3c",
   "metadata": {},
   "outputs": [
    {
     "data": {
      "text/plain": [
       "storm_id             object\n",
       "duration            float64\n",
       "name                 object\n",
       "damage                int64\n",
       "time         datetime64[ns]\n",
       "wind                  int64\n",
       "pressure            float64\n",
       "state                object\n",
       "lat                 float64\n",
       "lon                 float64\n",
       "elevation           float64\n",
       "rainfall            float64\n",
       "category              int64\n",
       "dtype: object"
      ]
     },
     "execution_count": 4,
     "metadata": {},
     "output_type": "execute_result"
    }
   ],
   "source": [
    "df.dtypes"
   ]
  },
  {
   "cell_type": "code",
   "execution_count": 5,
   "id": "8b107dab-2f0b-40f8-9cff-043b93294d30",
   "metadata": {},
   "outputs": [
    {
     "data": {
      "text/plain": [
       "storm_id     0\n",
       "duration     0\n",
       "name         0\n",
       "damage       0\n",
       "time         0\n",
       "wind         0\n",
       "pressure     3\n",
       "state        0\n",
       "lat          0\n",
       "lon          0\n",
       "elevation    0\n",
       "rainfall     0\n",
       "category     0\n",
       "dtype: int64"
      ]
     },
     "execution_count": 5,
     "metadata": {},
     "output_type": "execute_result"
    }
   ],
   "source": [
    "df.isna().sum()"
   ]
  },
  {
   "cell_type": "code",
   "execution_count": 6,
   "id": "bc312b3c-b1fc-4a09-8cd9-5267f025ff2a",
   "metadata": {},
   "outputs": [
    {
     "data": {
      "text/plain": [
       "899.4659090909091"
      ]
     },
     "execution_count": 6,
     "metadata": {},
     "output_type": "execute_result"
    }
   ],
   "source": [
    "df.pressure.min()"
   ]
  },
  {
   "cell_type": "code",
   "execution_count": 7,
   "id": "31cd10f6-d450-470b-9ea7-db5cde7fea32",
   "metadata": {},
   "outputs": [
    {
     "data": {
      "text/plain": [
       "1009.5"
      ]
     },
     "execution_count": 7,
     "metadata": {},
     "output_type": "execute_result"
    }
   ],
   "source": [
    "df.pressure.max()"
   ]
  },
  {
   "cell_type": "code",
   "execution_count": null,
   "id": "ef02599f-e294-4a35-9014-70bcf737fcfe",
   "metadata": {},
   "outputs": [],
   "source": []
  }
 ],
 "metadata": {
  "kernelspec": {
   "display_name": "Python 3 (ipykernel)",
   "language": "python",
   "name": "python3"
  },
  "language_info": {
   "codemirror_mode": {
    "name": "ipython",
    "version": 3
   },
   "file_extension": ".py",
   "mimetype": "text/x-python",
   "name": "python",
   "nbconvert_exporter": "python",
   "pygments_lexer": "ipython3",
   "version": "3.9.12"
  }
 },
 "nbformat": 4,
 "nbformat_minor": 5
}
