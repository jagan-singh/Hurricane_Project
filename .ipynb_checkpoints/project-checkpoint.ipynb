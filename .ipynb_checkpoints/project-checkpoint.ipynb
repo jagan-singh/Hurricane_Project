{
 "cells": [
  {
   "cell_type": "code",
   "execution_count": 53,
   "id": "56a2b9f0-8f0c-4782-8aff-ce9e06bb276c",
   "metadata": {},
   "outputs": [],
   "source": [
    "import pandas as pd\n",
    "import numpy as np\n",
    "import plotly.express as px\n",
    "import plotly\n",
    "pd.set_option('display.max_columns', None)\n",
    "pd.set_option('display.max_rows', None)"
   ]
  },
  {
   "cell_type": "code",
   "execution_count": 54,
   "id": "0eebb780-d6e2-4c09-a666-cd22cbb77d17",
   "metadata": {},
   "outputs": [],
   "source": [
    "df = pd.read_pickle(\"df.pkl\")  "
   ]
  },
  {
   "cell_type": "code",
   "execution_count": 55,
   "id": "18a33d49-5281-42f6-8797-60f844e6394b",
   "metadata": {},
   "outputs": [
    {
     "data": {
      "text/html": [
       "<div>\n",
       "<style scoped>\n",
       "    .dataframe tbody tr th:only-of-type {\n",
       "        vertical-align: middle;\n",
       "    }\n",
       "\n",
       "    .dataframe tbody tr th {\n",
       "        vertical-align: top;\n",
       "    }\n",
       "\n",
       "    .dataframe thead th {\n",
       "        text-align: right;\n",
       "    }\n",
       "</style>\n",
       "<table border=\"1\" class=\"dataframe\">\n",
       "  <thead>\n",
       "    <tr style=\"text-align: right;\">\n",
       "      <th></th>\n",
       "      <th>storm_id</th>\n",
       "      <th>duration</th>\n",
       "      <th>name</th>\n",
       "      <th>damage</th>\n",
       "      <th>time</th>\n",
       "      <th>wind</th>\n",
       "      <th>pressure</th>\n",
       "      <th>state</th>\n",
       "      <th>lat</th>\n",
       "      <th>lon</th>\n",
       "      <th>elevation</th>\n",
       "      <th>rainfall</th>\n",
       "      <th>category</th>\n",
       "      <th>year</th>\n",
       "      <th>month</th>\n",
       "    </tr>\n",
       "  </thead>\n",
       "  <tbody>\n",
       "    <tr>\n",
       "      <th>0</th>\n",
       "      <td>AL011900</td>\n",
       "      <td>19.75</td>\n",
       "      <td>AL011900</td>\n",
       "      <td>171510000000</td>\n",
       "      <td>1900-09-09 02:30:00</td>\n",
       "      <td>120</td>\n",
       "      <td>936.0</td>\n",
       "      <td>TX</td>\n",
       "      <td>29.171100</td>\n",
       "      <td>-95.201800</td>\n",
       "      <td>1.306692</td>\n",
       "      <td>10.25</td>\n",
       "      <td>3</td>\n",
       "      <td>1900</td>\n",
       "      <td>9</td>\n",
       "    </tr>\n",
       "    <tr>\n",
       "      <th>1</th>\n",
       "      <td>AL011918</td>\n",
       "      <td>6.75</td>\n",
       "      <td>AL011918</td>\n",
       "      <td>420000000</td>\n",
       "      <td>1918-08-06 18:00:00</td>\n",
       "      <td>105</td>\n",
       "      <td>955.0</td>\n",
       "      <td>LA</td>\n",
       "      <td>29.800000</td>\n",
       "      <td>-93.200000</td>\n",
       "      <td>0.347064</td>\n",
       "      <td>4.91</td>\n",
       "      <td>2</td>\n",
       "      <td>1918</td>\n",
       "      <td>8</td>\n",
       "    </tr>\n",
       "    <tr>\n",
       "      <th>2</th>\n",
       "      <td>AL011926</td>\n",
       "      <td>11.25</td>\n",
       "      <td>AL011926</td>\n",
       "      <td>7190000000</td>\n",
       "      <td>1926-07-28 06:30:00</td>\n",
       "      <td>90</td>\n",
       "      <td>967.0</td>\n",
       "      <td>FL</td>\n",
       "      <td>28.564317</td>\n",
       "      <td>-80.532650</td>\n",
       "      <td>-6.941955</td>\n",
       "      <td>10.40</td>\n",
       "      <td>1</td>\n",
       "      <td>1926</td>\n",
       "      <td>7</td>\n",
       "    </tr>\n",
       "    <tr>\n",
       "      <th>3</th>\n",
       "      <td>AL011929</td>\n",
       "      <td>3.25</td>\n",
       "      <td>AL011929</td>\n",
       "      <td>110000000</td>\n",
       "      <td>1929-06-28 21:30:00</td>\n",
       "      <td>80</td>\n",
       "      <td>982.5</td>\n",
       "      <td>TX</td>\n",
       "      <td>28.383333</td>\n",
       "      <td>-96.516667</td>\n",
       "      <td>0.584941</td>\n",
       "      <td>3.55</td>\n",
       "      <td>1</td>\n",
       "      <td>1929</td>\n",
       "      <td>6</td>\n",
       "    </tr>\n",
       "    <tr>\n",
       "      <th>4</th>\n",
       "      <td>AL011934</td>\n",
       "      <td>17.25</td>\n",
       "      <td>AL011934</td>\n",
       "      <td>710000000</td>\n",
       "      <td>1934-06-16 19:00:00</td>\n",
       "      <td>85</td>\n",
       "      <td>966.0</td>\n",
       "      <td>LA</td>\n",
       "      <td>29.700000</td>\n",
       "      <td>-91.700000</td>\n",
       "      <td>-2.300000</td>\n",
       "      <td>10.00</td>\n",
       "      <td>1</td>\n",
       "      <td>1934</td>\n",
       "      <td>6</td>\n",
       "    </tr>\n",
       "  </tbody>\n",
       "</table>\n",
       "</div>"
      ],
      "text/plain": [
       "   storm_id  duration      name        damage                time  wind  \\\n",
       "0  AL011900     19.75  AL011900  171510000000 1900-09-09 02:30:00   120   \n",
       "1  AL011918      6.75  AL011918     420000000 1918-08-06 18:00:00   105   \n",
       "2  AL011926     11.25  AL011926    7190000000 1926-07-28 06:30:00    90   \n",
       "3  AL011929      3.25  AL011929     110000000 1929-06-28 21:30:00    80   \n",
       "4  AL011934     17.25  AL011934     710000000 1934-06-16 19:00:00    85   \n",
       "\n",
       "   pressure state        lat        lon  elevation  rainfall  category  year  \\\n",
       "0     936.0    TX  29.171100 -95.201800   1.306692     10.25         3  1900   \n",
       "1     955.0    LA  29.800000 -93.200000   0.347064      4.91         2  1918   \n",
       "2     967.0    FL  28.564317 -80.532650  -6.941955     10.40         1  1926   \n",
       "3     982.5    TX  28.383333 -96.516667   0.584941      3.55         1  1929   \n",
       "4     966.0    LA  29.700000 -91.700000  -2.300000     10.00         1  1934   \n",
       "\n",
       "   month  \n",
       "0      9  \n",
       "1      8  \n",
       "2      7  \n",
       "3      6  \n",
       "4      6  "
      ]
     },
     "execution_count": 55,
     "metadata": {},
     "output_type": "execute_result"
    }
   ],
   "source": [
    "df.head()"
   ]
  },
  {
   "cell_type": "code",
   "execution_count": 56,
   "id": "ce6c1b93-12b0-4db8-b500-56e6ca542c3c",
   "metadata": {},
   "outputs": [
    {
     "data": {
      "text/plain": [
       "storm_id             object\n",
       "duration            float64\n",
       "name                 object\n",
       "damage                int64\n",
       "time         datetime64[ns]\n",
       "wind                  int64\n",
       "pressure            float64\n",
       "state                object\n",
       "lat                 float64\n",
       "lon                 float64\n",
       "elevation           float64\n",
       "rainfall            float64\n",
       "category              int64\n",
       "year                  int64\n",
       "month                 int64\n",
       "dtype: object"
      ]
     },
     "execution_count": 56,
     "metadata": {},
     "output_type": "execute_result"
    }
   ],
   "source": [
    "df.dtypes"
   ]
  },
  {
   "cell_type": "code",
   "execution_count": 57,
   "id": "8b107dab-2f0b-40f8-9cff-043b93294d30",
   "metadata": {},
   "outputs": [
    {
     "data": {
      "text/plain": [
       "storm_id     0\n",
       "duration     0\n",
       "name         0\n",
       "damage       0\n",
       "time         0\n",
       "wind         0\n",
       "pressure     3\n",
       "state        0\n",
       "lat          0\n",
       "lon          0\n",
       "elevation    0\n",
       "rainfall     0\n",
       "category     0\n",
       "year         0\n",
       "month        0\n",
       "dtype: int64"
      ]
     },
     "execution_count": 57,
     "metadata": {},
     "output_type": "execute_result"
    }
   ],
   "source": [
    "df.isna().sum()"
   ]
  },
  {
   "cell_type": "code",
   "execution_count": 58,
   "id": "bc312b3c-b1fc-4a09-8cd9-5267f025ff2a",
   "metadata": {},
   "outputs": [
    {
     "data": {
      "text/plain": [
       "count     225.000000\n",
       "mean      971.215272\n",
       "std        21.848664\n",
       "min       899.465909\n",
       "25%       955.000000\n",
       "50%       973.333333\n",
       "75%       988.000000\n",
       "max      1009.500000\n",
       "Name: pressure, dtype: float64"
      ]
     },
     "execution_count": 58,
     "metadata": {},
     "output_type": "execute_result"
    }
   ],
   "source": [
    "df.pressure.describe()"
   ]
  },
  {
   "cell_type": "code",
   "execution_count": 59,
   "id": "ef02599f-e294-4a35-9014-70bcf737fcfe",
   "metadata": {},
   "outputs": [],
   "source": [
    "df.pressure.fillna(df.pressure.mean(), inplace = True)"
   ]
  },
  {
   "cell_type": "code",
   "execution_count": 60,
   "id": "4fd881f6-6b2b-45fc-9870-3fc99e792e7d",
   "metadata": {},
   "outputs": [
    {
     "data": {
      "text/plain": [
       "storm_id     0\n",
       "duration     0\n",
       "name         0\n",
       "damage       0\n",
       "time         0\n",
       "wind         0\n",
       "pressure     0\n",
       "state        0\n",
       "lat          0\n",
       "lon          0\n",
       "elevation    0\n",
       "rainfall     0\n",
       "category     0\n",
       "year         0\n",
       "month        0\n",
       "dtype: int64"
      ]
     },
     "execution_count": 60,
     "metadata": {},
     "output_type": "execute_result"
    }
   ],
   "source": [
    "df.isna().sum()"
   ]
  },
  {
   "cell_type": "markdown",
   "id": "6c765f9e-ee47-4dfb-bbe4-4724e233cd99",
   "metadata": {},
   "source": [
    "# Discriptive Analysis"
   ]
  },
  {
   "cell_type": "markdown",
   "id": "8370de05-288a-46c0-a394-6a9c1dcdeed1",
   "metadata": {},
   "source": [
    "## Visualizations"
   ]
  },
  {
   "cell_type": "code",
   "execution_count": 61,
   "id": "72f4302a-3ddf-4032-8cad-7dadffbb3941",
   "metadata": {},
   "outputs": [
    {
     "data": {
      "application/vnd.plotly.v1+json": {
       "config": {
        "plotlyServerURL": "https://plot.ly"
       },
       "data": [
        {
         "alignmentgroup": "True",
         "bingroup": "x",
         "hovertemplate": "damage=%{x}<br>count=%{y}<extra></extra>",
         "legendgroup": "",
         "marker": {
          "color": "#636efa",
          "pattern": {
           "shape": ""
          }
         },
         "name": "",
         "offsetgroup": "",
         "orientation": "v",
         "showlegend": false,
         "type": "histogram",
         "x": [
          171510000000,
          420000000,
          7190000000,
          110000000,
          710000000,
          6620000000,
          15000000,
          58000000,
          1120000000,
          56000000,
          1710000000,
          7000000,
          21700000000,
          7000000,
          15000000,
          7000000,
          640000000,
          121200000000,
          1800000000,
          600000000,
          18460000000,
          1020000000,
          170000000,
          220000000,
          12650000000,
          1370000000,
          3820000000,
          280000000,
          25900000000,
          210000000,
          2710000000,
          4750000000,
          1950000000,
          24490000000,
          190000000,
          7000000,
          3000000,
          2710000000,
          60000000,
          1020000000,
          2410000000,
          7410000000,
          0,
          420000000,
          1750000000,
          640000000,
          2320000000,
          330000000,
          190000000,
          31000000,
          1930000000,
          3090000000,
          520000000,
          78000000,
          21960000000,
          31030000000,
          500000000,
          22270000000,
          46000000,
          3500000000,
          17750000000,
          65000000,
          22330000000,
          27000000,
          3000000,
          4690000000,
          250000000,
          120000000,
          120000000,
          67000000,
          95000000,
          36990000000,
          190000000,
          420000000,
          830000000,
          2210000000,
          1930000000,
          63830000000,
          32000000,
          410000000,
          9050000000,
          280000000,
          90000000,
          3040000000,
          200000000,
          390000000,
          87220000000,
          3030000000,
          2000000,
          330000000,
          3930000000,
          1940000000,
          5150000000,
          110000000,
          210000000,
          100000000,
          2830000000,
          2380000000,
          620000000,
          73410000000,
          3750000000,
          1100000000,
          380000000,
          8750000000,
          700000000,
          3000000,
          5360000000,
          79000000,
          130000000,
          1190000000,
          1050000000,
          270000000,
          220000000,
          390000000,
          2970000000,
          2980000000,
          2460000000,
          5660000000,
          1700000000,
          42000000,
          24920000000,
          73000000,
          45000000,
          22720000000,
          88000000,
          2020000000,
          18930000000,
          1090000000,
          8000000,
          19990000000,
          740000000,
          830000000,
          242750000000,
          13200000000,
          10420000000,
          5990000000,
          2060000000,
          720000000,
          2000000,
          1200000000,
          3660000000,
          240000000,
          7900000000,
          22000000,
          2140000000,
          9210000000,
          4010000000,
          8410000000,
          740000000,
          710000000,
          290000000,
          16030000000,
          570000000,
          0,
          270000000,
          1400000000,
          20380000000,
          1850000000,
          21000000,
          120000000,
          28520000000,
          3420000000,
          2270000000,
          1570000000,
          660000000,
          3260000000,
          38000000,
          36910000000,
          63000000,
          44260000000,
          17160000000,
          3430000000,
          610000000,
          132690000000,
          3620000000,
          480000000,
          1530000000,
          210000000,
          620000000,
          610000000,
          37000000,
          630000000,
          370000000,
          8980000000,
          2720000000,
          1380000000,
          7220000000,
          1120000000,
          690000000,
          39000000,
          17170000000,
          27430000000,
          150000000,
          29000000,
          16800000000,
          52970000000,
          1770000000,
          110000000,
          6140000000,
          16000000,
          2060000000,
          38000000,
          11000000,
          148240000000,
          940000000,
          78840000000,
          6150000000,
          7010000000,
          380000000,
          8500000000,
          1800000000,
          1000000,
          150000000,
          1940000000,
          1610000000,
          11010000000,
          36450000000,
          1170000000,
          270000000,
          320000000,
          11260000000,
          8000000,
          130000000,
          230000000,
          16510000000,
          23110000000,
          80090000000,
          33410000000
         ],
         "xaxis": "x",
         "yaxis": "y"
        }
       ],
       "layout": {
        "autosize": true,
        "barmode": "relative",
        "legend": {
         "tracegroupgap": 0
        },
        "margin": {
         "t": 60
        },
        "template": {
         "data": {
          "bar": [
           {
            "error_x": {
             "color": "#2a3f5f"
            },
            "error_y": {
             "color": "#2a3f5f"
            },
            "marker": {
             "line": {
              "color": "#E5ECF6",
              "width": 0.5
             },
             "pattern": {
              "fillmode": "overlay",
              "size": 10,
              "solidity": 0.2
             }
            },
            "type": "bar"
           }
          ],
          "barpolar": [
           {
            "marker": {
             "line": {
              "color": "#E5ECF6",
              "width": 0.5
             },
             "pattern": {
              "fillmode": "overlay",
              "size": 10,
              "solidity": 0.2
             }
            },
            "type": "barpolar"
           }
          ],
          "carpet": [
           {
            "aaxis": {
             "endlinecolor": "#2a3f5f",
             "gridcolor": "white",
             "linecolor": "white",
             "minorgridcolor": "white",
             "startlinecolor": "#2a3f5f"
            },
            "baxis": {
             "endlinecolor": "#2a3f5f",
             "gridcolor": "white",
             "linecolor": "white",
             "minorgridcolor": "white",
             "startlinecolor": "#2a3f5f"
            },
            "type": "carpet"
           }
          ],
          "choropleth": [
           {
            "colorbar": {
             "outlinewidth": 0,
             "ticks": ""
            },
            "type": "choropleth"
           }
          ],
          "contour": [
           {
            "colorbar": {
             "outlinewidth": 0,
             "ticks": ""
            },
            "colorscale": [
             [
              0,
              "#0d0887"
             ],
             [
              0.1111111111111111,
              "#46039f"
             ],
             [
              0.2222222222222222,
              "#7201a8"
             ],
             [
              0.3333333333333333,
              "#9c179e"
             ],
             [
              0.4444444444444444,
              "#bd3786"
             ],
             [
              0.5555555555555556,
              "#d8576b"
             ],
             [
              0.6666666666666666,
              "#ed7953"
             ],
             [
              0.7777777777777778,
              "#fb9f3a"
             ],
             [
              0.8888888888888888,
              "#fdca26"
             ],
             [
              1,
              "#f0f921"
             ]
            ],
            "type": "contour"
           }
          ],
          "contourcarpet": [
           {
            "colorbar": {
             "outlinewidth": 0,
             "ticks": ""
            },
            "type": "contourcarpet"
           }
          ],
          "heatmap": [
           {
            "colorbar": {
             "outlinewidth": 0,
             "ticks": ""
            },
            "colorscale": [
             [
              0,
              "#0d0887"
             ],
             [
              0.1111111111111111,
              "#46039f"
             ],
             [
              0.2222222222222222,
              "#7201a8"
             ],
             [
              0.3333333333333333,
              "#9c179e"
             ],
             [
              0.4444444444444444,
              "#bd3786"
             ],
             [
              0.5555555555555556,
              "#d8576b"
             ],
             [
              0.6666666666666666,
              "#ed7953"
             ],
             [
              0.7777777777777778,
              "#fb9f3a"
             ],
             [
              0.8888888888888888,
              "#fdca26"
             ],
             [
              1,
              "#f0f921"
             ]
            ],
            "type": "heatmap"
           }
          ],
          "heatmapgl": [
           {
            "colorbar": {
             "outlinewidth": 0,
             "ticks": ""
            },
            "colorscale": [
             [
              0,
              "#0d0887"
             ],
             [
              0.1111111111111111,
              "#46039f"
             ],
             [
              0.2222222222222222,
              "#7201a8"
             ],
             [
              0.3333333333333333,
              "#9c179e"
             ],
             [
              0.4444444444444444,
              "#bd3786"
             ],
             [
              0.5555555555555556,
              "#d8576b"
             ],
             [
              0.6666666666666666,
              "#ed7953"
             ],
             [
              0.7777777777777778,
              "#fb9f3a"
             ],
             [
              0.8888888888888888,
              "#fdca26"
             ],
             [
              1,
              "#f0f921"
             ]
            ],
            "type": "heatmapgl"
           }
          ],
          "histogram": [
           {
            "marker": {
             "pattern": {
              "fillmode": "overlay",
              "size": 10,
              "solidity": 0.2
             }
            },
            "type": "histogram"
           }
          ],
          "histogram2d": [
           {
            "colorbar": {
             "outlinewidth": 0,
             "ticks": ""
            },
            "colorscale": [
             [
              0,
              "#0d0887"
             ],
             [
              0.1111111111111111,
              "#46039f"
             ],
             [
              0.2222222222222222,
              "#7201a8"
             ],
             [
              0.3333333333333333,
              "#9c179e"
             ],
             [
              0.4444444444444444,
              "#bd3786"
             ],
             [
              0.5555555555555556,
              "#d8576b"
             ],
             [
              0.6666666666666666,
              "#ed7953"
             ],
             [
              0.7777777777777778,
              "#fb9f3a"
             ],
             [
              0.8888888888888888,
              "#fdca26"
             ],
             [
              1,
              "#f0f921"
             ]
            ],
            "type": "histogram2d"
           }
          ],
          "histogram2dcontour": [
           {
            "colorbar": {
             "outlinewidth": 0,
             "ticks": ""
            },
            "colorscale": [
             [
              0,
              "#0d0887"
             ],
             [
              0.1111111111111111,
              "#46039f"
             ],
             [
              0.2222222222222222,
              "#7201a8"
             ],
             [
              0.3333333333333333,
              "#9c179e"
             ],
             [
              0.4444444444444444,
              "#bd3786"
             ],
             [
              0.5555555555555556,
              "#d8576b"
             ],
             [
              0.6666666666666666,
              "#ed7953"
             ],
             [
              0.7777777777777778,
              "#fb9f3a"
             ],
             [
              0.8888888888888888,
              "#fdca26"
             ],
             [
              1,
              "#f0f921"
             ]
            ],
            "type": "histogram2dcontour"
           }
          ],
          "mesh3d": [
           {
            "colorbar": {
             "outlinewidth": 0,
             "ticks": ""
            },
            "type": "mesh3d"
           }
          ],
          "parcoords": [
           {
            "line": {
             "colorbar": {
              "outlinewidth": 0,
              "ticks": ""
             }
            },
            "type": "parcoords"
           }
          ],
          "pie": [
           {
            "automargin": true,
            "type": "pie"
           }
          ],
          "scatter": [
           {
            "marker": {
             "colorbar": {
              "outlinewidth": 0,
              "ticks": ""
             }
            },
            "type": "scatter"
           }
          ],
          "scatter3d": [
           {
            "line": {
             "colorbar": {
              "outlinewidth": 0,
              "ticks": ""
             }
            },
            "marker": {
             "colorbar": {
              "outlinewidth": 0,
              "ticks": ""
             }
            },
            "type": "scatter3d"
           }
          ],
          "scattercarpet": [
           {
            "marker": {
             "colorbar": {
              "outlinewidth": 0,
              "ticks": ""
             }
            },
            "type": "scattercarpet"
           }
          ],
          "scattergeo": [
           {
            "marker": {
             "colorbar": {
              "outlinewidth": 0,
              "ticks": ""
             }
            },
            "type": "scattergeo"
           }
          ],
          "scattergl": [
           {
            "marker": {
             "colorbar": {
              "outlinewidth": 0,
              "ticks": ""
             }
            },
            "type": "scattergl"
           }
          ],
          "scattermapbox": [
           {
            "marker": {
             "colorbar": {
              "outlinewidth": 0,
              "ticks": ""
             }
            },
            "type": "scattermapbox"
           }
          ],
          "scatterpolar": [
           {
            "marker": {
             "colorbar": {
              "outlinewidth": 0,
              "ticks": ""
             }
            },
            "type": "scatterpolar"
           }
          ],
          "scatterpolargl": [
           {
            "marker": {
             "colorbar": {
              "outlinewidth": 0,
              "ticks": ""
             }
            },
            "type": "scatterpolargl"
           }
          ],
          "scatterternary": [
           {
            "marker": {
             "colorbar": {
              "outlinewidth": 0,
              "ticks": ""
             }
            },
            "type": "scatterternary"
           }
          ],
          "surface": [
           {
            "colorbar": {
             "outlinewidth": 0,
             "ticks": ""
            },
            "colorscale": [
             [
              0,
              "#0d0887"
             ],
             [
              0.1111111111111111,
              "#46039f"
             ],
             [
              0.2222222222222222,
              "#7201a8"
             ],
             [
              0.3333333333333333,
              "#9c179e"
             ],
             [
              0.4444444444444444,
              "#bd3786"
             ],
             [
              0.5555555555555556,
              "#d8576b"
             ],
             [
              0.6666666666666666,
              "#ed7953"
             ],
             [
              0.7777777777777778,
              "#fb9f3a"
             ],
             [
              0.8888888888888888,
              "#fdca26"
             ],
             [
              1,
              "#f0f921"
             ]
            ],
            "type": "surface"
           }
          ],
          "table": [
           {
            "cells": {
             "fill": {
              "color": "#EBF0F8"
             },
             "line": {
              "color": "white"
             }
            },
            "header": {
             "fill": {
              "color": "#C8D4E3"
             },
             "line": {
              "color": "white"
             }
            },
            "type": "table"
           }
          ]
         },
         "layout": {
          "annotationdefaults": {
           "arrowcolor": "#2a3f5f",
           "arrowhead": 0,
           "arrowwidth": 1
          },
          "autotypenumbers": "strict",
          "coloraxis": {
           "colorbar": {
            "outlinewidth": 0,
            "ticks": ""
           }
          },
          "colorscale": {
           "diverging": [
            [
             0,
             "#8e0152"
            ],
            [
             0.1,
             "#c51b7d"
            ],
            [
             0.2,
             "#de77ae"
            ],
            [
             0.3,
             "#f1b6da"
            ],
            [
             0.4,
             "#fde0ef"
            ],
            [
             0.5,
             "#f7f7f7"
            ],
            [
             0.6,
             "#e6f5d0"
            ],
            [
             0.7,
             "#b8e186"
            ],
            [
             0.8,
             "#7fbc41"
            ],
            [
             0.9,
             "#4d9221"
            ],
            [
             1,
             "#276419"
            ]
           ],
           "sequential": [
            [
             0,
             "#0d0887"
            ],
            [
             0.1111111111111111,
             "#46039f"
            ],
            [
             0.2222222222222222,
             "#7201a8"
            ],
            [
             0.3333333333333333,
             "#9c179e"
            ],
            [
             0.4444444444444444,
             "#bd3786"
            ],
            [
             0.5555555555555556,
             "#d8576b"
            ],
            [
             0.6666666666666666,
             "#ed7953"
            ],
            [
             0.7777777777777778,
             "#fb9f3a"
            ],
            [
             0.8888888888888888,
             "#fdca26"
            ],
            [
             1,
             "#f0f921"
            ]
           ],
           "sequentialminus": [
            [
             0,
             "#0d0887"
            ],
            [
             0.1111111111111111,
             "#46039f"
            ],
            [
             0.2222222222222222,
             "#7201a8"
            ],
            [
             0.3333333333333333,
             "#9c179e"
            ],
            [
             0.4444444444444444,
             "#bd3786"
            ],
            [
             0.5555555555555556,
             "#d8576b"
            ],
            [
             0.6666666666666666,
             "#ed7953"
            ],
            [
             0.7777777777777778,
             "#fb9f3a"
            ],
            [
             0.8888888888888888,
             "#fdca26"
            ],
            [
             1,
             "#f0f921"
            ]
           ]
          },
          "colorway": [
           "#636efa",
           "#EF553B",
           "#00cc96",
           "#ab63fa",
           "#FFA15A",
           "#19d3f3",
           "#FF6692",
           "#B6E880",
           "#FF97FF",
           "#FECB52"
          ],
          "font": {
           "color": "#2a3f5f"
          },
          "geo": {
           "bgcolor": "white",
           "lakecolor": "white",
           "landcolor": "#E5ECF6",
           "showlakes": true,
           "showland": true,
           "subunitcolor": "white"
          },
          "hoverlabel": {
           "align": "left"
          },
          "hovermode": "closest",
          "mapbox": {
           "style": "light"
          },
          "paper_bgcolor": "white",
          "plot_bgcolor": "#E5ECF6",
          "polar": {
           "angularaxis": {
            "gridcolor": "white",
            "linecolor": "white",
            "ticks": ""
           },
           "bgcolor": "#E5ECF6",
           "radialaxis": {
            "gridcolor": "white",
            "linecolor": "white",
            "ticks": ""
           }
          },
          "scene": {
           "xaxis": {
            "backgroundcolor": "#E5ECF6",
            "gridcolor": "white",
            "gridwidth": 2,
            "linecolor": "white",
            "showbackground": true,
            "ticks": "",
            "zerolinecolor": "white"
           },
           "yaxis": {
            "backgroundcolor": "#E5ECF6",
            "gridcolor": "white",
            "gridwidth": 2,
            "linecolor": "white",
            "showbackground": true,
            "ticks": "",
            "zerolinecolor": "white"
           },
           "zaxis": {
            "backgroundcolor": "#E5ECF6",
            "gridcolor": "white",
            "gridwidth": 2,
            "linecolor": "white",
            "showbackground": true,
            "ticks": "",
            "zerolinecolor": "white"
           }
          },
          "shapedefaults": {
           "line": {
            "color": "#2a3f5f"
           }
          },
          "ternary": {
           "aaxis": {
            "gridcolor": "white",
            "linecolor": "white",
            "ticks": ""
           },
           "baxis": {
            "gridcolor": "white",
            "linecolor": "white",
            "ticks": ""
           },
           "bgcolor": "#E5ECF6",
           "caxis": {
            "gridcolor": "white",
            "linecolor": "white",
            "ticks": ""
           }
          },
          "title": {
           "x": 0.05
          },
          "xaxis": {
           "automargin": true,
           "gridcolor": "white",
           "linecolor": "white",
           "ticks": "",
           "title": {
            "standoff": 15
           },
           "zerolinecolor": "white",
           "zerolinewidth": 2
          },
          "yaxis": {
           "automargin": true,
           "gridcolor": "white",
           "linecolor": "white",
           "ticks": "",
           "title": {
            "standoff": 15
           },
           "zerolinecolor": "white",
           "zerolinewidth": 2
          }
         }
        },
        "xaxis": {
         "anchor": "y",
         "autorange": true,
         "domain": [
          0,
          1
         ],
         "range": [
          -0.5,
          249999999999.5
         ],
         "title": {
          "text": "damage"
         },
         "type": "linear"
        },
        "yaxis": {
         "anchor": "x",
         "autorange": true,
         "domain": [
          0,
          1
         ],
         "range": [
          0,
          194.73684210526315
         ],
         "title": {
          "text": "count"
         }
        }
       }
      },
      "image/png": "[encoded data removed]",
      "text/html": [
       "<div>                            <div id=\"7fe0f30c-8f83-4bd3-bbac-031d4a824672\" class=\"plotly-graph-div\" style=\"height:525px; width:100%;\"></div>            <script type=\"text/javascript\">                require([\"plotly\"], function(Plotly) {                    window.PLOTLYENV=window.PLOTLYENV || {};                                    if (document.getElementById(\"7fe0f30c-8f83-4bd3-bbac-031d4a824672\")) {                    Plotly.newPlot(                        \"7fe0f30c-8f83-4bd3-bbac-031d4a824672\",                        [{\"alignmentgroup\":\"True\",\"bingroup\":\"x\",\"hovertemplate\":\"damage=%{x}<br>count=%{y}<extra></extra>\",\"legendgroup\":\"\",\"marker\":{\"color\":\"#636efa\",\"pattern\":{\"shape\":\"\"}},\"name\":\"\",\"offsetgroup\":\"\",\"orientation\":\"v\",\"showlegend\":false,\"x\":[171510000000,420000000,7190000000,110000000,710000000,6620000000,15000000,58000000,1120000000,56000000,1710000000,7000000,21700000000,7000000,15000000,7000000,640000000,121200000000,1800000000,600000000,18460000000,1020000000,170000000,220000000,12650000000,1370000000,3820000000,280000000,25900000000,210000000,2710000000,4750000000,1950000000,24490000000,190000000,7000000,3000000,2710000000,60000000,1020000000,2410000000,7410000000,0,420000000,1750000000,640000000,2320000000,330000000,190000000,31000000,1930000000,3090000000,520000000,78000000,21960000000,31030000000,500000000,22270000000,46000000,3500000000,17750000000,65000000,22330000000,27000000,3000000,4690000000,250000000,120000000,120000000,67000000,95000000,36990000000,190000000,420000000,830000000,2210000000,1930000000,63830000000,32000000,410000000,9050000000,280000000,90000000,3040000000,200000000,390000000,87220000000,3030000000,2000000,330000000,3930000000,1940000000,5150000000,110000000,210000000,100000000,2830000000,2380000000,620000000,73410000000,3750000000,1100000000,380000000,8750000000,700000000,3000000,5360000000,79000000,130000000,1190000000,1050000000,270000000,220000000,390000000,2970000000,2980000000,2460000000,5660000000,1700000000,42000000,24920000000,73000000,45000000,22720000000,88000000,2020000000,18930000000,1090000000,8000000,19990000000,740000000,830000000,242750000000,13200000000,10420000000,5990000000,2060000000,720000000,2000000,1200000000,3660000000,240000000,7900000000,22000000,2140000000,9210000000,4010000000,8410000000,740000000,710000000,290000000,16030000000,570000000,0,270000000,1400000000,20380000000,1850000000,21000000,120000000,28520000000,3420000000,2270000000,1570000000,660000000,3260000000,38000000,36910000000,63000000,44260000000,17160000000,3430000000,610000000,132690000000,3620000000,480000000,1530000000,210000000,620000000,610000000,37000000,630000000,370000000,8980000000,2720000000,1380000000,7220000000,1120000000,690000000,39000000,17170000000,27430000000,150000000,29000000,16800000000,52970000000,1770000000,110000000,6140000000,16000000,2060000000,38000000,11000000,148240000000,940000000,78840000000,6150000000,7010000000,380000000,8500000000,1800000000,1000000,150000000,1940000000,1610000000,11010000000,36450000000,1170000000,270000000,320000000,11260000000,8000000,130000000,230000000,16510000000,23110000000,80090000000,33410000000],\"xaxis\":\"x\",\"yaxis\":\"y\",\"type\":\"histogram\"}],                        {\"template\":{\"data\":{\"bar\":[{\"error_x\":{\"color\":\"#2a3f5f\"},\"error_y\":{\"color\":\"#2a3f5f\"},\"marker\":{\"line\":{\"color\":\"#E5ECF6\",\"width\":0.5},\"pattern\":{\"fillmode\":\"overlay\",\"size\":10,\"solidity\":0.2}},\"type\":\"bar\"}],\"barpolar\":[{\"marker\":{\"line\":{\"color\":\"#E5ECF6\",\"width\":0.5},\"pattern\":{\"fillmode\":\"overlay\",\"size\":10,\"solidity\":0.2}},\"type\":\"barpolar\"}],\"carpet\":[{\"aaxis\":{\"endlinecolor\":\"#2a3f5f\",\"gridcolor\":\"white\",\"linecolor\":\"white\",\"minorgridcolor\":\"white\",\"startlinecolor\":\"#2a3f5f\"},\"baxis\":{\"endlinecolor\":\"#2a3f5f\",\"gridcolor\":\"white\",\"linecolor\":\"white\",\"minorgridcolor\":\"white\",\"startlinecolor\":\"#2a3f5f\"},\"type\":\"carpet\"}],\"choropleth\":[{\"colorbar\":{\"outlinewidth\":0,\"ticks\":\"\"},\"type\":\"choropleth\"}],\"contour\":[{\"colorbar\":{\"outlinewidth\":0,\"ticks\":\"\"},\"colorscale\":[[0.0,\"#0d0887\"],[0.1111111111111111,\"#46039f\"],[0.2222222222222222,\"#7201a8\"],[0.3333333333333333,\"#9c179e\"],[0.4444444444444444,\"#bd3786\"],[0.5555555555555556,\"#d8576b\"],[0.6666666666666666,\"#ed7953\"],[0.7777777777777778,\"#fb9f3a\"],[0.8888888888888888,\"#fdca26\"],[1.0,\"#f0f921\"]],\"type\":\"contour\"}],\"contourcarpet\":[{\"colorbar\":{\"outlinewidth\":0,\"ticks\":\"\"},\"type\":\"contourcarpet\"}],\"heatmap\":[{\"colorbar\":{\"outlinewidth\":0,\"ticks\":\"\"},\"colorscale\":[[0.0,\"#0d0887\"],[0.1111111111111111,\"#46039f\"],[0.2222222222222222,\"#7201a8\"],[0.3333333333333333,\"#9c179e\"],[0.4444444444444444,\"#bd3786\"],[0.5555555555555556,\"#d8576b\"],[0.6666666666666666,\"#ed7953\"],[0.7777777777777778,\"#fb9f3a\"],[0.8888888888888888,\"#fdca26\"],[1.0,\"#f0f921\"]],\"type\":\"heatmap\"}],\"heatmapgl\":[{\"colorbar\":{\"outlinewidth\":0,\"ticks\":\"\"},\"colorscale\":[[0.0,\"#0d0887\"],[0.1111111111111111,\"#46039f\"],[0.2222222222222222,\"#7201a8\"],[0.3333333333333333,\"#9c179e\"],[0.4444444444444444,\"#bd3786\"],[0.5555555555555556,\"#d8576b\"],[0.6666666666666666,\"#ed7953\"],[0.7777777777777778,\"#fb9f3a\"],[0.8888888888888888,\"#fdca26\"],[1.0,\"#f0f921\"]],\"type\":\"heatmapgl\"}],\"histogram\":[{\"marker\":{\"pattern\":{\"fillmode\":\"overlay\",\"size\":10,\"solidity\":0.2}},\"type\":\"histogram\"}],\"histogram2d\":[{\"colorbar\":{\"outlinewidth\":0,\"ticks\":\"\"},\"colorscale\":[[0.0,\"#0d0887\"],[0.1111111111111111,\"#46039f\"],[0.2222222222222222,\"#7201a8\"],[0.3333333333333333,\"#9c179e\"],[0.4444444444444444,\"#bd3786\"],[0.5555555555555556,\"#d8576b\"],[0.6666666666666666,\"#ed7953\"],[0.7777777777777778,\"#fb9f3a\"],[0.8888888888888888,\"#fdca26\"],[1.0,\"#f0f921\"]],\"type\":\"histogram2d\"}],\"histogram2dcontour\":[{\"colorbar\":{\"outlinewidth\":0,\"ticks\":\"\"},\"colorscale\":[[0.0,\"#0d0887\"],[0.1111111111111111,\"#46039f\"],[0.2222222222222222,\"#7201a8\"],[0.3333333333333333,\"#9c179e\"],[0.4444444444444444,\"#bd3786\"],[0.5555555555555556,\"#d8576b\"],[0.6666666666666666,\"#ed7953\"],[0.7777777777777778,\"#fb9f3a\"],[0.8888888888888888,\"#fdca26\"],[1.0,\"#f0f921\"]],\"type\":\"histogram2dcontour\"}],\"mesh3d\":[{\"colorbar\":{\"outlinewidth\":0,\"ticks\":\"\"},\"type\":\"mesh3d\"}],\"parcoords\":[{\"line\":{\"colorbar\":{\"outlinewidth\":0,\"ticks\":\"\"}},\"type\":\"parcoords\"}],\"pie\":[{\"automargin\":true,\"type\":\"pie\"}],\"scatter\":[{\"marker\":{\"colorbar\":{\"outlinewidth\":0,\"ticks\":\"\"}},\"type\":\"scatter\"}],\"scatter3d\":[{\"line\":{\"colorbar\":{\"outlinewidth\":0,\"ticks\":\"\"}},\"marker\":{\"colorbar\":{\"outlinewidth\":0,\"ticks\":\"\"}},\"type\":\"scatter3d\"}],\"scattercarpet\":[{\"marker\":{\"colorbar\":{\"outlinewidth\":0,\"ticks\":\"\"}},\"type\":\"scattercarpet\"}],\"scattergeo\":[{\"marker\":{\"colorbar\":{\"outlinewidth\":0,\"ticks\":\"\"}},\"type\":\"scattergeo\"}],\"scattergl\":[{\"marker\":{\"colorbar\":{\"outlinewidth\":0,\"ticks\":\"\"}},\"type\":\"scattergl\"}],\"scattermapbox\":[{\"marker\":{\"colorbar\":{\"outlinewidth\":0,\"ticks\":\"\"}},\"type\":\"scattermapbox\"}],\"scatterpolar\":[{\"marker\":{\"colorbar\":{\"outlinewidth\":0,\"ticks\":\"\"}},\"type\":\"scatterpolar\"}],\"scatterpolargl\":[{\"marker\":{\"colorbar\":{\"outlinewidth\":0,\"ticks\":\"\"}},\"type\":\"scatterpolargl\"}],\"scatterternary\":[{\"marker\":{\"colorbar\":{\"outlinewidth\":0,\"ticks\":\"\"}},\"type\":\"scatterternary\"}],\"surface\":[{\"colorbar\":{\"outlinewidth\":0,\"ticks\":\"\"},\"colorscale\":[[0.0,\"#0d0887\"],[0.1111111111111111,\"#46039f\"],[0.2222222222222222,\"#7201a8\"],[0.3333333333333333,\"#9c179e\"],[0.4444444444444444,\"#bd3786\"],[0.5555555555555556,\"#d8576b\"],[0.6666666666666666,\"#ed7953\"],[0.7777777777777778,\"#fb9f3a\"],[0.8888888888888888,\"#fdca26\"],[1.0,\"#f0f921\"]],\"type\":\"surface\"}],\"table\":[{\"cells\":{\"fill\":{\"color\":\"#EBF0F8\"},\"line\":{\"color\":\"white\"}},\"header\":{\"fill\":{\"color\":\"#C8D4E3\"},\"line\":{\"color\":\"white\"}},\"type\":\"table\"}]},\"layout\":{\"annotationdefaults\":{\"arrowcolor\":\"#2a3f5f\",\"arrowhead\":0,\"arrowwidth\":1},\"autotypenumbers\":\"strict\",\"coloraxis\":{\"colorbar\":{\"outlinewidth\":0,\"ticks\":\"\"}},\"colorscale\":{\"diverging\":[[0,\"#8e0152\"],[0.1,\"#c51b7d\"],[0.2,\"#de77ae\"],[0.3,\"#f1b6da\"],[0.4,\"#fde0ef\"],[0.5,\"#f7f7f7\"],[0.6,\"#e6f5d0\"],[0.7,\"#b8e186\"],[0.8,\"#7fbc41\"],[0.9,\"#4d9221\"],[1,\"#276419\"]],\"sequential\":[[0.0,\"#0d0887\"],[0.1111111111111111,\"#46039f\"],[0.2222222222222222,\"#7201a8\"],[0.3333333333333333,\"#9c179e\"],[0.4444444444444444,\"#bd3786\"],[0.5555555555555556,\"#d8576b\"],[0.6666666666666666,\"#ed7953\"],[0.7777777777777778,\"#fb9f3a\"],[0.8888888888888888,\"#fdca26\"],[1.0,\"#f0f921\"]],\"sequentialminus\":[[0.0,\"#0d0887\"],[0.1111111111111111,\"#46039f\"],[0.2222222222222222,\"#7201a8\"],[0.3333333333333333,\"#9c179e\"],[0.4444444444444444,\"#bd3786\"],[0.5555555555555556,\"#d8576b\"],[0.6666666666666666,\"#ed7953\"],[0.7777777777777778,\"#fb9f3a\"],[0.8888888888888888,\"#fdca26\"],[1.0,\"#f0f921\"]]},\"colorway\":[\"#636efa\",\"#EF553B\",\"#00cc96\",\"#ab63fa\",\"#FFA15A\",\"#19d3f3\",\"#FF6692\",\"#B6E880\",\"#FF97FF\",\"#FECB52\"],\"font\":{\"color\":\"#2a3f5f\"},\"geo\":{\"bgcolor\":\"white\",\"lakecolor\":\"white\",\"landcolor\":\"#E5ECF6\",\"showlakes\":true,\"showland\":true,\"subunitcolor\":\"white\"},\"hoverlabel\":{\"align\":\"left\"},\"hovermode\":\"closest\",\"mapbox\":{\"style\":\"light\"},\"paper_bgcolor\":\"white\",\"plot_bgcolor\":\"#E5ECF6\",\"polar\":{\"angularaxis\":{\"gridcolor\":\"white\",\"linecolor\":\"white\",\"ticks\":\"\"},\"bgcolor\":\"#E5ECF6\",\"radialaxis\":{\"gridcolor\":\"white\",\"linecolor\":\"white\",\"ticks\":\"\"}},\"scene\":{\"xaxis\":{\"backgroundcolor\":\"#E5ECF6\",\"gridcolor\":\"white\",\"gridwidth\":2,\"linecolor\":\"white\",\"showbackground\":true,\"ticks\":\"\",\"zerolinecolor\":\"white\"},\"yaxis\":{\"backgroundcolor\":\"#E5ECF6\",\"gridcolor\":\"white\",\"gridwidth\":2,\"linecolor\":\"white\",\"showbackground\":true,\"ticks\":\"\",\"zerolinecolor\":\"white\"},\"zaxis\":{\"backgroundcolor\":\"#E5ECF6\",\"gridcolor\":\"white\",\"gridwidth\":2,\"linecolor\":\"white\",\"showbackground\":true,\"ticks\":\"\",\"zerolinecolor\":\"white\"}},\"shapedefaults\":{\"line\":{\"color\":\"#2a3f5f\"}},\"ternary\":{\"aaxis\":{\"gridcolor\":\"white\",\"linecolor\":\"white\",\"ticks\":\"\"},\"baxis\":{\"gridcolor\":\"white\",\"linecolor\":\"white\",\"ticks\":\"\"},\"bgcolor\":\"#E5ECF6\",\"caxis\":{\"gridcolor\":\"white\",\"linecolor\":\"white\",\"ticks\":\"\"}},\"title\":{\"x\":0.05},\"xaxis\":{\"automargin\":true,\"gridcolor\":\"white\",\"linecolor\":\"white\",\"ticks\":\"\",\"title\":{\"standoff\":15},\"zerolinecolor\":\"white\",\"zerolinewidth\":2},\"yaxis\":{\"automargin\":true,\"gridcolor\":\"white\",\"linecolor\":\"white\",\"ticks\":\"\",\"title\":{\"standoff\":15},\"zerolinecolor\":\"white\",\"zerolinewidth\":2}}},\"xaxis\":{\"anchor\":\"y\",\"domain\":[0.0,1.0],\"title\":{\"text\":\"damage\"}},\"yaxis\":{\"anchor\":\"x\",\"domain\":[0.0,1.0],\"title\":{\"text\":\"count\"}},\"legend\":{\"tracegroupgap\":0},\"margin\":{\"t\":60},\"barmode\":\"relative\"},                        {\"responsive\": true}                    ).then(function(){\n",
       "                            \n",
       "var gd = document.getElementById('7fe0f30c-8f83-4bd3-bbac-031d4a824672');\n",
       "var x = new MutationObserver(function (mutations, observer) {{\n",
       "        var display = window.getComputedStyle(gd).display;\n",
       "        if (!display || display === 'none') {{\n",
       "            console.log([gd, 'removed!']);\n",
       "            Plotly.purge(gd);\n",
       "            observer.disconnect();\n",
       "        }}\n",
       "}});\n",
       "\n",
       "// Listen for the removal of the full notebook cells\n",
       "var notebookContainer = gd.closest('#notebook-container');\n",
       "if (notebookContainer) {{\n",
       "    x.observe(notebookContainer, {childList: true});\n",
       "}}\n",
       "\n",
       "// Listen for the clearing of the current output cell\n",
       "var outputEl = gd.closest('.output');\n",
       "if (outputEl) {{\n",
       "    x.observe(outputEl, {childList: true});\n",
       "}}\n",
       "\n",
       "                        })                };                });            </script>        </div>"
      ]
     },
     "metadata": {},
     "output_type": "display_data"
    }
   ],
   "source": [
    "fig = px.histogram(df, x=\"damage\")\n",
    "fig.show()"
   ]
  },
  {
   "cell_type": "code",
   "execution_count": null,
   "id": "dbcda074-77e5-4081-a220-c27ada8a48cc",
   "metadata": {},
   "outputs": [],
   "source": []
  },
  {
   "cell_type": "code",
   "execution_count": 62,
   "id": "9c74f7e6-ee5f-48ab-bf9d-0f7b2deb6aa2",
   "metadata": {},
   "outputs": [
    {
     "data": {
      "application/vnd.plotly.v1+json": {
       "config": {
        "plotlyServerURL": "https://plot.ly"
       },
       "data": [
        {
         "alignmentgroup": "True",
         "bingroup": "x",
         "hovertemplate": "duration=%{x}<br>count=%{y}<extra></extra>",
         "legendgroup": "",
         "marker": {
          "color": "#636efa",
          "pattern": {
           "shape": ""
          }
         },
         "name": "",
         "nbinsx": 20,
         "offsetgroup": "",
         "orientation": "v",
         "showlegend": false,
         "type": "histogram",
         "x": [
          19.75,
          6.75,
          11.25,
          3.25,
          17.25,
          4.25,
          5.5,
          6.75,
          9,
          12.25,
          7.5,
          8,
          13.5,
          6,
          7.25,
          11,
          7.75,
          18.25,
          12.25,
          14,
          14,
          7,
          16,
          16,
          3.75,
          7.25,
          9.5,
          6,
          9.5,
          16,
          11.75,
          4.5,
          8.5,
          8.5,
          4.75,
          4.75,
          2.75,
          6.75,
          3.25,
          12.25,
          11.75,
          7.5,
          7.5,
          8.25,
          7.25,
          4.5,
          12.25,
          12.25,
          1.5,
          5.5,
          9,
          9,
          4.75,
          5.5,
          16.5,
          16.5,
          11,
          14.5,
          3,
          17,
          17,
          4.5,
          5.75,
          7.75,
          9.25,
          13,
          4.5,
          2.75,
          6.25,
          5.75,
          4.75,
          6,
          6,
          7.5,
          16.75,
          9,
          5,
          15,
          10,
          3.5,
          5.75,
          1.25,
          7,
          11.25,
          8.75,
          3.5,
          11.5,
          11.5,
          5,
          10.5,
          13.5,
          6.5,
          14.5,
          5.25,
          10,
          10,
          5.75,
          8.5,
          5,
          15.75,
          15.75,
          15.75,
          16.75,
          21.25,
          5.5,
          3.75,
          7.75,
          16.5,
          14.75,
          6.5,
          6.5,
          11,
          8,
          15.75,
          10.75,
          10.25,
          7.75,
          10.25,
          9,
          6.75,
          6.75,
          3.5,
          5,
          18.5,
          5.75,
          14,
          17.5,
          5,
          5.25,
          16.75,
          10.5,
          12.75,
          11,
          11,
          9.5,
          2.5,
          12.5,
          4.25,
          4.25,
          15.75,
          15.75,
          6.5,
          11.5,
          13,
          15.5,
          14.5,
          9.25,
          16.75,
          13,
          12,
          11.25,
          11.75,
          10,
          6.5,
          11.5,
          8.5,
          8.75,
          12.75,
          4.25,
          20,
          8.5,
          8.75,
          13.5,
          13.5,
          15.5,
          15.5,
          3.5,
          21.5,
          2.25,
          14.25,
          9,
          11.75,
          11,
          17.25,
          9,
          5.5,
          12,
          14.75,
          7.75,
          11.25,
          2.75,
          13,
          5.25,
          7.25,
          7.5,
          9.75,
          7,
          7.5,
          9.5,
          7,
          16.75,
          15,
          5.25,
          6.75,
          15.75,
          14.5,
          14.75,
          3,
          6.75,
          9,
          13.25,
          10.25,
          21.75,
          7.5,
          17.5,
          12,
          12,
          18.75,
          12.5,
          11.5,
          8,
          4.75,
          18.75,
          7.25,
          12.75,
          14,
          13,
          8.25,
          29.25,
          4.25,
          11.5,
          6,
          16.75,
          7.5,
          9,
          8.25,
          9.75,
          11
         ],
         "xaxis": "x",
         "yaxis": "y"
        }
       ],
       "layout": {
        "autosize": true,
        "barmode": "relative",
        "legend": {
         "tracegroupgap": 0
        },
        "margin": {
         "t": 60
        },
        "template": {
         "data": {
          "bar": [
           {
            "error_x": {
             "color": "#2a3f5f"
            },
            "error_y": {
             "color": "#2a3f5f"
            },
            "marker": {
             "line": {
              "color": "#E5ECF6",
              "width": 0.5
             },
             "pattern": {
              "fillmode": "overlay",
              "size": 10,
              "solidity": 0.2
             }
            },
            "type": "bar"
           }
          ],
          "barpolar": [
           {
            "marker": {
             "line": {
              "color": "#E5ECF6",
              "width": 0.5
             },
             "pattern": {
              "fillmode": "overlay",
              "size": 10,
              "solidity": 0.2
             }
            },
            "type": "barpolar"
           }
          ],
          "carpet": [
           {
            "aaxis": {
             "endlinecolor": "#2a3f5f",
             "gridcolor": "white",
             "linecolor": "white",
             "minorgridcolor": "white",
             "startlinecolor": "#2a3f5f"
            },
            "baxis": {
             "endlinecolor": "#2a3f5f",
             "gridcolor": "white",
             "linecolor": "white",
             "minorgridcolor": "white",
             "startlinecolor": "#2a3f5f"
            },
            "type": "carpet"
           }
          ],
          "choropleth": [
           {
            "colorbar": {
             "outlinewidth": 0,
             "ticks": ""
            },
            "type": "choropleth"
           }
          ],
          "contour": [
           {
            "colorbar": {
             "outlinewidth": 0,
             "ticks": ""
            },
            "colorscale": [
             [
              0,
              "#0d0887"
             ],
             [
              0.1111111111111111,
              "#46039f"
             ],
             [
              0.2222222222222222,
              "#7201a8"
             ],
             [
              0.3333333333333333,
              "#9c179e"
             ],
             [
              0.4444444444444444,
              "#bd3786"
             ],
             [
              0.5555555555555556,
              "#d8576b"
             ],
             [
              0.6666666666666666,
              "#ed7953"
             ],
             [
              0.7777777777777778,
              "#fb9f3a"
             ],
             [
              0.8888888888888888,
              "#fdca26"
             ],
             [
              1,
              "#f0f921"
             ]
            ],
            "type": "contour"
           }
          ],
          "contourcarpet": [
           {
            "colorbar": {
             "outlinewidth": 0,
             "ticks": ""
            },
            "type": "contourcarpet"
           }
          ],
          "heatmap": [
           {
            "colorbar": {
             "outlinewidth": 0,
             "ticks": ""
            },
            "colorscale": [
             [
              0,
              "#0d0887"
             ],
             [
              0.1111111111111111,
              "#46039f"
             ],
             [
              0.2222222222222222,
              "#7201a8"
             ],
             [
              0.3333333333333333,
              "#9c179e"
             ],
             [
              0.4444444444444444,
              "#bd3786"
             ],
             [
              0.5555555555555556,
              "#d8576b"
             ],
             [
              0.6666666666666666,
              "#ed7953"
             ],
             [
              0.7777777777777778,
              "#fb9f3a"
             ],
             [
              0.8888888888888888,
              "#fdca26"
             ],
             [
              1,
              "#f0f921"
             ]
            ],
            "type": "heatmap"
           }
          ],
          "heatmapgl": [
           {
            "colorbar": {
             "outlinewidth": 0,
             "ticks": ""
            },
            "colorscale": [
             [
              0,
              "#0d0887"
             ],
             [
              0.1111111111111111,
              "#46039f"
             ],
             [
              0.2222222222222222,
              "#7201a8"
             ],
             [
              0.3333333333333333,
              "#9c179e"
             ],
             [
              0.4444444444444444,
              "#bd3786"
             ],
             [
              0.5555555555555556,
              "#d8576b"
             ],
             [
              0.6666666666666666,
              "#ed7953"
             ],
             [
              0.7777777777777778,
              "#fb9f3a"
             ],
             [
              0.8888888888888888,
              "#fdca26"
             ],
             [
              1,
              "#f0f921"
             ]
            ],
            "type": "heatmapgl"
           }
          ],
          "histogram": [
           {
            "marker": {
             "pattern": {
              "fillmode": "overlay",
              "size": 10,
              "solidity": 0.2
             }
            },
            "type": "histogram"
           }
          ],
          "histogram2d": [
           {
            "colorbar": {
             "outlinewidth": 0,
             "ticks": ""
            },
            "colorscale": [
             [
              0,
              "#0d0887"
             ],
             [
              0.1111111111111111,
              "#46039f"
             ],
             [
              0.2222222222222222,
              "#7201a8"
             ],
             [
              0.3333333333333333,
              "#9c179e"
             ],
             [
              0.4444444444444444,
              "#bd3786"
             ],
             [
              0.5555555555555556,
              "#d8576b"
             ],
             [
              0.6666666666666666,
              "#ed7953"
             ],
             [
              0.7777777777777778,
              "#fb9f3a"
             ],
             [
              0.8888888888888888,
              "#fdca26"
             ],
             [
              1,
              "#f0f921"
             ]
            ],
            "type": "histogram2d"
           }
          ],
          "histogram2dcontour": [
           {
            "colorbar": {
             "outlinewidth": 0,
             "ticks": ""
            },
            "colorscale": [
             [
              0,
              "#0d0887"
             ],
             [
              0.1111111111111111,
              "#46039f"
             ],
             [
              0.2222222222222222,
              "#7201a8"
             ],
             [
              0.3333333333333333,
              "#9c179e"
             ],
             [
              0.4444444444444444,
              "#bd3786"
             ],
             [
              0.5555555555555556,
              "#d8576b"
             ],
             [
              0.6666666666666666,
              "#ed7953"
             ],
             [
              0.7777777777777778,
              "#fb9f3a"
             ],
             [
              0.8888888888888888,
              "#fdca26"
             ],
             [
              1,
              "#f0f921"
             ]
            ],
            "type": "histogram2dcontour"
           }
          ],
          "mesh3d": [
           {
            "colorbar": {
             "outlinewidth": 0,
             "ticks": ""
            },
            "type": "mesh3d"
           }
          ],
          "parcoords": [
           {
            "line": {
             "colorbar": {
              "outlinewidth": 0,
              "ticks": ""
             }
            },
            "type": "parcoords"
           }
          ],
          "pie": [
           {
            "automargin": true,
            "type": "pie"
           }
          ],
          "scatter": [
           {
            "marker": {
             "colorbar": {
              "outlinewidth": 0,
              "ticks": ""
             }
            },
            "type": "scatter"
           }
          ],
          "scatter3d": [
           {
            "line": {
             "colorbar": {
              "outlinewidth": 0,
              "ticks": ""
             }
            },
            "marker": {
             "colorbar": {
              "outlinewidth": 0,
              "ticks": ""
             }
            },
            "type": "scatter3d"
           }
          ],
          "scattercarpet": [
           {
            "marker": {
             "colorbar": {
              "outlinewidth": 0,
              "ticks": ""
             }
            },
            "type": "scattercarpet"
           }
          ],
          "scattergeo": [
           {
            "marker": {
             "colorbar": {
              "outlinewidth": 0,
              "ticks": ""
             }
            },
            "type": "scattergeo"
           }
          ],
          "scattergl": [
           {
            "marker": {
             "colorbar": {
              "outlinewidth": 0,
              "ticks": ""
             }
            },
            "type": "scattergl"
           }
          ],
          "scattermapbox": [
           {
            "marker": {
             "colorbar": {
              "outlinewidth": 0,
              "ticks": ""
             }
            },
            "type": "scattermapbox"
           }
          ],
          "scatterpolar": [
           {
            "marker": {
             "colorbar": {
              "outlinewidth": 0,
              "ticks": ""
             }
            },
            "type": "scatterpolar"
           }
          ],
          "scatterpolargl": [
           {
            "marker": {
             "colorbar": {
              "outlinewidth": 0,
              "ticks": ""
             }
            },
            "type": "scatterpolargl"
           }
          ],
          "scatterternary": [
           {
            "marker": {
             "colorbar": {
              "outlinewidth": 0,
              "ticks": ""
             }
            },
            "type": "scatterternary"
           }
          ],
          "surface": [
           {
            "colorbar": {
             "outlinewidth": 0,
             "ticks": ""
            },
            "colorscale": [
             [
              0,
              "#0d0887"
             ],
             [
              0.1111111111111111,
              "#46039f"
             ],
             [
              0.2222222222222222,
              "#7201a8"
             ],
             [
              0.3333333333333333,
              "#9c179e"
             ],
             [
              0.4444444444444444,
              "#bd3786"
             ],
             [
              0.5555555555555556,
              "#d8576b"
             ],
             [
              0.6666666666666666,
              "#ed7953"
             ],
             [
              0.7777777777777778,
              "#fb9f3a"
             ],
             [
              0.8888888888888888,
              "#fdca26"
             ],
             [
              1,
              "#f0f921"
             ]
            ],
            "type": "surface"
           }
          ],
          "table": [
           {
            "cells": {
             "fill": {
              "color": "#EBF0F8"
             },
             "line": {
              "color": "white"
             }
            },
            "header": {
             "fill": {
              "color": "#C8D4E3"
             },
             "line": {
              "color": "white"
             }
            },
            "type": "table"
           }
          ]
         },
         "layout": {
          "annotationdefaults": {
           "arrowcolor": "#2a3f5f",
           "arrowhead": 0,
           "arrowwidth": 1
          },
          "autotypenumbers": "strict",
          "coloraxis": {
           "colorbar": {
            "outlinewidth": 0,
            "ticks": ""
           }
          },
          "colorscale": {
           "diverging": [
            [
             0,
             "#8e0152"
            ],
            [
             0.1,
             "#c51b7d"
            ],
            [
             0.2,
             "#de77ae"
            ],
            [
             0.3,
             "#f1b6da"
            ],
            [
             0.4,
             "#fde0ef"
            ],
            [
             0.5,
             "#f7f7f7"
            ],
            [
             0.6,
             "#e6f5d0"
            ],
            [
             0.7,
             "#b8e186"
            ],
            [
             0.8,
             "#7fbc41"
            ],
            [
             0.9,
             "#4d9221"
            ],
            [
             1,
             "#276419"
            ]
           ],
           "sequential": [
            [
             0,
             "#0d0887"
            ],
            [
             0.1111111111111111,
             "#46039f"
            ],
            [
             0.2222222222222222,
             "#7201a8"
            ],
            [
             0.3333333333333333,
             "#9c179e"
            ],
            [
             0.4444444444444444,
             "#bd3786"
            ],
            [
             0.5555555555555556,
             "#d8576b"
            ],
            [
             0.6666666666666666,
             "#ed7953"
            ],
            [
             0.7777777777777778,
             "#fb9f3a"
            ],
            [
             0.8888888888888888,
             "#fdca26"
            ],
            [
             1,
             "#f0f921"
            ]
           ],
           "sequentialminus": [
            [
             0,
             "#0d0887"
            ],
            [
             0.1111111111111111,
             "#46039f"
            ],
            [
             0.2222222222222222,
             "#7201a8"
            ],
            [
             0.3333333333333333,
             "#9c179e"
            ],
            [
             0.4444444444444444,
             "#bd3786"
            ],
            [
             0.5555555555555556,
             "#d8576b"
            ],
            [
             0.6666666666666666,
             "#ed7953"
            ],
            [
             0.7777777777777778,
             "#fb9f3a"
            ],
            [
             0.8888888888888888,
             "#fdca26"
            ],
            [
             1,
             "#f0f921"
            ]
           ]
          },
          "colorway": [
           "#636efa",
           "#EF553B",
           "#00cc96",
           "#ab63fa",
           "#FFA15A",
           "#19d3f3",
           "#FF6692",
           "#B6E880",
           "#FF97FF",
           "#FECB52"
          ],
          "font": {
           "color": "#2a3f5f"
          },
          "geo": {
           "bgcolor": "white",
           "lakecolor": "white",
           "landcolor": "#E5ECF6",
           "showlakes": true,
           "showland": true,
           "subunitcolor": "white"
          },
          "hoverlabel": {
           "align": "left"
          },
          "hovermode": "closest",
          "mapbox": {
           "style": "light"
          },
          "paper_bgcolor": "white",
          "plot_bgcolor": "#E5ECF6",
          "polar": {
           "angularaxis": {
            "gridcolor": "white",
            "linecolor": "white",
            "ticks": ""
           },
           "bgcolor": "#E5ECF6",
           "radialaxis": {
            "gridcolor": "white",
            "linecolor": "white",
            "ticks": ""
           }
          },
          "scene": {
           "xaxis": {
            "backgroundcolor": "#E5ECF6",
            "gridcolor": "white",
            "gridwidth": 2,
            "linecolor": "white",
            "showbackground": true,
            "ticks": "",
            "zerolinecolor": "white"
           },
           "yaxis": {
            "backgroundcolor": "#E5ECF6",
            "gridcolor": "white",
            "gridwidth": 2,
            "linecolor": "white",
            "showbackground": true,
            "ticks": "",
            "zerolinecolor": "white"
           },
           "zaxis": {
            "backgroundcolor": "#E5ECF6",
            "gridcolor": "white",
            "gridwidth": 2,
            "linecolor": "white",
            "showbackground": true,
            "ticks": "",
            "zerolinecolor": "white"
           }
          },
          "shapedefaults": {
           "line": {
            "color": "#2a3f5f"
           }
          },
          "ternary": {
           "aaxis": {
            "gridcolor": "white",
            "linecolor": "white",
            "ticks": ""
           },
           "baxis": {
            "gridcolor": "white",
            "linecolor": "white",
            "ticks": ""
           },
           "bgcolor": "#E5ECF6",
           "caxis": {
            "gridcolor": "white",
            "linecolor": "white",
            "ticks": ""
           }
          },
          "title": {
           "x": 0.05
          },
          "xaxis": {
           "automargin": true,
           "gridcolor": "white",
           "linecolor": "white",
           "ticks": "",
           "title": {
            "standoff": 15
           },
           "zerolinecolor": "white",
           "zerolinewidth": 2
          },
          "yaxis": {
           "automargin": true,
           "gridcolor": "white",
           "linecolor": "white",
           "ticks": "",
           "title": {
            "standoff": 15
           },
           "zerolinecolor": "white",
           "zerolinewidth": 2
          }
         }
        },
        "xaxis": {
         "anchor": "y",
         "autorange": true,
         "domain": [
          0,
          1
         ],
         "range": [
          0,
          30
         ],
         "title": {
          "text": "duration"
         },
         "type": "linear"
        },
        "yaxis": {
         "anchor": "x",
         "autorange": true,
         "domain": [
          0,
          1
         ],
         "range": [
          0,
          42.10526315789474
         ],
         "title": {
          "text": "count"
         }
        }
       }
      },
      "image/png": "[encoded data removed]",
      "text/html": [
       "<div>                            <div id=\"c0f3ac66-8e74-4806-b781-0f25f6071ace\" class=\"plotly-graph-div\" style=\"height:525px; width:100%;\"></div>            <script type=\"text/javascript\">                require([\"plotly\"], function(Plotly) {                    window.PLOTLYENV=window.PLOTLYENV || {};                                    if (document.getElementById(\"c0f3ac66-8e74-4806-b781-0f25f6071ace\")) {                    Plotly.newPlot(                        \"c0f3ac66-8e74-4806-b781-0f25f6071ace\",                        [{\"alignmentgroup\":\"True\",\"bingroup\":\"x\",\"hovertemplate\":\"duration=%{x}<br>count=%{y}<extra></extra>\",\"legendgroup\":\"\",\"marker\":{\"color\":\"#636efa\",\"pattern\":{\"shape\":\"\"}},\"name\":\"\",\"nbinsx\":20,\"offsetgroup\":\"\",\"orientation\":\"v\",\"showlegend\":false,\"x\":[19.75,6.75,11.25,3.25,17.25,4.25,5.5,6.75,9.0,12.25,7.5,8.0,13.5,6.0,7.25,11.0,7.75,18.25,12.25,14.0,14.0,7.0,16.0,16.0,3.75,7.25,9.5,6.0,9.5,16.0,11.75,4.5,8.5,8.5,4.75,4.75,2.75,6.75,3.25,12.25,11.75,7.5,7.5,8.25,7.25,4.5,12.25,12.25,1.5,5.5,9.0,9.0,4.75,5.5,16.5,16.5,11.0,14.5,3.0,17.0,17.0,4.5,5.75,7.75,9.25,13.0,4.5,2.75,6.25,5.75,4.75,6.0,6.0,7.5,16.75,9.0,5.0,15.0,10.0,3.5,5.75,1.25,7.0,11.25,8.75,3.5,11.5,11.5,5.0,10.5,13.5,6.5,14.5,5.25,10.0,10.0,5.75,8.5,5.0,15.75,15.75,15.75,16.75,21.25,5.5,3.75,7.75,16.5,14.75,6.5,6.5,11.0,8.0,15.75,10.75,10.25,7.75,10.25,9.0,6.75,6.75,3.5,5.0,18.5,5.75,14.0,17.5,5.0,5.25,16.75,10.5,12.75,11.0,11.0,9.5,2.5,12.5,4.25,4.25,15.75,15.75,6.5,11.5,13.0,15.5,14.5,9.25,16.75,13.0,12.0,11.25,11.75,10.0,6.5,11.5,8.5,8.75,12.75,4.25,20.0,8.5,8.75,13.5,13.5,15.5,15.5,3.5,21.5,2.25,14.25,9.0,11.75,11.0,17.25,9.0,5.5,12.0,14.75,7.75,11.25,2.75,13.0,5.25,7.25,7.5,9.75,7.0,7.5,9.5,7.0,16.75,15.0,5.25,6.75,15.75,14.5,14.75,3.0,6.75,9.0,13.25,10.25,21.75,7.5,17.5,12.0,12.0,18.75,12.5,11.5,8.0,4.75,18.75,7.25,12.75,14.0,13.0,8.25,29.25,4.25,11.5,6.0,16.75,7.5,9.0,8.25,9.75,11.0],\"xaxis\":\"x\",\"yaxis\":\"y\",\"type\":\"histogram\"}],                        {\"template\":{\"data\":{\"bar\":[{\"error_x\":{\"color\":\"#2a3f5f\"},\"error_y\":{\"color\":\"#2a3f5f\"},\"marker\":{\"line\":{\"color\":\"#E5ECF6\",\"width\":0.5},\"pattern\":{\"fillmode\":\"overlay\",\"size\":10,\"solidity\":0.2}},\"type\":\"bar\"}],\"barpolar\":[{\"marker\":{\"line\":{\"color\":\"#E5ECF6\",\"width\":0.5},\"pattern\":{\"fillmode\":\"overlay\",\"size\":10,\"solidity\":0.2}},\"type\":\"barpolar\"}],\"carpet\":[{\"aaxis\":{\"endlinecolor\":\"#2a3f5f\",\"gridcolor\":\"white\",\"linecolor\":\"white\",\"minorgridcolor\":\"white\",\"startlinecolor\":\"#2a3f5f\"},\"baxis\":{\"endlinecolor\":\"#2a3f5f\",\"gridcolor\":\"white\",\"linecolor\":\"white\",\"minorgridcolor\":\"white\",\"startlinecolor\":\"#2a3f5f\"},\"type\":\"carpet\"}],\"choropleth\":[{\"colorbar\":{\"outlinewidth\":0,\"ticks\":\"\"},\"type\":\"choropleth\"}],\"contour\":[{\"colorbar\":{\"outlinewidth\":0,\"ticks\":\"\"},\"colorscale\":[[0.0,\"#0d0887\"],[0.1111111111111111,\"#46039f\"],[0.2222222222222222,\"#7201a8\"],[0.3333333333333333,\"#9c179e\"],[0.4444444444444444,\"#bd3786\"],[0.5555555555555556,\"#d8576b\"],[0.6666666666666666,\"#ed7953\"],[0.7777777777777778,\"#fb9f3a\"],[0.8888888888888888,\"#fdca26\"],[1.0,\"#f0f921\"]],\"type\":\"contour\"}],\"contourcarpet\":[{\"colorbar\":{\"outlinewidth\":0,\"ticks\":\"\"},\"type\":\"contourcarpet\"}],\"heatmap\":[{\"colorbar\":{\"outlinewidth\":0,\"ticks\":\"\"},\"colorscale\":[[0.0,\"#0d0887\"],[0.1111111111111111,\"#46039f\"],[0.2222222222222222,\"#7201a8\"],[0.3333333333333333,\"#9c179e\"],[0.4444444444444444,\"#bd3786\"],[0.5555555555555556,\"#d8576b\"],[0.6666666666666666,\"#ed7953\"],[0.7777777777777778,\"#fb9f3a\"],[0.8888888888888888,\"#fdca26\"],[1.0,\"#f0f921\"]],\"type\":\"heatmap\"}],\"heatmapgl\":[{\"colorbar\":{\"outlinewidth\":0,\"ticks\":\"\"},\"colorscale\":[[0.0,\"#0d0887\"],[0.1111111111111111,\"#46039f\"],[0.2222222222222222,\"#7201a8\"],[0.3333333333333333,\"#9c179e\"],[0.4444444444444444,\"#bd3786\"],[0.5555555555555556,\"#d8576b\"],[0.6666666666666666,\"#ed7953\"],[0.7777777777777778,\"#fb9f3a\"],[0.8888888888888888,\"#fdca26\"],[1.0,\"#f0f921\"]],\"type\":\"heatmapgl\"}],\"histogram\":[{\"marker\":{\"pattern\":{\"fillmode\":\"overlay\",\"size\":10,\"solidity\":0.2}},\"type\":\"histogram\"}],\"histogram2d\":[{\"colorbar\":{\"outlinewidth\":0,\"ticks\":\"\"},\"colorscale\":[[0.0,\"#0d0887\"],[0.1111111111111111,\"#46039f\"],[0.2222222222222222,\"#7201a8\"],[0.3333333333333333,\"#9c179e\"],[0.4444444444444444,\"#bd3786\"],[0.5555555555555556,\"#d8576b\"],[0.6666666666666666,\"#ed7953\"],[0.7777777777777778,\"#fb9f3a\"],[0.8888888888888888,\"#fdca26\"],[1.0,\"#f0f921\"]],\"type\":\"histogram2d\"}],\"histogram2dcontour\":[{\"colorbar\":{\"outlinewidth\":0,\"ticks\":\"\"},\"colorscale\":[[0.0,\"#0d0887\"],[0.1111111111111111,\"#46039f\"],[0.2222222222222222,\"#7201a8\"],[0.3333333333333333,\"#9c179e\"],[0.4444444444444444,\"#bd3786\"],[0.5555555555555556,\"#d8576b\"],[0.6666666666666666,\"#ed7953\"],[0.7777777777777778,\"#fb9f3a\"],[0.8888888888888888,\"#fdca26\"],[1.0,\"#f0f921\"]],\"type\":\"histogram2dcontour\"}],\"mesh3d\":[{\"colorbar\":{\"outlinewidth\":0,\"ticks\":\"\"},\"type\":\"mesh3d\"}],\"parcoords\":[{\"line\":{\"colorbar\":{\"outlinewidth\":0,\"ticks\":\"\"}},\"type\":\"parcoords\"}],\"pie\":[{\"automargin\":true,\"type\":\"pie\"}],\"scatter\":[{\"marker\":{\"colorbar\":{\"outlinewidth\":0,\"ticks\":\"\"}},\"type\":\"scatter\"}],\"scatter3d\":[{\"line\":{\"colorbar\":{\"outlinewidth\":0,\"ticks\":\"\"}},\"marker\":{\"colorbar\":{\"outlinewidth\":0,\"ticks\":\"\"}},\"type\":\"scatter3d\"}],\"scattercarpet\":[{\"marker\":{\"colorbar\":{\"outlinewidth\":0,\"ticks\":\"\"}},\"type\":\"scattercarpet\"}],\"scattergeo\":[{\"marker\":{\"colorbar\":{\"outlinewidth\":0,\"ticks\":\"\"}},\"type\":\"scattergeo\"}],\"scattergl\":[{\"marker\":{\"colorbar\":{\"outlinewidth\":0,\"ticks\":\"\"}},\"type\":\"scattergl\"}],\"scattermapbox\":[{\"marker\":{\"colorbar\":{\"outlinewidth\":0,\"ticks\":\"\"}},\"type\":\"scattermapbox\"}],\"scatterpolar\":[{\"marker\":{\"colorbar\":{\"outlinewidth\":0,\"ticks\":\"\"}},\"type\":\"scatterpolar\"}],\"scatterpolargl\":[{\"marker\":{\"colorbar\":{\"outlinewidth\":0,\"ticks\":\"\"}},\"type\":\"scatterpolargl\"}],\"scatterternary\":[{\"marker\":{\"colorbar\":{\"outlinewidth\":0,\"ticks\":\"\"}},\"type\":\"scatterternary\"}],\"surface\":[{\"colorbar\":{\"outlinewidth\":0,\"ticks\":\"\"},\"colorscale\":[[0.0,\"#0d0887\"],[0.1111111111111111,\"#46039f\"],[0.2222222222222222,\"#7201a8\"],[0.3333333333333333,\"#9c179e\"],[0.4444444444444444,\"#bd3786\"],[0.5555555555555556,\"#d8576b\"],[0.6666666666666666,\"#ed7953\"],[0.7777777777777778,\"#fb9f3a\"],[0.8888888888888888,\"#fdca26\"],[1.0,\"#f0f921\"]],\"type\":\"surface\"}],\"table\":[{\"cells\":{\"fill\":{\"color\":\"#EBF0F8\"},\"line\":{\"color\":\"white\"}},\"header\":{\"fill\":{\"color\":\"#C8D4E3\"},\"line\":{\"color\":\"white\"}},\"type\":\"table\"}]},\"layout\":{\"annotationdefaults\":{\"arrowcolor\":\"#2a3f5f\",\"arrowhead\":0,\"arrowwidth\":1},\"autotypenumbers\":\"strict\",\"coloraxis\":{\"colorbar\":{\"outlinewidth\":0,\"ticks\":\"\"}},\"colorscale\":{\"diverging\":[[0,\"#8e0152\"],[0.1,\"#c51b7d\"],[0.2,\"#de77ae\"],[0.3,\"#f1b6da\"],[0.4,\"#fde0ef\"],[0.5,\"#f7f7f7\"],[0.6,\"#e6f5d0\"],[0.7,\"#b8e186\"],[0.8,\"#7fbc41\"],[0.9,\"#4d9221\"],[1,\"#276419\"]],\"sequential\":[[0.0,\"#0d0887\"],[0.1111111111111111,\"#46039f\"],[0.2222222222222222,\"#7201a8\"],[0.3333333333333333,\"#9c179e\"],[0.4444444444444444,\"#bd3786\"],[0.5555555555555556,\"#d8576b\"],[0.6666666666666666,\"#ed7953\"],[0.7777777777777778,\"#fb9f3a\"],[0.8888888888888888,\"#fdca26\"],[1.0,\"#f0f921\"]],\"sequentialminus\":[[0.0,\"#0d0887\"],[0.1111111111111111,\"#46039f\"],[0.2222222222222222,\"#7201a8\"],[0.3333333333333333,\"#9c179e\"],[0.4444444444444444,\"#bd3786\"],[0.5555555555555556,\"#d8576b\"],[0.6666666666666666,\"#ed7953\"],[0.7777777777777778,\"#fb9f3a\"],[0.8888888888888888,\"#fdca26\"],[1.0,\"#f0f921\"]]},\"colorway\":[\"#636efa\",\"#EF553B\",\"#00cc96\",\"#ab63fa\",\"#FFA15A\",\"#19d3f3\",\"#FF6692\",\"#B6E880\",\"#FF97FF\",\"#FECB52\"],\"font\":{\"color\":\"#2a3f5f\"},\"geo\":{\"bgcolor\":\"white\",\"lakecolor\":\"white\",\"landcolor\":\"#E5ECF6\",\"showlakes\":true,\"showland\":true,\"subunitcolor\":\"white\"},\"hoverlabel\":{\"align\":\"left\"},\"hovermode\":\"closest\",\"mapbox\":{\"style\":\"light\"},\"paper_bgcolor\":\"white\",\"plot_bgcolor\":\"#E5ECF6\",\"polar\":{\"angularaxis\":{\"gridcolor\":\"white\",\"linecolor\":\"white\",\"ticks\":\"\"},\"bgcolor\":\"#E5ECF6\",\"radialaxis\":{\"gridcolor\":\"white\",\"linecolor\":\"white\",\"ticks\":\"\"}},\"scene\":{\"xaxis\":{\"backgroundcolor\":\"#E5ECF6\",\"gridcolor\":\"white\",\"gridwidth\":2,\"linecolor\":\"white\",\"showbackground\":true,\"ticks\":\"\",\"zerolinecolor\":\"white\"},\"yaxis\":{\"backgroundcolor\":\"#E5ECF6\",\"gridcolor\":\"white\",\"gridwidth\":2,\"linecolor\":\"white\",\"showbackground\":true,\"ticks\":\"\",\"zerolinecolor\":\"white\"},\"zaxis\":{\"backgroundcolor\":\"#E5ECF6\",\"gridcolor\":\"white\",\"gridwidth\":2,\"linecolor\":\"white\",\"showbackground\":true,\"ticks\":\"\",\"zerolinecolor\":\"white\"}},\"shapedefaults\":{\"line\":{\"color\":\"#2a3f5f\"}},\"ternary\":{\"aaxis\":{\"gridcolor\":\"white\",\"linecolor\":\"white\",\"ticks\":\"\"},\"baxis\":{\"gridcolor\":\"white\",\"linecolor\":\"white\",\"ticks\":\"\"},\"bgcolor\":\"#E5ECF6\",\"caxis\":{\"gridcolor\":\"white\",\"linecolor\":\"white\",\"ticks\":\"\"}},\"title\":{\"x\":0.05},\"xaxis\":{\"automargin\":true,\"gridcolor\":\"white\",\"linecolor\":\"white\",\"ticks\":\"\",\"title\":{\"standoff\":15},\"zerolinecolor\":\"white\",\"zerolinewidth\":2},\"yaxis\":{\"automargin\":true,\"gridcolor\":\"white\",\"linecolor\":\"white\",\"ticks\":\"\",\"title\":{\"standoff\":15},\"zerolinecolor\":\"white\",\"zerolinewidth\":2}}},\"xaxis\":{\"anchor\":\"y\",\"domain\":[0.0,1.0],\"title\":{\"text\":\"duration\"}},\"yaxis\":{\"anchor\":\"x\",\"domain\":[0.0,1.0],\"title\":{\"text\":\"count\"}},\"legend\":{\"tracegroupgap\":0},\"margin\":{\"t\":60},\"barmode\":\"relative\"},                        {\"responsive\": true}                    ).then(function(){\n",
       "                            \n",
       "var gd = document.getElementById('c0f3ac66-8e74-4806-b781-0f25f6071ace');\n",
       "var x = new MutationObserver(function (mutations, observer) {{\n",
       "        var display = window.getComputedStyle(gd).display;\n",
       "        if (!display || display === 'none') {{\n",
       "            console.log([gd, 'removed!']);\n",
       "            Plotly.purge(gd);\n",
       "            observer.disconnect();\n",
       "        }}\n",
       "}});\n",
       "\n",
       "// Listen for the removal of the full notebook cells\n",
       "var notebookContainer = gd.closest('#notebook-container');\n",
       "if (notebookContainer) {{\n",
       "    x.observe(notebookContainer, {childList: true});\n",
       "}}\n",
       "\n",
       "// Listen for the clearing of the current output cell\n",
       "var outputEl = gd.closest('.output');\n",
       "if (outputEl) {{\n",
       "    x.observe(outputEl, {childList: true});\n",
       "}}\n",
       "\n",
       "                        })                };                });            </script>        </div>"
      ]
     },
     "metadata": {},
     "output_type": "display_data"
    }
   ],
   "source": [
    "fig = px.histogram(df, x=\"duration\", nbins = 20)\n",
    "fig.show()"
   ]
  },
  {
   "cell_type": "code",
   "execution_count": 63,
   "id": "5d79fe00-3730-4ab6-ad16-9e5d8e335460",
   "metadata": {},
   "outputs": [
    {
     "data": {
      "text/html": [
       "<div>\n",
       "<style scoped>\n",
       "    .dataframe tbody tr th:only-of-type {\n",
       "        vertical-align: middle;\n",
       "    }\n",
       "\n",
       "    .dataframe tbody tr th {\n",
       "        vertical-align: top;\n",
       "    }\n",
       "\n",
       "    .dataframe thead th {\n",
       "        text-align: right;\n",
       "    }\n",
       "</style>\n",
       "<table border=\"1\" class=\"dataframe\">\n",
       "  <thead>\n",
       "    <tr style=\"text-align: right;\">\n",
       "      <th></th>\n",
       "      <th>storm_id</th>\n",
       "      <th>duration</th>\n",
       "      <th>name</th>\n",
       "      <th>damage</th>\n",
       "      <th>time</th>\n",
       "      <th>wind</th>\n",
       "      <th>pressure</th>\n",
       "      <th>state</th>\n",
       "      <th>lat</th>\n",
       "      <th>lon</th>\n",
       "      <th>elevation</th>\n",
       "      <th>rainfall</th>\n",
       "      <th>category</th>\n",
       "      <th>year</th>\n",
       "      <th>month</th>\n",
       "    </tr>\n",
       "  </thead>\n",
       "  <tbody>\n",
       "    <tr>\n",
       "      <th>203</th>\n",
       "      <td>AL122005</td>\n",
       "      <td>7.5</td>\n",
       "      <td>Katrina</td>\n",
       "      <td>148240000000</td>\n",
       "      <td>2005-08-29 11:30:00</td>\n",
       "      <td>116</td>\n",
       "      <td>922.0</td>\n",
       "      <td>LA</td>\n",
       "      <td>29.384533</td>\n",
       "      <td>-89.6027</td>\n",
       "      <td>0.670101</td>\n",
       "      <td>16.43</td>\n",
       "      <td>3</td>\n",
       "      <td>2005</td>\n",
       "      <td>8</td>\n",
       "    </tr>\n",
       "  </tbody>\n",
       "</table>\n",
       "</div>"
      ],
      "text/plain": [
       "     storm_id  duration     name        damage                time  wind  \\\n",
       "203  AL122005       7.5  Katrina  148240000000 2005-08-29 11:30:00   116   \n",
       "\n",
       "     pressure state        lat      lon  elevation  rainfall  category  year  \\\n",
       "203     922.0    LA  29.384533 -89.6027   0.670101     16.43         3  2005   \n",
       "\n",
       "     month  \n",
       "203      8  "
      ]
     },
     "execution_count": 63,
     "metadata": {},
     "output_type": "execute_result"
    }
   ],
   "source": [
    "df[df.name == 'Katrina']"
   ]
  },
  {
   "cell_type": "code",
   "execution_count": 64,
   "id": "63168f0e-c77e-4c83-85a3-0cead00e47e2",
   "metadata": {},
   "outputs": [
    {
     "data": {
      "text/html": [
       "<div>\n",
       "<style scoped>\n",
       "    .dataframe tbody tr th:only-of-type {\n",
       "        vertical-align: middle;\n",
       "    }\n",
       "\n",
       "    .dataframe tbody tr th {\n",
       "        vertical-align: top;\n",
       "    }\n",
       "\n",
       "    .dataframe thead th {\n",
       "        text-align: right;\n",
       "    }\n",
       "</style>\n",
       "<table border=\"1\" class=\"dataframe\">\n",
       "  <thead>\n",
       "    <tr style=\"text-align: right;\">\n",
       "      <th></th>\n",
       "      <th>storm_id</th>\n",
       "      <th>duration</th>\n",
       "      <th>name</th>\n",
       "      <th>damage</th>\n",
       "      <th>time</th>\n",
       "      <th>wind</th>\n",
       "      <th>pressure</th>\n",
       "      <th>state</th>\n",
       "      <th>lat</th>\n",
       "      <th>lon</th>\n",
       "      <th>elevation</th>\n",
       "      <th>rainfall</th>\n",
       "      <th>category</th>\n",
       "      <th>year</th>\n",
       "      <th>month</th>\n",
       "    </tr>\n",
       "  </thead>\n",
       "  <tbody>\n",
       "    <tr>\n",
       "      <th>0</th>\n",
       "      <td>AL011900</td>\n",
       "      <td>19.75</td>\n",
       "      <td>AL011900</td>\n",
       "      <td>171510000000</td>\n",
       "      <td>1900-09-09 02:30:00</td>\n",
       "      <td>120</td>\n",
       "      <td>936.0</td>\n",
       "      <td>TX</td>\n",
       "      <td>29.1711</td>\n",
       "      <td>-95.2018</td>\n",
       "      <td>1.306692</td>\n",
       "      <td>10.25</td>\n",
       "      <td>3</td>\n",
       "      <td>1900</td>\n",
       "      <td>9</td>\n",
       "    </tr>\n",
       "    <tr>\n",
       "      <th>132</th>\n",
       "      <td>AL071926</td>\n",
       "      <td>11.00</td>\n",
       "      <td>AL071926</td>\n",
       "      <td>242750000000</td>\n",
       "      <td>1926-09-18 12:00:00</td>\n",
       "      <td>125</td>\n",
       "      <td>930.0</td>\n",
       "      <td>FL</td>\n",
       "      <td>25.6000</td>\n",
       "      <td>-80.3000</td>\n",
       "      <td>-0.700000</td>\n",
       "      <td>18.50</td>\n",
       "      <td>3</td>\n",
       "      <td>1926</td>\n",
       "      <td>9</td>\n",
       "    </tr>\n",
       "  </tbody>\n",
       "</table>\n",
       "</div>"
      ],
      "text/plain": [
       "     storm_id  duration      name        damage                time  wind  \\\n",
       "0    AL011900     19.75  AL011900  171510000000 1900-09-09 02:30:00   120   \n",
       "132  AL071926     11.00  AL071926  242750000000 1926-09-18 12:00:00   125   \n",
       "\n",
       "     pressure state      lat      lon  elevation  rainfall  category  year  \\\n",
       "0       936.0    TX  29.1711 -95.2018   1.306692     10.25         3  1900   \n",
       "132     930.0    FL  25.6000 -80.3000  -0.700000     18.50         3  1926   \n",
       "\n",
       "     month  \n",
       "0        9  \n",
       "132      9  "
      ]
     },
     "execution_count": 64,
     "metadata": {},
     "output_type": "execute_result"
    }
   ],
   "source": [
    "df[df.damage > 148240000000]"
   ]
  },
  {
   "cell_type": "code",
   "execution_count": 65,
   "id": "f2f43be7-30e8-4162-b77e-e79c1307bcaf",
   "metadata": {},
   "outputs": [
    {
     "data": {
      "text/html": [
       "<div>\n",
       "<style scoped>\n",
       "    .dataframe tbody tr th:only-of-type {\n",
       "        vertical-align: middle;\n",
       "    }\n",
       "\n",
       "    .dataframe tbody tr th {\n",
       "        vertical-align: top;\n",
       "    }\n",
       "\n",
       "    .dataframe thead th {\n",
       "        text-align: right;\n",
       "    }\n",
       "</style>\n",
       "<table border=\"1\" class=\"dataframe\">\n",
       "  <thead>\n",
       "    <tr style=\"text-align: right;\">\n",
       "      <th></th>\n",
       "      <th>storm_id</th>\n",
       "      <th>duration</th>\n",
       "      <th>name</th>\n",
       "      <th>damage</th>\n",
       "      <th>time</th>\n",
       "      <th>wind</th>\n",
       "      <th>pressure</th>\n",
       "      <th>state</th>\n",
       "      <th>lat</th>\n",
       "      <th>lon</th>\n",
       "      <th>elevation</th>\n",
       "      <th>rainfall</th>\n",
       "      <th>category</th>\n",
       "      <th>year</th>\n",
       "      <th>month</th>\n",
       "    </tr>\n",
       "  </thead>\n",
       "  <tbody>\n",
       "    <tr>\n",
       "      <th>0</th>\n",
       "      <td>AL011900</td>\n",
       "      <td>19.75</td>\n",
       "      <td>AL011900</td>\n",
       "      <td>171510000000</td>\n",
       "      <td>1900-09-09 02:30:00</td>\n",
       "      <td>120</td>\n",
       "      <td>936.0</td>\n",
       "      <td>TX</td>\n",
       "      <td>29.171100</td>\n",
       "      <td>-95.201800</td>\n",
       "      <td>1.306692</td>\n",
       "      <td>10.25</td>\n",
       "      <td>3</td>\n",
       "      <td>1900</td>\n",
       "      <td>9</td>\n",
       "    </tr>\n",
       "    <tr>\n",
       "      <th>1</th>\n",
       "      <td>AL011918</td>\n",
       "      <td>6.75</td>\n",
       "      <td>AL011918</td>\n",
       "      <td>420000000</td>\n",
       "      <td>1918-08-06 18:00:00</td>\n",
       "      <td>105</td>\n",
       "      <td>955.0</td>\n",
       "      <td>LA</td>\n",
       "      <td>29.800000</td>\n",
       "      <td>-93.200000</td>\n",
       "      <td>0.347064</td>\n",
       "      <td>4.91</td>\n",
       "      <td>2</td>\n",
       "      <td>1918</td>\n",
       "      <td>8</td>\n",
       "    </tr>\n",
       "    <tr>\n",
       "      <th>2</th>\n",
       "      <td>AL011926</td>\n",
       "      <td>11.25</td>\n",
       "      <td>AL011926</td>\n",
       "      <td>7190000000</td>\n",
       "      <td>1926-07-28 06:30:00</td>\n",
       "      <td>90</td>\n",
       "      <td>967.0</td>\n",
       "      <td>FL</td>\n",
       "      <td>28.564317</td>\n",
       "      <td>-80.532650</td>\n",
       "      <td>-6.941955</td>\n",
       "      <td>10.40</td>\n",
       "      <td>1</td>\n",
       "      <td>1926</td>\n",
       "      <td>7</td>\n",
       "    </tr>\n",
       "    <tr>\n",
       "      <th>3</th>\n",
       "      <td>AL011929</td>\n",
       "      <td>3.25</td>\n",
       "      <td>AL011929</td>\n",
       "      <td>110000000</td>\n",
       "      <td>1929-06-28 21:30:00</td>\n",
       "      <td>80</td>\n",
       "      <td>982.5</td>\n",
       "      <td>TX</td>\n",
       "      <td>28.383333</td>\n",
       "      <td>-96.516667</td>\n",
       "      <td>0.584941</td>\n",
       "      <td>3.55</td>\n",
       "      <td>1</td>\n",
       "      <td>1929</td>\n",
       "      <td>6</td>\n",
       "    </tr>\n",
       "    <tr>\n",
       "      <th>4</th>\n",
       "      <td>AL011934</td>\n",
       "      <td>17.25</td>\n",
       "      <td>AL011934</td>\n",
       "      <td>710000000</td>\n",
       "      <td>1934-06-16 19:00:00</td>\n",
       "      <td>85</td>\n",
       "      <td>966.0</td>\n",
       "      <td>LA</td>\n",
       "      <td>29.700000</td>\n",
       "      <td>-91.700000</td>\n",
       "      <td>-2.300000</td>\n",
       "      <td>10.00</td>\n",
       "      <td>1</td>\n",
       "      <td>1934</td>\n",
       "      <td>6</td>\n",
       "    </tr>\n",
       "  </tbody>\n",
       "</table>\n",
       "</div>"
      ],
      "text/plain": [
       "   storm_id  duration      name        damage                time  wind  \\\n",
       "0  AL011900     19.75  AL011900  171510000000 1900-09-09 02:30:00   120   \n",
       "1  AL011918      6.75  AL011918     420000000 1918-08-06 18:00:00   105   \n",
       "2  AL011926     11.25  AL011926    7190000000 1926-07-28 06:30:00    90   \n",
       "3  AL011929      3.25  AL011929     110000000 1929-06-28 21:30:00    80   \n",
       "4  AL011934     17.25  AL011934     710000000 1934-06-16 19:00:00    85   \n",
       "\n",
       "   pressure state        lat        lon  elevation  rainfall  category  year  \\\n",
       "0     936.0    TX  29.171100 -95.201800   1.306692     10.25         3  1900   \n",
       "1     955.0    LA  29.800000 -93.200000   0.347064      4.91         2  1918   \n",
       "2     967.0    FL  28.564317 -80.532650  -6.941955     10.40         1  1926   \n",
       "3     982.5    TX  28.383333 -96.516667   0.584941      3.55         1  1929   \n",
       "4     966.0    LA  29.700000 -91.700000  -2.300000     10.00         1  1934   \n",
       "\n",
       "   month  \n",
       "0      9  \n",
       "1      8  \n",
       "2      7  \n",
       "3      6  \n",
       "4      6  "
      ]
     },
     "execution_count": 65,
     "metadata": {},
     "output_type": "execute_result"
    }
   ],
   "source": [
    "df.head()"
   ]
  },
  {
   "cell_type": "code",
   "execution_count": 66,
   "id": "fcff3222-c714-4c8b-bc07-29bbcde8b4c9",
   "metadata": {},
   "outputs": [
    {
     "data": {
      "text/html": [
       "<div>\n",
       "<style scoped>\n",
       "    .dataframe tbody tr th:only-of-type {\n",
       "        vertical-align: middle;\n",
       "    }\n",
       "\n",
       "    .dataframe tbody tr th {\n",
       "        vertical-align: top;\n",
       "    }\n",
       "\n",
       "    .dataframe thead th {\n",
       "        text-align: right;\n",
       "    }\n",
       "</style>\n",
       "<table border=\"1\" class=\"dataframe\">\n",
       "  <thead>\n",
       "    <tr style=\"text-align: right;\">\n",
       "      <th></th>\n",
       "      <th>storm_id</th>\n",
       "      <th>duration</th>\n",
       "      <th>name</th>\n",
       "      <th>damage</th>\n",
       "      <th>time</th>\n",
       "      <th>wind</th>\n",
       "      <th>pressure</th>\n",
       "      <th>state</th>\n",
       "      <th>lat</th>\n",
       "      <th>lon</th>\n",
       "      <th>elevation</th>\n",
       "      <th>rainfall</th>\n",
       "      <th>category</th>\n",
       "      <th>year</th>\n",
       "      <th>month</th>\n",
       "    </tr>\n",
       "  </thead>\n",
       "  <tbody>\n",
       "    <tr>\n",
       "      <th>223</th>\n",
       "      <td>AL162017</td>\n",
       "      <td>7.50</td>\n",
       "      <td>Nate</td>\n",
       "      <td>230000000</td>\n",
       "      <td>2017-10-08 05:30:00</td>\n",
       "      <td>69</td>\n",
       "      <td>983.833333</td>\n",
       "      <td>MS</td>\n",
       "      <td>30.401250</td>\n",
       "      <td>-88.949933</td>\n",
       "      <td>8.686419</td>\n",
       "      <td>9.93</td>\n",
       "      <td>0</td>\n",
       "      <td>2017</td>\n",
       "      <td>10</td>\n",
       "    </tr>\n",
       "    <tr>\n",
       "      <th>224</th>\n",
       "      <td>AL171995</td>\n",
       "      <td>9.00</td>\n",
       "      <td>Opal</td>\n",
       "      <td>16510000000</td>\n",
       "      <td>1995-10-04 22:30:00</td>\n",
       "      <td>110</td>\n",
       "      <td>944.000000</td>\n",
       "      <td>FL</td>\n",
       "      <td>30.475000</td>\n",
       "      <td>-87.025000</td>\n",
       "      <td>-2.695288</td>\n",
       "      <td>19.42</td>\n",
       "      <td>2</td>\n",
       "      <td>1995</td>\n",
       "      <td>10</td>\n",
       "    </tr>\n",
       "    <tr>\n",
       "      <th>225</th>\n",
       "      <td>AL182005</td>\n",
       "      <td>8.25</td>\n",
       "      <td>Rita</td>\n",
       "      <td>23110000000</td>\n",
       "      <td>2005-09-24 08:30:00</td>\n",
       "      <td>100</td>\n",
       "      <td>939.166667</td>\n",
       "      <td>LA</td>\n",
       "      <td>29.853333</td>\n",
       "      <td>-93.783167</td>\n",
       "      <td>0.538263</td>\n",
       "      <td>16.00</td>\n",
       "      <td>2</td>\n",
       "      <td>2005</td>\n",
       "      <td>9</td>\n",
       "    </tr>\n",
       "    <tr>\n",
       "      <th>226</th>\n",
       "      <td>AL182012</td>\n",
       "      <td>9.75</td>\n",
       "      <td>Sandy</td>\n",
       "      <td>80090000000</td>\n",
       "      <td>2012-10-29 23:30:00</td>\n",
       "      <td>75</td>\n",
       "      <td>945.000000</td>\n",
       "      <td>NY</td>\n",
       "      <td>39.400000</td>\n",
       "      <td>-74.400000</td>\n",
       "      <td>0.824623</td>\n",
       "      <td>12.83</td>\n",
       "      <td>1</td>\n",
       "      <td>2012</td>\n",
       "      <td>10</td>\n",
       "    </tr>\n",
       "    <tr>\n",
       "      <th>227</th>\n",
       "      <td>AL252005</td>\n",
       "      <td>11.00</td>\n",
       "      <td>Wilma</td>\n",
       "      <td>33410000000</td>\n",
       "      <td>2005-10-24 10:30:00</td>\n",
       "      <td>110</td>\n",
       "      <td>950.000000</td>\n",
       "      <td>FL</td>\n",
       "      <td>25.900000</td>\n",
       "      <td>-81.700000</td>\n",
       "      <td>0.000000</td>\n",
       "      <td>13.26</td>\n",
       "      <td>2</td>\n",
       "      <td>2005</td>\n",
       "      <td>10</td>\n",
       "    </tr>\n",
       "  </tbody>\n",
       "</table>\n",
       "</div>"
      ],
      "text/plain": [
       "     storm_id  duration   name       damage                time  wind  \\\n",
       "223  AL162017      7.50   Nate    230000000 2017-10-08 05:30:00    69   \n",
       "224  AL171995      9.00   Opal  16510000000 1995-10-04 22:30:00   110   \n",
       "225  AL182005      8.25   Rita  23110000000 2005-09-24 08:30:00   100   \n",
       "226  AL182012      9.75  Sandy  80090000000 2012-10-29 23:30:00    75   \n",
       "227  AL252005     11.00  Wilma  33410000000 2005-10-24 10:30:00   110   \n",
       "\n",
       "       pressure state        lat        lon  elevation  rainfall  category  \\\n",
       "223  983.833333    MS  30.401250 -88.949933   8.686419      9.93         0   \n",
       "224  944.000000    FL  30.475000 -87.025000  -2.695288     19.42         2   \n",
       "225  939.166667    LA  29.853333 -93.783167   0.538263     16.00         2   \n",
       "226  945.000000    NY  39.400000 -74.400000   0.824623     12.83         1   \n",
       "227  950.000000    FL  25.900000 -81.700000   0.000000     13.26         2   \n",
       "\n",
       "     year  month  \n",
       "223  2017     10  \n",
       "224  1995     10  \n",
       "225  2005      9  \n",
       "226  2012     10  \n",
       "227  2005     10  "
      ]
     },
     "execution_count": 66,
     "metadata": {},
     "output_type": "execute_result"
    }
   ],
   "source": [
    "df.tail()"
   ]
  },
  {
   "cell_type": "code",
   "execution_count": 67,
   "id": "7902ef49-c9db-4202-a185-a7cf299bd74b",
   "metadata": {},
   "outputs": [
    {
     "data": {
      "text/html": [
       "<div>\n",
       "<style scoped>\n",
       "    .dataframe tbody tr th:only-of-type {\n",
       "        vertical-align: middle;\n",
       "    }\n",
       "\n",
       "    .dataframe tbody tr th {\n",
       "        vertical-align: top;\n",
       "    }\n",
       "\n",
       "    .dataframe thead th {\n",
       "        text-align: right;\n",
       "    }\n",
       "</style>\n",
       "<table border=\"1\" class=\"dataframe\">\n",
       "  <thead>\n",
       "    <tr style=\"text-align: right;\">\n",
       "      <th></th>\n",
       "      <th>storm_id</th>\n",
       "      <th>duration</th>\n",
       "      <th>name</th>\n",
       "      <th>damage</th>\n",
       "      <th>time</th>\n",
       "      <th>wind</th>\n",
       "      <th>pressure</th>\n",
       "      <th>state</th>\n",
       "      <th>lat</th>\n",
       "      <th>lon</th>\n",
       "      <th>elevation</th>\n",
       "      <th>rainfall</th>\n",
       "      <th>category</th>\n",
       "      <th>year</th>\n",
       "      <th>month</th>\n",
       "    </tr>\n",
       "  </thead>\n",
       "  <tbody>\n",
       "    <tr>\n",
       "      <th>226</th>\n",
       "      <td>AL182012</td>\n",
       "      <td>9.75</td>\n",
       "      <td>Sandy</td>\n",
       "      <td>80090000000</td>\n",
       "      <td>2012-10-29 23:30:00</td>\n",
       "      <td>75</td>\n",
       "      <td>945.0</td>\n",
       "      <td>NY</td>\n",
       "      <td>39.4</td>\n",
       "      <td>-74.4</td>\n",
       "      <td>0.824623</td>\n",
       "      <td>12.83</td>\n",
       "      <td>1</td>\n",
       "      <td>2012</td>\n",
       "      <td>10</td>\n",
       "    </tr>\n",
       "  </tbody>\n",
       "</table>\n",
       "</div>"
      ],
      "text/plain": [
       "     storm_id  duration   name       damage                time  wind  \\\n",
       "226  AL182012      9.75  Sandy  80090000000 2012-10-29 23:30:00    75   \n",
       "\n",
       "     pressure state   lat   lon  elevation  rainfall  category  year  month  \n",
       "226     945.0    NY  39.4 -74.4   0.824623     12.83         1  2012     10  "
      ]
     },
     "execution_count": 67,
     "metadata": {},
     "output_type": "execute_result"
    }
   ],
   "source": [
    "df[df.name == 'Sandy']"
   ]
  },
  {
   "cell_type": "markdown",
   "id": "b6562f1b-9ebc-4dab-8e3a-4def8208d371",
   "metadata": {},
   "source": [
    "## Correlation matrix"
   ]
  },
  {
   "cell_type": "code",
   "execution_count": null,
   "id": "2938f981-f34d-4a7b-9626-b6f2e359fb6f",
   "metadata": {},
   "outputs": [],
   "source": []
  }
 ],
 "metadata": {
  "kernelspec": {
   "display_name": "Python 3 (ipykernel)",
   "language": "python",
   "name": "python3"
  },
  "language_info": {
   "codemirror_mode": {
    "name": "ipython",
    "version": 3
   },
   "file_extension": ".py",
   "mimetype": "text/x-python",
   "name": "python",
   "nbconvert_exporter": "python",
   "pygments_lexer": "ipython3",
   "version": "3.9.12"
  }
 },
 "nbformat": 4,
 "nbformat_minor": 5
}
