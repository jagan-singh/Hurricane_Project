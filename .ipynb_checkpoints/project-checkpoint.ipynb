{
 "cells": [
  {
   "cell_type": "code",
   "execution_count": 42,
   "id": "56a2b9f0-8f0c-4782-8aff-ce9e06bb276c",
   "metadata": {},
   "outputs": [],
   "source": [
    "import pandas as pd\n",
    "import numpy as np\n",
    "import plotly.express as px\n",
    "import plotly\n",
    "import matplotlib.pyplot as plt\n",
    "import seaborn as sns\n",
    "pd.set_option('display.max_columns', None)\n",
    "pd.set_option('display.max_rows', None)"
   ]
  },
  {
   "cell_type": "code",
   "execution_count": 50,
   "id": "0eebb780-d6e2-4c09-a666-cd22cbb77d17",
   "metadata": {},
   "outputs": [],
   "source": [
    "df = pd.read_pickle(\"df.pkl\")  "
   ]
  },
  {
   "cell_type": "code",
   "execution_count": 51,
   "id": "18a33d49-5281-42f6-8797-60f844e6394b",
   "metadata": {},
   "outputs": [
    {
     "data": {
      "text/html": [
       "<div>\n",
       "<style scoped>\n",
       "    .dataframe tbody tr th:only-of-type {\n",
       "        vertical-align: middle;\n",
       "    }\n",
       "\n",
       "    .dataframe tbody tr th {\n",
       "        vertical-align: top;\n",
       "    }\n",
       "\n",
       "    .dataframe thead th {\n",
       "        text-align: right;\n",
       "    }\n",
       "</style>\n",
       "<table border=\"1\" class=\"dataframe\">\n",
       "  <thead>\n",
       "    <tr style=\"text-align: right;\">\n",
       "      <th></th>\n",
       "      <th>storm_id</th>\n",
       "      <th>duration</th>\n",
       "      <th>name</th>\n",
       "      <th>damage</th>\n",
       "      <th>date</th>\n",
       "      <th>wind</th>\n",
       "      <th>pressure</th>\n",
       "      <th>lat</th>\n",
       "      <th>long</th>\n",
       "      <th>rainfall</th>\n",
       "      <th>category</th>\n",
       "      <th>year</th>\n",
       "      <th>month</th>\n",
       "      <th>elevation</th>\n",
       "    </tr>\n",
       "  </thead>\n",
       "  <tbody>\n",
       "    <tr>\n",
       "      <th>0</th>\n",
       "      <td>AL011959</td>\n",
       "      <td>5.50</td>\n",
       "      <td>Arlene</td>\n",
       "      <td>500000.0</td>\n",
       "      <td>1959-05-30</td>\n",
       "      <td>55.0</td>\n",
       "      <td>993.000000</td>\n",
       "      <td>29.650000</td>\n",
       "      <td>-91.600000</td>\n",
       "      <td>15.26</td>\n",
       "      <td>0</td>\n",
       "      <td>1959</td>\n",
       "      <td>5</td>\n",
       "      <td>0.299893</td>\n",
       "    </tr>\n",
       "    <tr>\n",
       "      <th>1</th>\n",
       "      <td>AL021993</td>\n",
       "      <td>3.25</td>\n",
       "      <td>Arlene</td>\n",
       "      <td>22000000.0</td>\n",
       "      <td>1993-06-20</td>\n",
       "      <td>35.0</td>\n",
       "      <td>1001.166667</td>\n",
       "      <td>27.116667</td>\n",
       "      <td>-97.466667</td>\n",
       "      <td>15.26</td>\n",
       "      <td>0</td>\n",
       "      <td>1993</td>\n",
       "      <td>6</td>\n",
       "      <td>2.473105</td>\n",
       "    </tr>\n",
       "    <tr>\n",
       "      <th>2</th>\n",
       "      <td>AL011962</td>\n",
       "      <td>6.75</td>\n",
       "      <td>Alma</td>\n",
       "      <td>1000000.0</td>\n",
       "      <td>1962-08-28</td>\n",
       "      <td>65.0</td>\n",
       "      <td>990.666667</td>\n",
       "      <td>34.526417</td>\n",
       "      <td>-76.099667</td>\n",
       "      <td>10.38</td>\n",
       "      <td>0</td>\n",
       "      <td>1962</td>\n",
       "      <td>8</td>\n",
       "      <td>-39.299995</td>\n",
       "    </tr>\n",
       "    <tr>\n",
       "      <th>3</th>\n",
       "      <td>AL011966</td>\n",
       "      <td>9.00</td>\n",
       "      <td>Alma</td>\n",
       "      <td>10050000.0</td>\n",
       "      <td>1966-06-09</td>\n",
       "      <td>80.0</td>\n",
       "      <td>979.666667</td>\n",
       "      <td>29.909800</td>\n",
       "      <td>-84.498200</td>\n",
       "      <td>10.38</td>\n",
       "      <td>1</td>\n",
       "      <td>1966</td>\n",
       "      <td>6</td>\n",
       "      <td>-0.304802</td>\n",
       "    </tr>\n",
       "    <tr>\n",
       "      <th>4</th>\n",
       "      <td>AL011968</td>\n",
       "      <td>12.25</td>\n",
       "      <td>Abby</td>\n",
       "      <td>450000.0</td>\n",
       "      <td>1968-06-04</td>\n",
       "      <td>57.0</td>\n",
       "      <td>992.000000</td>\n",
       "      <td>26.808383</td>\n",
       "      <td>-82.166817</td>\n",
       "      <td>14.65</td>\n",
       "      <td>0</td>\n",
       "      <td>1968</td>\n",
       "      <td>6</td>\n",
       "      <td>0.206002</td>\n",
       "    </tr>\n",
       "  </tbody>\n",
       "</table>\n",
       "</div>"
      ],
      "text/plain": [
       "   storm_id  duration    name      damage        date  wind     pressure  \\\n",
       "0  AL011959      5.50  Arlene    500000.0  1959-05-30  55.0   993.000000   \n",
       "1  AL021993      3.25  Arlene  22000000.0  1993-06-20  35.0  1001.166667   \n",
       "2  AL011962      6.75    Alma   1000000.0  1962-08-28  65.0   990.666667   \n",
       "3  AL011966      9.00    Alma  10050000.0  1966-06-09  80.0   979.666667   \n",
       "4  AL011968     12.25    Abby    450000.0  1968-06-04  57.0   992.000000   \n",
       "\n",
       "         lat       long  rainfall  category  year  month  elevation  \n",
       "0  29.650000 -91.600000     15.26         0  1959      5   0.299893  \n",
       "1  27.116667 -97.466667     15.26         0  1993      6   2.473105  \n",
       "2  34.526417 -76.099667     10.38         0  1962      8 -39.299995  \n",
       "3  29.909800 -84.498200     10.38         1  1966      6  -0.304802  \n",
       "4  26.808383 -82.166817     14.65         0  1968      6   0.206002  "
      ]
     },
     "execution_count": 51,
     "metadata": {},
     "output_type": "execute_result"
    }
   ],
   "source": [
    "df.head()"
   ]
  },
  {
   "cell_type": "code",
   "execution_count": 52,
   "id": "ce6c1b93-12b0-4db8-b500-56e6ca542c3c",
   "metadata": {},
   "outputs": [
    {
     "data": {
      "text/plain": [
       "storm_id      object\n",
       "duration     float64\n",
       "name          object\n",
       "damage       float64\n",
       "date          object\n",
       "wind         float64\n",
       "pressure     float64\n",
       "lat          float64\n",
       "long         float64\n",
       "rainfall     float64\n",
       "category       int64\n",
       "year           int64\n",
       "month          int64\n",
       "elevation    float64\n",
       "dtype: object"
      ]
     },
     "execution_count": 52,
     "metadata": {},
     "output_type": "execute_result"
    }
   ],
   "source": [
    "df.dtypes"
   ]
  },
  {
   "cell_type": "code",
   "execution_count": 53,
   "id": "c7bd5ef7-e036-4129-b4ed-2a8366eea1ae",
   "metadata": {},
   "outputs": [
    {
     "data": {
      "text/plain": [
       "(237, 14)"
      ]
     },
     "execution_count": 53,
     "metadata": {},
     "output_type": "execute_result"
    }
   ],
   "source": [
    "df.shape"
   ]
  },
  {
   "cell_type": "code",
   "execution_count": 54,
   "id": "bc312b3c-b1fc-4a09-8cd9-5267f025ff2a",
   "metadata": {},
   "outputs": [
    {
     "data": {
      "text/plain": [
       "count     234.000000\n",
       "mean      970.489044\n",
       "std        22.537417\n",
       "min       899.465909\n",
       "25%       954.000000\n",
       "50%       973.000000\n",
       "75%       987.000000\n",
       "max      1009.500000\n",
       "Name: pressure, dtype: float64"
      ]
     },
     "execution_count": 54,
     "metadata": {},
     "output_type": "execute_result"
    }
   ],
   "source": [
    "df.pressure.describe()"
   ]
  },
  {
   "cell_type": "markdown",
   "id": "6c765f9e-ee47-4dfb-bbe4-4724e233cd99",
   "metadata": {},
   "source": [
    "# Discriptive Analysis"
   ]
  },
  {
   "cell_type": "markdown",
   "id": "8370de05-288a-46c0-a394-6a9c1dcdeed1",
   "metadata": {},
   "source": [
    "## Visualizations"
   ]
  },
  {
   "cell_type": "code",
   "execution_count": 55,
   "id": "72f4302a-3ddf-4032-8cad-7dadffbb3941",
   "metadata": {},
   "outputs": [
    {
     "data": {
      "application/vnd.plotly.v1+json": {
       "config": {
        "plotlyServerURL": "https://plot.ly"
       },
       "data": [
        {
         "alignmentgroup": "True",
         "bingroup": "x",
         "hovertemplate": "damage=%{x}<br>count=%{y}<extra></extra>",
         "legendgroup": "",
         "marker": {
          "color": "#636efa",
          "pattern": {
           "shape": ""
          }
         },
         "name": "",
         "offsetgroup": "",
         "orientation": "v",
         "showlegend": false,
         "type": "histogram",
         "x": [
          500000,
          22000000,
          1000000,
          10050000,
          450000,
          750000,
          500000000,
          1700000,
          8500000000,
          500000000,
          4000000,
          10000000,
          6000000,
          2750000,
          40000000,
          150000000,
          100000000,
          2000000000,
          20000000,
          1500000000,
          20000000,
          2000000,
          720000000,
          3000000,
          73000000,
          270000000,
          600000000,
          30000000,
          1000000,
          200000000,
          600000000,
          5000000,
          325000000,
          139300000,
          1280500000,
          3000000,
          3000000000,
          7400000,
          500000,
          2000000,
          50000000,
          16000000000,
          90000000,
          15000000,
          60000000,
          50000000,
          320000000,
          12560000,
          1100000,
          454000000,
          20000000,
          300000000,
          50000000,
          100000000,
          100000000,
          24000000000,
          1000000000,
          500000,
          180000000,
          400000000,
          2500000000,
          157000000,
          25000000,
          1300000000,
          3300000,
          7000000,
          300000000,
          56500000,
          30000000,
          6000000,
          1500000,
          128500000,
          25000000,
          1250000000,
          10000000,
          35000000,
          350000000,
          350000000,
          79000000,
          18000000,
          1600000000,
          227500,
          460000000,
          1060000,
          250000000,
          10000000,
          5000000000,
          500000000,
          9800000000,
          4500000,
          560000000,
          500000000,
          24000000000,
          2920000,
          200000,
          25000000,
          100000000,
          680000000,
          1630000000,
          130000000,
          6000000000,
          100000,
          40000000,
          88035000,
          11200000,
          16000000,
          14000000,
          50000000,
          6500000000,
          500000,
          230000000,
          160000000,
          1100000000,
          20000000,
          700000000,
          2000000,
          5000000,
          1421000000,
          147350000,
          160000000,
          160000000,
          100000000,
          800000000,
          20500000000,
          50000000,
          30000000000,
          13500000000,
          800000000,
          2800000000,
          550000000,
          240000000,
          125000000000,
          15000000,
          5000000000,
          75000000000,
          125000000,
          18000000,
          150000000,
          65000000,
          130000000,
          330000000,
          1000000,
          28000000,
          10000000,
          30230000,
          1780000,
          2300000000,
          7000000000,
          40600000,
          70000000,
          10800000,
          400000000,
          7500000000,
          50000000000,
          1500000000,
          3000000,
          5000000,
          125000000000,
          200000000,
          25000000,
          490000000,
          300000000,
          40000000,
          860000000,
          5500000000,
          19000000000,
          281000000,
          6700000,
          10000000,
          10000000000,
          25000000000,
          70000000,
          225000000,
          4700000000,
          18500000000,
          65000000000,
          19000000000,
          30000000,
          5000000,
          3051000,
          675000,
          2605000,
          16550000,
          1000000,
          50000000,
          3000000,
          2000000,
          20000000,
          1450000,
          100000,
          200000,
          7500000,
          9000000,
          7000000,
          601000,
          52000000,
          670000,
          0,
          1000000,
          7000000,
          1500000,
          5000000,
          1000000,
          550000,
          245000,
          7000000,
          26500000,
          2000000,
          1000000,
          2000000,
          3000000,
          25000000,
          500000,
          123000,
          337500,
          337500,
          20000000,
          4000000,
          13000000,
          1800000,
          3000000,
          5200000,
          76000000,
          29000000,
          5500000,
          7000000,
          200000,
          16900000,
          5000000,
          60000000,
          1000000,
          1000000,
          6700000,
          4750000,
          1600000,
          63000000,
          37000000
         ],
         "xaxis": "x",
         "yaxis": "y"
        }
       ],
       "layout": {
        "autosize": true,
        "barmode": "relative",
        "legend": {
         "tracegroupgap": 0
        },
        "margin": {
         "t": 60
        },
        "template": {
         "data": {
          "bar": [
           {
            "error_x": {
             "color": "#2a3f5f"
            },
            "error_y": {
             "color": "#2a3f5f"
            },
            "marker": {
             "line": {
              "color": "#E5ECF6",
              "width": 0.5
             },
             "pattern": {
              "fillmode": "overlay",
              "size": 10,
              "solidity": 0.2
             }
            },
            "type": "bar"
           }
          ],
          "barpolar": [
           {
            "marker": {
             "line": {
              "color": "#E5ECF6",
              "width": 0.5
             },
             "pattern": {
              "fillmode": "overlay",
              "size": 10,
              "solidity": 0.2
             }
            },
            "type": "barpolar"
           }
          ],
          "carpet": [
           {
            "aaxis": {
             "endlinecolor": "#2a3f5f",
             "gridcolor": "white",
             "linecolor": "white",
             "minorgridcolor": "white",
             "startlinecolor": "#2a3f5f"
            },
            "baxis": {
             "endlinecolor": "#2a3f5f",
             "gridcolor": "white",
             "linecolor": "white",
             "minorgridcolor": "white",
             "startlinecolor": "#2a3f5f"
            },
            "type": "carpet"
           }
          ],
          "choropleth": [
           {
            "colorbar": {
             "outlinewidth": 0,
             "ticks": ""
            },
            "type": "choropleth"
           }
          ],
          "contour": [
           {
            "colorbar": {
             "outlinewidth": 0,
             "ticks": ""
            },
            "colorscale": [
             [
              0,
              "#0d0887"
             ],
             [
              0.1111111111111111,
              "#46039f"
             ],
             [
              0.2222222222222222,
              "#7201a8"
             ],
             [
              0.3333333333333333,
              "#9c179e"
             ],
             [
              0.4444444444444444,
              "#bd3786"
             ],
             [
              0.5555555555555556,
              "#d8576b"
             ],
             [
              0.6666666666666666,
              "#ed7953"
             ],
             [
              0.7777777777777778,
              "#fb9f3a"
             ],
             [
              0.8888888888888888,
              "#fdca26"
             ],
             [
              1,
              "#f0f921"
             ]
            ],
            "type": "contour"
           }
          ],
          "contourcarpet": [
           {
            "colorbar": {
             "outlinewidth": 0,
             "ticks": ""
            },
            "type": "contourcarpet"
           }
          ],
          "heatmap": [
           {
            "colorbar": {
             "outlinewidth": 0,
             "ticks": ""
            },
            "colorscale": [
             [
              0,
              "#0d0887"
             ],
             [
              0.1111111111111111,
              "#46039f"
             ],
             [
              0.2222222222222222,
              "#7201a8"
             ],
             [
              0.3333333333333333,
              "#9c179e"
             ],
             [
              0.4444444444444444,
              "#bd3786"
             ],
             [
              0.5555555555555556,
              "#d8576b"
             ],
             [
              0.6666666666666666,
              "#ed7953"
             ],
             [
              0.7777777777777778,
              "#fb9f3a"
             ],
             [
              0.8888888888888888,
              "#fdca26"
             ],
             [
              1,
              "#f0f921"
             ]
            ],
            "type": "heatmap"
           }
          ],
          "heatmapgl": [
           {
            "colorbar": {
             "outlinewidth": 0,
             "ticks": ""
            },
            "colorscale": [
             [
              0,
              "#0d0887"
             ],
             [
              0.1111111111111111,
              "#46039f"
             ],
             [
              0.2222222222222222,
              "#7201a8"
             ],
             [
              0.3333333333333333,
              "#9c179e"
             ],
             [
              0.4444444444444444,
              "#bd3786"
             ],
             [
              0.5555555555555556,
              "#d8576b"
             ],
             [
              0.6666666666666666,
              "#ed7953"
             ],
             [
              0.7777777777777778,
              "#fb9f3a"
             ],
             [
              0.8888888888888888,
              "#fdca26"
             ],
             [
              1,
              "#f0f921"
             ]
            ],
            "type": "heatmapgl"
           }
          ],
          "histogram": [
           {
            "marker": {
             "pattern": {
              "fillmode": "overlay",
              "size": 10,
              "solidity": 0.2
             }
            },
            "type": "histogram"
           }
          ],
          "histogram2d": [
           {
            "colorbar": {
             "outlinewidth": 0,
             "ticks": ""
            },
            "colorscale": [
             [
              0,
              "#0d0887"
             ],
             [
              0.1111111111111111,
              "#46039f"
             ],
             [
              0.2222222222222222,
              "#7201a8"
             ],
             [
              0.3333333333333333,
              "#9c179e"
             ],
             [
              0.4444444444444444,
              "#bd3786"
             ],
             [
              0.5555555555555556,
              "#d8576b"
             ],
             [
              0.6666666666666666,
              "#ed7953"
             ],
             [
              0.7777777777777778,
              "#fb9f3a"
             ],
             [
              0.8888888888888888,
              "#fdca26"
             ],
             [
              1,
              "#f0f921"
             ]
            ],
            "type": "histogram2d"
           }
          ],
          "histogram2dcontour": [
           {
            "colorbar": {
             "outlinewidth": 0,
             "ticks": ""
            },
            "colorscale": [
             [
              0,
              "#0d0887"
             ],
             [
              0.1111111111111111,
              "#46039f"
             ],
             [
              0.2222222222222222,
              "#7201a8"
             ],
             [
              0.3333333333333333,
              "#9c179e"
             ],
             [
              0.4444444444444444,
              "#bd3786"
             ],
             [
              0.5555555555555556,
              "#d8576b"
             ],
             [
              0.6666666666666666,
              "#ed7953"
             ],
             [
              0.7777777777777778,
              "#fb9f3a"
             ],
             [
              0.8888888888888888,
              "#fdca26"
             ],
             [
              1,
              "#f0f921"
             ]
            ],
            "type": "histogram2dcontour"
           }
          ],
          "mesh3d": [
           {
            "colorbar": {
             "outlinewidth": 0,
             "ticks": ""
            },
            "type": "mesh3d"
           }
          ],
          "parcoords": [
           {
            "line": {
             "colorbar": {
              "outlinewidth": 0,
              "ticks": ""
             }
            },
            "type": "parcoords"
           }
          ],
          "pie": [
           {
            "automargin": true,
            "type": "pie"
           }
          ],
          "scatter": [
           {
            "marker": {
             "colorbar": {
              "outlinewidth": 0,
              "ticks": ""
             }
            },
            "type": "scatter"
           }
          ],
          "scatter3d": [
           {
            "line": {
             "colorbar": {
              "outlinewidth": 0,
              "ticks": ""
             }
            },
            "marker": {
             "colorbar": {
              "outlinewidth": 0,
              "ticks": ""
             }
            },
            "type": "scatter3d"
           }
          ],
          "scattercarpet": [
           {
            "marker": {
             "colorbar": {
              "outlinewidth": 0,
              "ticks": ""
             }
            },
            "type": "scattercarpet"
           }
          ],
          "scattergeo": [
           {
            "marker": {
             "colorbar": {
              "outlinewidth": 0,
              "ticks": ""
             }
            },
            "type": "scattergeo"
           }
          ],
          "scattergl": [
           {
            "marker": {
             "colorbar": {
              "outlinewidth": 0,
              "ticks": ""
             }
            },
            "type": "scattergl"
           }
          ],
          "scattermapbox": [
           {
            "marker": {
             "colorbar": {
              "outlinewidth": 0,
              "ticks": ""
             }
            },
            "type": "scattermapbox"
           }
          ],
          "scatterpolar": [
           {
            "marker": {
             "colorbar": {
              "outlinewidth": 0,
              "ticks": ""
             }
            },
            "type": "scatterpolar"
           }
          ],
          "scatterpolargl": [
           {
            "marker": {
             "colorbar": {
              "outlinewidth": 0,
              "ticks": ""
             }
            },
            "type": "scatterpolargl"
           }
          ],
          "scatterternary": [
           {
            "marker": {
             "colorbar": {
              "outlinewidth": 0,
              "ticks": ""
             }
            },
            "type": "scatterternary"
           }
          ],
          "surface": [
           {
            "colorbar": {
             "outlinewidth": 0,
             "ticks": ""
            },
            "colorscale": [
             [
              0,
              "#0d0887"
             ],
             [
              0.1111111111111111,
              "#46039f"
             ],
             [
              0.2222222222222222,
              "#7201a8"
             ],
             [
              0.3333333333333333,
              "#9c179e"
             ],
             [
              0.4444444444444444,
              "#bd3786"
             ],
             [
              0.5555555555555556,
              "#d8576b"
             ],
             [
              0.6666666666666666,
              "#ed7953"
             ],
             [
              0.7777777777777778,
              "#fb9f3a"
             ],
             [
              0.8888888888888888,
              "#fdca26"
             ],
             [
              1,
              "#f0f921"
             ]
            ],
            "type": "surface"
           }
          ],
          "table": [
           {
            "cells": {
             "fill": {
              "color": "#EBF0F8"
             },
             "line": {
              "color": "white"
             }
            },
            "header": {
             "fill": {
              "color": "#C8D4E3"
             },
             "line": {
              "color": "white"
             }
            },
            "type": "table"
           }
          ]
         },
         "layout": {
          "annotationdefaults": {
           "arrowcolor": "#2a3f5f",
           "arrowhead": 0,
           "arrowwidth": 1
          },
          "autotypenumbers": "strict",
          "coloraxis": {
           "colorbar": {
            "outlinewidth": 0,
            "ticks": ""
           }
          },
          "colorscale": {
           "diverging": [
            [
             0,
             "#8e0152"
            ],
            [
             0.1,
             "#c51b7d"
            ],
            [
             0.2,
             "#de77ae"
            ],
            [
             0.3,
             "#f1b6da"
            ],
            [
             0.4,
             "#fde0ef"
            ],
            [
             0.5,
             "#f7f7f7"
            ],
            [
             0.6,
             "#e6f5d0"
            ],
            [
             0.7,
             "#b8e186"
            ],
            [
             0.8,
             "#7fbc41"
            ],
            [
             0.9,
             "#4d9221"
            ],
            [
             1,
             "#276419"
            ]
           ],
           "sequential": [
            [
             0,
             "#0d0887"
            ],
            [
             0.1111111111111111,
             "#46039f"
            ],
            [
             0.2222222222222222,
             "#7201a8"
            ],
            [
             0.3333333333333333,
             "#9c179e"
            ],
            [
             0.4444444444444444,
             "#bd3786"
            ],
            [
             0.5555555555555556,
             "#d8576b"
            ],
            [
             0.6666666666666666,
             "#ed7953"
            ],
            [
             0.7777777777777778,
             "#fb9f3a"
            ],
            [
             0.8888888888888888,
             "#fdca26"
            ],
            [
             1,
             "#f0f921"
            ]
           ],
           "sequentialminus": [
            [
             0,
             "#0d0887"
            ],
            [
             0.1111111111111111,
             "#46039f"
            ],
            [
             0.2222222222222222,
             "#7201a8"
            ],
            [
             0.3333333333333333,
             "#9c179e"
            ],
            [
             0.4444444444444444,
             "#bd3786"
            ],
            [
             0.5555555555555556,
             "#d8576b"
            ],
            [
             0.6666666666666666,
             "#ed7953"
            ],
            [
             0.7777777777777778,
             "#fb9f3a"
            ],
            [
             0.8888888888888888,
             "#fdca26"
            ],
            [
             1,
             "#f0f921"
            ]
           ]
          },
          "colorway": [
           "#636efa",
           "#EF553B",
           "#00cc96",
           "#ab63fa",
           "#FFA15A",
           "#19d3f3",
           "#FF6692",
           "#B6E880",
           "#FF97FF",
           "#FECB52"
          ],
          "font": {
           "color": "#2a3f5f"
          },
          "geo": {
           "bgcolor": "white",
           "lakecolor": "white",
           "landcolor": "#E5ECF6",
           "showlakes": true,
           "showland": true,
           "subunitcolor": "white"
          },
          "hoverlabel": {
           "align": "left"
          },
          "hovermode": "closest",
          "mapbox": {
           "style": "light"
          },
          "paper_bgcolor": "white",
          "plot_bgcolor": "#E5ECF6",
          "polar": {
           "angularaxis": {
            "gridcolor": "white",
            "linecolor": "white",
            "ticks": ""
           },
           "bgcolor": "#E5ECF6",
           "radialaxis": {
            "gridcolor": "white",
            "linecolor": "white",
            "ticks": ""
           }
          },
          "scene": {
           "xaxis": {
            "backgroundcolor": "#E5ECF6",
            "gridcolor": "white",
            "gridwidth": 2,
            "linecolor": "white",
            "showbackground": true,
            "ticks": "",
            "zerolinecolor": "white"
           },
           "yaxis": {
            "backgroundcolor": "#E5ECF6",
            "gridcolor": "white",
            "gridwidth": 2,
            "linecolor": "white",
            "showbackground": true,
            "ticks": "",
            "zerolinecolor": "white"
           },
           "zaxis": {
            "backgroundcolor": "#E5ECF6",
            "gridcolor": "white",
            "gridwidth": 2,
            "linecolor": "white",
            "showbackground": true,
            "ticks": "",
            "zerolinecolor": "white"
           }
          },
          "shapedefaults": {
           "line": {
            "color": "#2a3f5f"
           }
          },
          "ternary": {
           "aaxis": {
            "gridcolor": "white",
            "linecolor": "white",
            "ticks": ""
           },
           "baxis": {
            "gridcolor": "white",
            "linecolor": "white",
            "ticks": ""
           },
           "bgcolor": "#E5ECF6",
           "caxis": {
            "gridcolor": "white",
            "linecolor": "white",
            "ticks": ""
           }
          },
          "title": {
           "x": 0.05
          },
          "xaxis": {
           "automargin": true,
           "gridcolor": "white",
           "linecolor": "white",
           "ticks": "",
           "title": {
            "standoff": 15
           },
           "zerolinecolor": "white",
           "zerolinewidth": 2
          },
          "yaxis": {
           "automargin": true,
           "gridcolor": "white",
           "linecolor": "white",
           "ticks": "",
           "title": {
            "standoff": 15
           },
           "zerolinecolor": "white",
           "zerolinewidth": 2
          }
         }
        },
        "xaxis": {
         "anchor": "y",
         "autorange": true,
         "domain": [
          0,
          1
         ],
         "range": [
          -0.5,
          129999999999.5
         ],
         "title": {
          "text": "damage"
         },
         "type": "linear"
        },
        "yaxis": {
         "anchor": "x",
         "autorange": true,
         "domain": [
          0,
          1
         ],
         "range": [
          0,
          223.1578947368421
         ],
         "title": {
          "text": "count"
         }
        }
       }
      },
      "image/png": "[encoded data removed]",
      "text/html": [
       "<div>                            <div id=\"5648972e-af5f-477f-974b-56e53716c92f\" class=\"plotly-graph-div\" style=\"height:525px; width:100%;\"></div>            <script type=\"text/javascript\">                require([\"plotly\"], function(Plotly) {                    window.PLOTLYENV=window.PLOTLYENV || {};                                    if (document.getElementById(\"5648972e-af5f-477f-974b-56e53716c92f\")) {                    Plotly.newPlot(                        \"5648972e-af5f-477f-974b-56e53716c92f\",                        [{\"alignmentgroup\":\"True\",\"bingroup\":\"x\",\"hovertemplate\":\"damage=%{x}<br>count=%{y}<extra></extra>\",\"legendgroup\":\"\",\"marker\":{\"color\":\"#636efa\",\"pattern\":{\"shape\":\"\"}},\"name\":\"\",\"offsetgroup\":\"\",\"orientation\":\"v\",\"showlegend\":false,\"x\":[500000.0,22000000.0,1000000.0,10050000.0,450000.0,750000.0,500000000.0,1700000.0,8500000000.0,500000000.0,4000000.0,10000000.0,6000000.0,2750000.0,40000000.0,150000000.0,100000000.0,2000000000.0,20000000.0,1500000000.0,20000000.0,2000000.0,720000000.0,3000000.0,73000000.0,270000000.0,600000000.0,30000000.0,1000000.0,200000000.0,600000000.0,5000000.0,325000000.0,139300000.0,1280500000.0,3000000.0,3000000000.0,7400000.0,500000.0,2000000.0,50000000.0,16000000000.0,90000000.0,15000000.0,60000000.0,50000000.0,320000000.0,12560000.0,1100000.0,454000000.0,20000000.0,300000000.0,50000000.0,100000000.0,100000000.0,24000000000.0,1000000000.0,500000.0,180000000.0,400000000.0,2500000000.0,157000000.0,25000000.0,1300000000.0,3300000.0,7000000.0,300000000.0,56500000.0,30000000.0,6000000.0,1500000.0,128500000.0,25000000.0,1250000000.0,10000000.0,35000000.0,350000000.0,350000000.0,79000000.0,18000000.0,1600000000.0,227500.0,460000000.0,1060000.0,250000000.0,10000000.0,5000000000.0,500000000.0,9800000000.0,4500000.0,560000000.0,500000000.0,24000000000.0,2920000.0,200000.0,25000000.0,100000000.0,680000000.0,1630000000.0,130000000.0,6000000000.0,100000.0,40000000.0,88035000.0,11200000.0,16000000.0,14000000.0,50000000.0,6500000000.0,500000.0,230000000.0,160000000.0,1100000000.0,20000000.0,700000000.0,2000000.0,5000000.0,1421000000.0,147350000.0,160000000.0,160000000.0,100000000.0,800000000.0,20500000000.0,50000000.0,30000000000.0,13500000000.0,800000000.0,2800000000.0,550000000.0,240000000.0,125000000000.0,15000000.0,5000000000.0,75000000000.0,125000000.0,18000000.0,150000000.0,65000000.0,130000000.0,330000000.0,1000000.0,28000000.0,10000000.0,30230000.0,1780000.0,2300000000.0,7000000000.0,40600000.0,70000000.0,10800000.0,400000000.0,7500000000.0,50000000000.0,1500000000.0,3000000.0,5000000.0,125000000000.0,200000000.0,25000000.0,490000000.0,300000000.0,40000000.0,860000000.0,5500000000.0,19000000000.0,281000000.0,6700000.0,10000000.0,10000000000.0,25000000000.0,70000000.0,225000000.0,4700000000.0,18500000000.0,65000000000.0,19000000000.0,30000000.0,5000000.0,3051000.0,675000.0,2605000.0,16550000.0,1000000.0,50000000.0,3000000.0,2000000.0,20000000.0,1450000.0,100000.0,200000.0,7500000.0,9000000.0,7000000.0,601000.0,52000000.0,670000.0,0.0,1000000.0,7000000.0,1500000.0,5000000.0,1000000.0,550000.0,245000.0,7000000.0,26500000.0,2000000.0,1000000.0,2000000.0,3000000.0,25000000.0,500000.0,123000.0,337500.0,337500.0,20000000.0,4000000.0,13000000.0,1800000.0,3000000.0,5200000.0,76000000.0,29000000.0,5500000.0,7000000.0,200000.0,16900000.0,5000000.0,60000000.0,1000000.0,1000000.0,6700000.0,4750000.0,1600000.0,63000000.0,37000000.0],\"xaxis\":\"x\",\"yaxis\":\"y\",\"type\":\"histogram\"}],                        {\"template\":{\"data\":{\"bar\":[{\"error_x\":{\"color\":\"#2a3f5f\"},\"error_y\":{\"color\":\"#2a3f5f\"},\"marker\":{\"line\":{\"color\":\"#E5ECF6\",\"width\":0.5},\"pattern\":{\"fillmode\":\"overlay\",\"size\":10,\"solidity\":0.2}},\"type\":\"bar\"}],\"barpolar\":[{\"marker\":{\"line\":{\"color\":\"#E5ECF6\",\"width\":0.5},\"pattern\":{\"fillmode\":\"overlay\",\"size\":10,\"solidity\":0.2}},\"type\":\"barpolar\"}],\"carpet\":[{\"aaxis\":{\"endlinecolor\":\"#2a3f5f\",\"gridcolor\":\"white\",\"linecolor\":\"white\",\"minorgridcolor\":\"white\",\"startlinecolor\":\"#2a3f5f\"},\"baxis\":{\"endlinecolor\":\"#2a3f5f\",\"gridcolor\":\"white\",\"linecolor\":\"white\",\"minorgridcolor\":\"white\",\"startlinecolor\":\"#2a3f5f\"},\"type\":\"carpet\"}],\"choropleth\":[{\"colorbar\":{\"outlinewidth\":0,\"ticks\":\"\"},\"type\":\"choropleth\"}],\"contour\":[{\"colorbar\":{\"outlinewidth\":0,\"ticks\":\"\"},\"colorscale\":[[0.0,\"#0d0887\"],[0.1111111111111111,\"#46039f\"],[0.2222222222222222,\"#7201a8\"],[0.3333333333333333,\"#9c179e\"],[0.4444444444444444,\"#bd3786\"],[0.5555555555555556,\"#d8576b\"],[0.6666666666666666,\"#ed7953\"],[0.7777777777777778,\"#fb9f3a\"],[0.8888888888888888,\"#fdca26\"],[1.0,\"#f0f921\"]],\"type\":\"contour\"}],\"contourcarpet\":[{\"colorbar\":{\"outlinewidth\":0,\"ticks\":\"\"},\"type\":\"contourcarpet\"}],\"heatmap\":[{\"colorbar\":{\"outlinewidth\":0,\"ticks\":\"\"},\"colorscale\":[[0.0,\"#0d0887\"],[0.1111111111111111,\"#46039f\"],[0.2222222222222222,\"#7201a8\"],[0.3333333333333333,\"#9c179e\"],[0.4444444444444444,\"#bd3786\"],[0.5555555555555556,\"#d8576b\"],[0.6666666666666666,\"#ed7953\"],[0.7777777777777778,\"#fb9f3a\"],[0.8888888888888888,\"#fdca26\"],[1.0,\"#f0f921\"]],\"type\":\"heatmap\"}],\"heatmapgl\":[{\"colorbar\":{\"outlinewidth\":0,\"ticks\":\"\"},\"colorscale\":[[0.0,\"#0d0887\"],[0.1111111111111111,\"#46039f\"],[0.2222222222222222,\"#7201a8\"],[0.3333333333333333,\"#9c179e\"],[0.4444444444444444,\"#bd3786\"],[0.5555555555555556,\"#d8576b\"],[0.6666666666666666,\"#ed7953\"],[0.7777777777777778,\"#fb9f3a\"],[0.8888888888888888,\"#fdca26\"],[1.0,\"#f0f921\"]],\"type\":\"heatmapgl\"}],\"histogram\":[{\"marker\":{\"pattern\":{\"fillmode\":\"overlay\",\"size\":10,\"solidity\":0.2}},\"type\":\"histogram\"}],\"histogram2d\":[{\"colorbar\":{\"outlinewidth\":0,\"ticks\":\"\"},\"colorscale\":[[0.0,\"#0d0887\"],[0.1111111111111111,\"#46039f\"],[0.2222222222222222,\"#7201a8\"],[0.3333333333333333,\"#9c179e\"],[0.4444444444444444,\"#bd3786\"],[0.5555555555555556,\"#d8576b\"],[0.6666666666666666,\"#ed7953\"],[0.7777777777777778,\"#fb9f3a\"],[0.8888888888888888,\"#fdca26\"],[1.0,\"#f0f921\"]],\"type\":\"histogram2d\"}],\"histogram2dcontour\":[{\"colorbar\":{\"outlinewidth\":0,\"ticks\":\"\"},\"colorscale\":[[0.0,\"#0d0887\"],[0.1111111111111111,\"#46039f\"],[0.2222222222222222,\"#7201a8\"],[0.3333333333333333,\"#9c179e\"],[0.4444444444444444,\"#bd3786\"],[0.5555555555555556,\"#d8576b\"],[0.6666666666666666,\"#ed7953\"],[0.7777777777777778,\"#fb9f3a\"],[0.8888888888888888,\"#fdca26\"],[1.0,\"#f0f921\"]],\"type\":\"histogram2dcontour\"}],\"mesh3d\":[{\"colorbar\":{\"outlinewidth\":0,\"ticks\":\"\"},\"type\":\"mesh3d\"}],\"parcoords\":[{\"line\":{\"colorbar\":{\"outlinewidth\":0,\"ticks\":\"\"}},\"type\":\"parcoords\"}],\"pie\":[{\"automargin\":true,\"type\":\"pie\"}],\"scatter\":[{\"marker\":{\"colorbar\":{\"outlinewidth\":0,\"ticks\":\"\"}},\"type\":\"scatter\"}],\"scatter3d\":[{\"line\":{\"colorbar\":{\"outlinewidth\":0,\"ticks\":\"\"}},\"marker\":{\"colorbar\":{\"outlinewidth\":0,\"ticks\":\"\"}},\"type\":\"scatter3d\"}],\"scattercarpet\":[{\"marker\":{\"colorbar\":{\"outlinewidth\":0,\"ticks\":\"\"}},\"type\":\"scattercarpet\"}],\"scattergeo\":[{\"marker\":{\"colorbar\":{\"outlinewidth\":0,\"ticks\":\"\"}},\"type\":\"scattergeo\"}],\"scattergl\":[{\"marker\":{\"colorbar\":{\"outlinewidth\":0,\"ticks\":\"\"}},\"type\":\"scattergl\"}],\"scattermapbox\":[{\"marker\":{\"colorbar\":{\"outlinewidth\":0,\"ticks\":\"\"}},\"type\":\"scattermapbox\"}],\"scatterpolar\":[{\"marker\":{\"colorbar\":{\"outlinewidth\":0,\"ticks\":\"\"}},\"type\":\"scatterpolar\"}],\"scatterpolargl\":[{\"marker\":{\"colorbar\":{\"outlinewidth\":0,\"ticks\":\"\"}},\"type\":\"scatterpolargl\"}],\"scatterternary\":[{\"marker\":{\"colorbar\":{\"outlinewidth\":0,\"ticks\":\"\"}},\"type\":\"scatterternary\"}],\"surface\":[{\"colorbar\":{\"outlinewidth\":0,\"ticks\":\"\"},\"colorscale\":[[0.0,\"#0d0887\"],[0.1111111111111111,\"#46039f\"],[0.2222222222222222,\"#7201a8\"],[0.3333333333333333,\"#9c179e\"],[0.4444444444444444,\"#bd3786\"],[0.5555555555555556,\"#d8576b\"],[0.6666666666666666,\"#ed7953\"],[0.7777777777777778,\"#fb9f3a\"],[0.8888888888888888,\"#fdca26\"],[1.0,\"#f0f921\"]],\"type\":\"surface\"}],\"table\":[{\"cells\":{\"fill\":{\"color\":\"#EBF0F8\"},\"line\":{\"color\":\"white\"}},\"header\":{\"fill\":{\"color\":\"#C8D4E3\"},\"line\":{\"color\":\"white\"}},\"type\":\"table\"}]},\"layout\":{\"annotationdefaults\":{\"arrowcolor\":\"#2a3f5f\",\"arrowhead\":0,\"arrowwidth\":1},\"autotypenumbers\":\"strict\",\"coloraxis\":{\"colorbar\":{\"outlinewidth\":0,\"ticks\":\"\"}},\"colorscale\":{\"diverging\":[[0,\"#8e0152\"],[0.1,\"#c51b7d\"],[0.2,\"#de77ae\"],[0.3,\"#f1b6da\"],[0.4,\"#fde0ef\"],[0.5,\"#f7f7f7\"],[0.6,\"#e6f5d0\"],[0.7,\"#b8e186\"],[0.8,\"#7fbc41\"],[0.9,\"#4d9221\"],[1,\"#276419\"]],\"sequential\":[[0.0,\"#0d0887\"],[0.1111111111111111,\"#46039f\"],[0.2222222222222222,\"#7201a8\"],[0.3333333333333333,\"#9c179e\"],[0.4444444444444444,\"#bd3786\"],[0.5555555555555556,\"#d8576b\"],[0.6666666666666666,\"#ed7953\"],[0.7777777777777778,\"#fb9f3a\"],[0.8888888888888888,\"#fdca26\"],[1.0,\"#f0f921\"]],\"sequentialminus\":[[0.0,\"#0d0887\"],[0.1111111111111111,\"#46039f\"],[0.2222222222222222,\"#7201a8\"],[0.3333333333333333,\"#9c179e\"],[0.4444444444444444,\"#bd3786\"],[0.5555555555555556,\"#d8576b\"],[0.6666666666666666,\"#ed7953\"],[0.7777777777777778,\"#fb9f3a\"],[0.8888888888888888,\"#fdca26\"],[1.0,\"#f0f921\"]]},\"colorway\":[\"#636efa\",\"#EF553B\",\"#00cc96\",\"#ab63fa\",\"#FFA15A\",\"#19d3f3\",\"#FF6692\",\"#B6E880\",\"#FF97FF\",\"#FECB52\"],\"font\":{\"color\":\"#2a3f5f\"},\"geo\":{\"bgcolor\":\"white\",\"lakecolor\":\"white\",\"landcolor\":\"#E5ECF6\",\"showlakes\":true,\"showland\":true,\"subunitcolor\":\"white\"},\"hoverlabel\":{\"align\":\"left\"},\"hovermode\":\"closest\",\"mapbox\":{\"style\":\"light\"},\"paper_bgcolor\":\"white\",\"plot_bgcolor\":\"#E5ECF6\",\"polar\":{\"angularaxis\":{\"gridcolor\":\"white\",\"linecolor\":\"white\",\"ticks\":\"\"},\"bgcolor\":\"#E5ECF6\",\"radialaxis\":{\"gridcolor\":\"white\",\"linecolor\":\"white\",\"ticks\":\"\"}},\"scene\":{\"xaxis\":{\"backgroundcolor\":\"#E5ECF6\",\"gridcolor\":\"white\",\"gridwidth\":2,\"linecolor\":\"white\",\"showbackground\":true,\"ticks\":\"\",\"zerolinecolor\":\"white\"},\"yaxis\":{\"backgroundcolor\":\"#E5ECF6\",\"gridcolor\":\"white\",\"gridwidth\":2,\"linecolor\":\"white\",\"showbackground\":true,\"ticks\":\"\",\"zerolinecolor\":\"white\"},\"zaxis\":{\"backgroundcolor\":\"#E5ECF6\",\"gridcolor\":\"white\",\"gridwidth\":2,\"linecolor\":\"white\",\"showbackground\":true,\"ticks\":\"\",\"zerolinecolor\":\"white\"}},\"shapedefaults\":{\"line\":{\"color\":\"#2a3f5f\"}},\"ternary\":{\"aaxis\":{\"gridcolor\":\"white\",\"linecolor\":\"white\",\"ticks\":\"\"},\"baxis\":{\"gridcolor\":\"white\",\"linecolor\":\"white\",\"ticks\":\"\"},\"bgcolor\":\"#E5ECF6\",\"caxis\":{\"gridcolor\":\"white\",\"linecolor\":\"white\",\"ticks\":\"\"}},\"title\":{\"x\":0.05},\"xaxis\":{\"automargin\":true,\"gridcolor\":\"white\",\"linecolor\":\"white\",\"ticks\":\"\",\"title\":{\"standoff\":15},\"zerolinecolor\":\"white\",\"zerolinewidth\":2},\"yaxis\":{\"automargin\":true,\"gridcolor\":\"white\",\"linecolor\":\"white\",\"ticks\":\"\",\"title\":{\"standoff\":15},\"zerolinecolor\":\"white\",\"zerolinewidth\":2}}},\"xaxis\":{\"anchor\":\"y\",\"domain\":[0.0,1.0],\"title\":{\"text\":\"damage\"}},\"yaxis\":{\"anchor\":\"x\",\"domain\":[0.0,1.0],\"title\":{\"text\":\"count\"}},\"legend\":{\"tracegroupgap\":0},\"margin\":{\"t\":60},\"barmode\":\"relative\"},                        {\"responsive\": true}                    ).then(function(){\n",
       "                            \n",
       "var gd = document.getElementById('5648972e-af5f-477f-974b-56e53716c92f');\n",
       "var x = new MutationObserver(function (mutations, observer) {{\n",
       "        var display = window.getComputedStyle(gd).display;\n",
       "        if (!display || display === 'none') {{\n",
       "            console.log([gd, 'removed!']);\n",
       "            Plotly.purge(gd);\n",
       "            observer.disconnect();\n",
       "        }}\n",
       "}});\n",
       "\n",
       "// Listen for the removal of the full notebook cells\n",
       "var notebookContainer = gd.closest('#notebook-container');\n",
       "if (notebookContainer) {{\n",
       "    x.observe(notebookContainer, {childList: true});\n",
       "}}\n",
       "\n",
       "// Listen for the clearing of the current output cell\n",
       "var outputEl = gd.closest('.output');\n",
       "if (outputEl) {{\n",
       "    x.observe(outputEl, {childList: true});\n",
       "}}\n",
       "\n",
       "                        })                };                });            </script>        </div>"
      ]
     },
     "metadata": {},
     "output_type": "display_data"
    }
   ],
   "source": [
    "fig = px.histogram(df, x=\"damage\")\n",
    "fig.show()"
   ]
  },
  {
   "cell_type": "code",
   "execution_count": null,
   "id": "dbcda074-77e5-4081-a220-c27ada8a48cc",
   "metadata": {},
   "outputs": [],
   "source": []
  },
  {
   "cell_type": "code",
   "execution_count": 56,
   "id": "9c74f7e6-ee5f-48ab-bf9d-0f7b2deb6aa2",
   "metadata": {},
   "outputs": [
    {
     "data": {
      "application/vnd.plotly.v1+json": {
       "config": {
        "plotlyServerURL": "https://plot.ly"
       },
       "data": [
        {
         "alignmentgroup": "True",
         "bingroup": "x",
         "hovertemplate": "duration=%{x}<br>count=%{y}<extra></extra>",
         "legendgroup": "",
         "marker": {
          "color": "#636efa",
          "pattern": {
           "shape": ""
          }
         },
         "name": "",
         "nbinsx": 20,
         "offsetgroup": "",
         "orientation": "v",
         "showlegend": false,
         "type": "histogram",
         "x": [
          5.5,
          3.25,
          6.75,
          9,
          12.25,
          3,
          7.5,
          8,
          13.5,
          6.75,
          6,
          7.25,
          11,
          16,
          11.75,
          4.5,
          8.5,
          8.5,
          4.75,
          13,
          7,
          4.75,
          11.75,
          2.75,
          4.5,
          12.25,
          5.75,
          5.75,
          5.5,
          16.5,
          16.5,
          11,
          14.5,
          17,
          17,
          4.5,
          5.75,
          7.75,
          9.25,
          3.75,
          2.75,
          6,
          6,
          16.5,
          6.25,
          4.75,
          7.5,
          3.5,
          10,
          5.75,
          1.25,
          11.25,
          8.75,
          11,
          3.5,
          11.5,
          11.5,
          5,
          10.5,
          14,
          13.5,
          15.75,
          14.75,
          6.5,
          8.5,
          5,
          15.75,
          15.75,
          15.75,
          16.75,
          3.5,
          21.25,
          5.5,
          7.75,
          3,
          14.75,
          6.5,
          6.5,
          8,
          13,
          15.75,
          6.75,
          6.75,
          5,
          18.5,
          5.75,
          17.5,
          5,
          16.75,
          5.25,
          12.75,
          10.5,
          19.25,
          4.25,
          4.25,
          12.5,
          4.25,
          15.75,
          15.75,
          6.5,
          11.5,
          6.5,
          9.25,
          16.75,
          13,
          10.25,
          12,
          11.25,
          11.75,
          4.75,
          10,
          11.5,
          3.75,
          3.5,
          9.75,
          12.75,
          20,
          8.5,
          8.75,
          13.5,
          13.5,
          15.5,
          15.5,
          21.5,
          2.25,
          14.25,
          9,
          7.25,
          11.75,
          11,
          5.25,
          17.25,
          2.75,
          7.75,
          9.25,
          9,
          5.5,
          12,
          7.75,
          11.25,
          13,
          6,
          7,
          7.5,
          9.5,
          7,
          16.75,
          15,
          5.25,
          4.25,
          6.75,
          13.25,
          15.75,
          14.5,
          6.75,
          9,
          21.75,
          7.5,
          18.75,
          12.5,
          11.5,
          8,
          18.75,
          12.75,
          14,
          9.25,
          13,
          8.25,
          29.25,
          11.5,
          9,
          16.75,
          7.5,
          9,
          8.25,
          9.75,
          11,
          19.75,
          6.75,
          11.25,
          3.25,
          17.25,
          4.25,
          7.75,
          18.25,
          12.25,
          14,
          14,
          7,
          16,
          16,
          3.75,
          7.25,
          9.5,
          6,
          9.5,
          7.5,
          7.5,
          8.25,
          7.25,
          4.5,
          12.25,
          12.25,
          1.5,
          5.5,
          9,
          9,
          4.75,
          16.75,
          9,
          5,
          15,
          14.5,
          5.25,
          10,
          10,
          5.75,
          10.75,
          10.25,
          7.75,
          10.25,
          9,
          11,
          11,
          9.5,
          2.5,
          15.5,
          14.5,
          8.5,
          8.75,
          7.25,
          7.5,
          9.75,
          14.75,
          17.5,
          12,
          12
         ],
         "xaxis": "x",
         "yaxis": "y"
        }
       ],
       "layout": {
        "autosize": true,
        "barmode": "relative",
        "legend": {
         "tracegroupgap": 0
        },
        "margin": {
         "t": 60
        },
        "template": {
         "data": {
          "bar": [
           {
            "error_x": {
             "color": "#2a3f5f"
            },
            "error_y": {
             "color": "#2a3f5f"
            },
            "marker": {
             "line": {
              "color": "#E5ECF6",
              "width": 0.5
             },
             "pattern": {
              "fillmode": "overlay",
              "size": 10,
              "solidity": 0.2
             }
            },
            "type": "bar"
           }
          ],
          "barpolar": [
           {
            "marker": {
             "line": {
              "color": "#E5ECF6",
              "width": 0.5
             },
             "pattern": {
              "fillmode": "overlay",
              "size": 10,
              "solidity": 0.2
             }
            },
            "type": "barpolar"
           }
          ],
          "carpet": [
           {
            "aaxis": {
             "endlinecolor": "#2a3f5f",
             "gridcolor": "white",
             "linecolor": "white",
             "minorgridcolor": "white",
             "startlinecolor": "#2a3f5f"
            },
            "baxis": {
             "endlinecolor": "#2a3f5f",
             "gridcolor": "white",
             "linecolor": "white",
             "minorgridcolor": "white",
             "startlinecolor": "#2a3f5f"
            },
            "type": "carpet"
           }
          ],
          "choropleth": [
           {
            "colorbar": {
             "outlinewidth": 0,
             "ticks": ""
            },
            "type": "choropleth"
           }
          ],
          "contour": [
           {
            "colorbar": {
             "outlinewidth": 0,
             "ticks": ""
            },
            "colorscale": [
             [
              0,
              "#0d0887"
             ],
             [
              0.1111111111111111,
              "#46039f"
             ],
             [
              0.2222222222222222,
              "#7201a8"
             ],
             [
              0.3333333333333333,
              "#9c179e"
             ],
             [
              0.4444444444444444,
              "#bd3786"
             ],
             [
              0.5555555555555556,
              "#d8576b"
             ],
             [
              0.6666666666666666,
              "#ed7953"
             ],
             [
              0.7777777777777778,
              "#fb9f3a"
             ],
             [
              0.8888888888888888,
              "#fdca26"
             ],
             [
              1,
              "#f0f921"
             ]
            ],
            "type": "contour"
           }
          ],
          "contourcarpet": [
           {
            "colorbar": {
             "outlinewidth": 0,
             "ticks": ""
            },
            "type": "contourcarpet"
           }
          ],
          "heatmap": [
           {
            "colorbar": {
             "outlinewidth": 0,
             "ticks": ""
            },
            "colorscale": [
             [
              0,
              "#0d0887"
             ],
             [
              0.1111111111111111,
              "#46039f"
             ],
             [
              0.2222222222222222,
              "#7201a8"
             ],
             [
              0.3333333333333333,
              "#9c179e"
             ],
             [
              0.4444444444444444,
              "#bd3786"
             ],
             [
              0.5555555555555556,
              "#d8576b"
             ],
             [
              0.6666666666666666,
              "#ed7953"
             ],
             [
              0.7777777777777778,
              "#fb9f3a"
             ],
             [
              0.8888888888888888,
              "#fdca26"
             ],
             [
              1,
              "#f0f921"
             ]
            ],
            "type": "heatmap"
           }
          ],
          "heatmapgl": [
           {
            "colorbar": {
             "outlinewidth": 0,
             "ticks": ""
            },
            "colorscale": [
             [
              0,
              "#0d0887"
             ],
             [
              0.1111111111111111,
              "#46039f"
             ],
             [
              0.2222222222222222,
              "#7201a8"
             ],
             [
              0.3333333333333333,
              "#9c179e"
             ],
             [
              0.4444444444444444,
              "#bd3786"
             ],
             [
              0.5555555555555556,
              "#d8576b"
             ],
             [
              0.6666666666666666,
              "#ed7953"
             ],
             [
              0.7777777777777778,
              "#fb9f3a"
             ],
             [
              0.8888888888888888,
              "#fdca26"
             ],
             [
              1,
              "#f0f921"
             ]
            ],
            "type": "heatmapgl"
           }
          ],
          "histogram": [
           {
            "marker": {
             "pattern": {
              "fillmode": "overlay",
              "size": 10,
              "solidity": 0.2
             }
            },
            "type": "histogram"
           }
          ],
          "histogram2d": [
           {
            "colorbar": {
             "outlinewidth": 0,
             "ticks": ""
            },
            "colorscale": [
             [
              0,
              "#0d0887"
             ],
             [
              0.1111111111111111,
              "#46039f"
             ],
             [
              0.2222222222222222,
              "#7201a8"
             ],
             [
              0.3333333333333333,
              "#9c179e"
             ],
             [
              0.4444444444444444,
              "#bd3786"
             ],
             [
              0.5555555555555556,
              "#d8576b"
             ],
             [
              0.6666666666666666,
              "#ed7953"
             ],
             [
              0.7777777777777778,
              "#fb9f3a"
             ],
             [
              0.8888888888888888,
              "#fdca26"
             ],
             [
              1,
              "#f0f921"
             ]
            ],
            "type": "histogram2d"
           }
          ],
          "histogram2dcontour": [
           {
            "colorbar": {
             "outlinewidth": 0,
             "ticks": ""
            },
            "colorscale": [
             [
              0,
              "#0d0887"
             ],
             [
              0.1111111111111111,
              "#46039f"
             ],
             [
              0.2222222222222222,
              "#7201a8"
             ],
             [
              0.3333333333333333,
              "#9c179e"
             ],
             [
              0.4444444444444444,
              "#bd3786"
             ],
             [
              0.5555555555555556,
              "#d8576b"
             ],
             [
              0.6666666666666666,
              "#ed7953"
             ],
             [
              0.7777777777777778,
              "#fb9f3a"
             ],
             [
              0.8888888888888888,
              "#fdca26"
             ],
             [
              1,
              "#f0f921"
             ]
            ],
            "type": "histogram2dcontour"
           }
          ],
          "mesh3d": [
           {
            "colorbar": {
             "outlinewidth": 0,
             "ticks": ""
            },
            "type": "mesh3d"
           }
          ],
          "parcoords": [
           {
            "line": {
             "colorbar": {
              "outlinewidth": 0,
              "ticks": ""
             }
            },
            "type": "parcoords"
           }
          ],
          "pie": [
           {
            "automargin": true,
            "type": "pie"
           }
          ],
          "scatter": [
           {
            "marker": {
             "colorbar": {
              "outlinewidth": 0,
              "ticks": ""
             }
            },
            "type": "scatter"
           }
          ],
          "scatter3d": [
           {
            "line": {
             "colorbar": {
              "outlinewidth": 0,
              "ticks": ""
             }
            },
            "marker": {
             "colorbar": {
              "outlinewidth": 0,
              "ticks": ""
             }
            },
            "type": "scatter3d"
           }
          ],
          "scattercarpet": [
           {
            "marker": {
             "colorbar": {
              "outlinewidth": 0,
              "ticks": ""
             }
            },
            "type": "scattercarpet"
           }
          ],
          "scattergeo": [
           {
            "marker": {
             "colorbar": {
              "outlinewidth": 0,
              "ticks": ""
             }
            },
            "type": "scattergeo"
           }
          ],
          "scattergl": [
           {
            "marker": {
             "colorbar": {
              "outlinewidth": 0,
              "ticks": ""
             }
            },
            "type": "scattergl"
           }
          ],
          "scattermapbox": [
           {
            "marker": {
             "colorbar": {
              "outlinewidth": 0,
              "ticks": ""
             }
            },
            "type": "scattermapbox"
           }
          ],
          "scatterpolar": [
           {
            "marker": {
             "colorbar": {
              "outlinewidth": 0,
              "ticks": ""
             }
            },
            "type": "scatterpolar"
           }
          ],
          "scatterpolargl": [
           {
            "marker": {
             "colorbar": {
              "outlinewidth": 0,
              "ticks": ""
             }
            },
            "type": "scatterpolargl"
           }
          ],
          "scatterternary": [
           {
            "marker": {
             "colorbar": {
              "outlinewidth": 0,
              "ticks": ""
             }
            },
            "type": "scatterternary"
           }
          ],
          "surface": [
           {
            "colorbar": {
             "outlinewidth": 0,
             "ticks": ""
            },
            "colorscale": [
             [
              0,
              "#0d0887"
             ],
             [
              0.1111111111111111,
              "#46039f"
             ],
             [
              0.2222222222222222,
              "#7201a8"
             ],
             [
              0.3333333333333333,
              "#9c179e"
             ],
             [
              0.4444444444444444,
              "#bd3786"
             ],
             [
              0.5555555555555556,
              "#d8576b"
             ],
             [
              0.6666666666666666,
              "#ed7953"
             ],
             [
              0.7777777777777778,
              "#fb9f3a"
             ],
             [
              0.8888888888888888,
              "#fdca26"
             ],
             [
              1,
              "#f0f921"
             ]
            ],
            "type": "surface"
           }
          ],
          "table": [
           {
            "cells": {
             "fill": {
              "color": "#EBF0F8"
             },
             "line": {
              "color": "white"
             }
            },
            "header": {
             "fill": {
              "color": "#C8D4E3"
             },
             "line": {
              "color": "white"
             }
            },
            "type": "table"
           }
          ]
         },
         "layout": {
          "annotationdefaults": {
           "arrowcolor": "#2a3f5f",
           "arrowhead": 0,
           "arrowwidth": 1
          },
          "autotypenumbers": "strict",
          "coloraxis": {
           "colorbar": {
            "outlinewidth": 0,
            "ticks": ""
           }
          },
          "colorscale": {
           "diverging": [
            [
             0,
             "#8e0152"
            ],
            [
             0.1,
             "#c51b7d"
            ],
            [
             0.2,
             "#de77ae"
            ],
            [
             0.3,
             "#f1b6da"
            ],
            [
             0.4,
             "#fde0ef"
            ],
            [
             0.5,
             "#f7f7f7"
            ],
            [
             0.6,
             "#e6f5d0"
            ],
            [
             0.7,
             "#b8e186"
            ],
            [
             0.8,
             "#7fbc41"
            ],
            [
             0.9,
             "#4d9221"
            ],
            [
             1,
             "#276419"
            ]
           ],
           "sequential": [
            [
             0,
             "#0d0887"
            ],
            [
             0.1111111111111111,
             "#46039f"
            ],
            [
             0.2222222222222222,
             "#7201a8"
            ],
            [
             0.3333333333333333,
             "#9c179e"
            ],
            [
             0.4444444444444444,
             "#bd3786"
            ],
            [
             0.5555555555555556,
             "#d8576b"
            ],
            [
             0.6666666666666666,
             "#ed7953"
            ],
            [
             0.7777777777777778,
             "#fb9f3a"
            ],
            [
             0.8888888888888888,
             "#fdca26"
            ],
            [
             1,
             "#f0f921"
            ]
           ],
           "sequentialminus": [
            [
             0,
             "#0d0887"
            ],
            [
             0.1111111111111111,
             "#46039f"
            ],
            [
             0.2222222222222222,
             "#7201a8"
            ],
            [
             0.3333333333333333,
             "#9c179e"
            ],
            [
             0.4444444444444444,
             "#bd3786"
            ],
            [
             0.5555555555555556,
             "#d8576b"
            ],
            [
             0.6666666666666666,
             "#ed7953"
            ],
            [
             0.7777777777777778,
             "#fb9f3a"
            ],
            [
             0.8888888888888888,
             "#fdca26"
            ],
            [
             1,
             "#f0f921"
            ]
           ]
          },
          "colorway": [
           "#636efa",
           "#EF553B",
           "#00cc96",
           "#ab63fa",
           "#FFA15A",
           "#19d3f3",
           "#FF6692",
           "#B6E880",
           "#FF97FF",
           "#FECB52"
          ],
          "font": {
           "color": "#2a3f5f"
          },
          "geo": {
           "bgcolor": "white",
           "lakecolor": "white",
           "landcolor": "#E5ECF6",
           "showlakes": true,
           "showland": true,
           "subunitcolor": "white"
          },
          "hoverlabel": {
           "align": "left"
          },
          "hovermode": "closest",
          "mapbox": {
           "style": "light"
          },
          "paper_bgcolor": "white",
          "plot_bgcolor": "#E5ECF6",
          "polar": {
           "angularaxis": {
            "gridcolor": "white",
            "linecolor": "white",
            "ticks": ""
           },
           "bgcolor": "#E5ECF6",
           "radialaxis": {
            "gridcolor": "white",
            "linecolor": "white",
            "ticks": ""
           }
          },
          "scene": {
           "xaxis": {
            "backgroundcolor": "#E5ECF6",
            "gridcolor": "white",
            "gridwidth": 2,
            "linecolor": "white",
            "showbackground": true,
            "ticks": "",
            "zerolinecolor": "white"
           },
           "yaxis": {
            "backgroundcolor": "#E5ECF6",
            "gridcolor": "white",
            "gridwidth": 2,
            "linecolor": "white",
            "showbackground": true,
            "ticks": "",
            "zerolinecolor": "white"
           },
           "zaxis": {
            "backgroundcolor": "#E5ECF6",
            "gridcolor": "white",
            "gridwidth": 2,
            "linecolor": "white",
            "showbackground": true,
            "ticks": "",
            "zerolinecolor": "white"
           }
          },
          "shapedefaults": {
           "line": {
            "color": "#2a3f5f"
           }
          },
          "ternary": {
           "aaxis": {
            "gridcolor": "white",
            "linecolor": "white",
            "ticks": ""
           },
           "baxis": {
            "gridcolor": "white",
            "linecolor": "white",
            "ticks": ""
           },
           "bgcolor": "#E5ECF6",
           "caxis": {
            "gridcolor": "white",
            "linecolor": "white",
            "ticks": ""
           }
          },
          "title": {
           "x": 0.05
          },
          "xaxis": {
           "automargin": true,
           "gridcolor": "white",
           "linecolor": "white",
           "ticks": "",
           "title": {
            "standoff": 15
           },
           "zerolinecolor": "white",
           "zerolinewidth": 2
          },
          "yaxis": {
           "automargin": true,
           "gridcolor": "white",
           "linecolor": "white",
           "ticks": "",
           "title": {
            "standoff": 15
           },
           "zerolinecolor": "white",
           "zerolinewidth": 2
          }
         }
        },
        "xaxis": {
         "anchor": "y",
         "autorange": true,
         "domain": [
          0,
          1
         ],
         "range": [
          0,
          30
         ],
         "title": {
          "text": "duration"
         },
         "type": "linear"
        },
        "yaxis": {
         "anchor": "x",
         "autorange": true,
         "domain": [
          0,
          1
         ],
         "range": [
          0,
          43.1578947368421
         ],
         "title": {
          "text": "count"
         }
        }
       }
      },
      "image/png": "[encoded data removed]",
      "text/html": [
       "<div>                            <div id=\"cb7d082d-b0c1-461f-9a4e-0bda6bac363f\" class=\"plotly-graph-div\" style=\"height:525px; width:100%;\"></div>            <script type=\"text/javascript\">                require([\"plotly\"], function(Plotly) {                    window.PLOTLYENV=window.PLOTLYENV || {};                                    if (document.getElementById(\"cb7d082d-b0c1-461f-9a4e-0bda6bac363f\")) {                    Plotly.newPlot(                        \"cb7d082d-b0c1-461f-9a4e-0bda6bac363f\",                        [{\"alignmentgroup\":\"True\",\"bingroup\":\"x\",\"hovertemplate\":\"duration=%{x}<br>count=%{y}<extra></extra>\",\"legendgroup\":\"\",\"marker\":{\"color\":\"#636efa\",\"pattern\":{\"shape\":\"\"}},\"name\":\"\",\"nbinsx\":20,\"offsetgroup\":\"\",\"orientation\":\"v\",\"showlegend\":false,\"x\":[5.5,3.25,6.75,9.0,12.25,3.0,7.5,8.0,13.5,6.75,6.0,7.25,11.0,16.0,11.75,4.5,8.5,8.5,4.75,13.0,7.0,4.75,11.75,2.75,4.5,12.25,5.75,5.75,5.5,16.5,16.5,11.0,14.5,17.0,17.0,4.5,5.75,7.75,9.25,3.75,2.75,6.0,6.0,16.5,6.25,4.75,7.5,3.5,10.0,5.75,1.25,11.25,8.75,11.0,3.5,11.5,11.5,5.0,10.5,14.0,13.5,15.75,14.75,6.5,8.5,5.0,15.75,15.75,15.75,16.75,3.5,21.25,5.5,7.75,3.0,14.75,6.5,6.5,8.0,13.0,15.75,6.75,6.75,5.0,18.5,5.75,17.5,5.0,16.75,5.25,12.75,10.5,19.25,4.25,4.25,12.5,4.25,15.75,15.75,6.5,11.5,6.5,9.25,16.75,13.0,10.25,12.0,11.25,11.75,4.75,10.0,11.5,3.75,3.5,9.75,12.75,20.0,8.5,8.75,13.5,13.5,15.5,15.5,21.5,2.25,14.25,9.0,7.25,11.75,11.0,5.25,17.25,2.75,7.75,9.25,9.0,5.5,12.0,7.75,11.25,13.0,6.0,7.0,7.5,9.5,7.0,16.75,15.0,5.25,4.25,6.75,13.25,15.75,14.5,6.75,9.0,21.75,7.5,18.75,12.5,11.5,8.0,18.75,12.75,14.0,9.25,13.0,8.25,29.25,11.5,9.0,16.75,7.5,9.0,8.25,9.75,11.0,19.75,6.75,11.25,3.25,17.25,4.25,7.75,18.25,12.25,14.0,14.0,7.0,16.0,16.0,3.75,7.25,9.5,6.0,9.5,7.5,7.5,8.25,7.25,4.5,12.25,12.25,1.5,5.5,9.0,9.0,4.75,16.75,9.0,5.0,15.0,14.5,5.25,10.0,10.0,5.75,10.75,10.25,7.75,10.25,9.0,11.0,11.0,9.5,2.5,15.5,14.5,8.5,8.75,7.25,7.5,9.75,14.75,17.5,12.0,12.0],\"xaxis\":\"x\",\"yaxis\":\"y\",\"type\":\"histogram\"}],                        {\"template\":{\"data\":{\"bar\":[{\"error_x\":{\"color\":\"#2a3f5f\"},\"error_y\":{\"color\":\"#2a3f5f\"},\"marker\":{\"line\":{\"color\":\"#E5ECF6\",\"width\":0.5},\"pattern\":{\"fillmode\":\"overlay\",\"size\":10,\"solidity\":0.2}},\"type\":\"bar\"}],\"barpolar\":[{\"marker\":{\"line\":{\"color\":\"#E5ECF6\",\"width\":0.5},\"pattern\":{\"fillmode\":\"overlay\",\"size\":10,\"solidity\":0.2}},\"type\":\"barpolar\"}],\"carpet\":[{\"aaxis\":{\"endlinecolor\":\"#2a3f5f\",\"gridcolor\":\"white\",\"linecolor\":\"white\",\"minorgridcolor\":\"white\",\"startlinecolor\":\"#2a3f5f\"},\"baxis\":{\"endlinecolor\":\"#2a3f5f\",\"gridcolor\":\"white\",\"linecolor\":\"white\",\"minorgridcolor\":\"white\",\"startlinecolor\":\"#2a3f5f\"},\"type\":\"carpet\"}],\"choropleth\":[{\"colorbar\":{\"outlinewidth\":0,\"ticks\":\"\"},\"type\":\"choropleth\"}],\"contour\":[{\"colorbar\":{\"outlinewidth\":0,\"ticks\":\"\"},\"colorscale\":[[0.0,\"#0d0887\"],[0.1111111111111111,\"#46039f\"],[0.2222222222222222,\"#7201a8\"],[0.3333333333333333,\"#9c179e\"],[0.4444444444444444,\"#bd3786\"],[0.5555555555555556,\"#d8576b\"],[0.6666666666666666,\"#ed7953\"],[0.7777777777777778,\"#fb9f3a\"],[0.8888888888888888,\"#fdca26\"],[1.0,\"#f0f921\"]],\"type\":\"contour\"}],\"contourcarpet\":[{\"colorbar\":{\"outlinewidth\":0,\"ticks\":\"\"},\"type\":\"contourcarpet\"}],\"heatmap\":[{\"colorbar\":{\"outlinewidth\":0,\"ticks\":\"\"},\"colorscale\":[[0.0,\"#0d0887\"],[0.1111111111111111,\"#46039f\"],[0.2222222222222222,\"#7201a8\"],[0.3333333333333333,\"#9c179e\"],[0.4444444444444444,\"#bd3786\"],[0.5555555555555556,\"#d8576b\"],[0.6666666666666666,\"#ed7953\"],[0.7777777777777778,\"#fb9f3a\"],[0.8888888888888888,\"#fdca26\"],[1.0,\"#f0f921\"]],\"type\":\"heatmap\"}],\"heatmapgl\":[{\"colorbar\":{\"outlinewidth\":0,\"ticks\":\"\"},\"colorscale\":[[0.0,\"#0d0887\"],[0.1111111111111111,\"#46039f\"],[0.2222222222222222,\"#7201a8\"],[0.3333333333333333,\"#9c179e\"],[0.4444444444444444,\"#bd3786\"],[0.5555555555555556,\"#d8576b\"],[0.6666666666666666,\"#ed7953\"],[0.7777777777777778,\"#fb9f3a\"],[0.8888888888888888,\"#fdca26\"],[1.0,\"#f0f921\"]],\"type\":\"heatmapgl\"}],\"histogram\":[{\"marker\":{\"pattern\":{\"fillmode\":\"overlay\",\"size\":10,\"solidity\":0.2}},\"type\":\"histogram\"}],\"histogram2d\":[{\"colorbar\":{\"outlinewidth\":0,\"ticks\":\"\"},\"colorscale\":[[0.0,\"#0d0887\"],[0.1111111111111111,\"#46039f\"],[0.2222222222222222,\"#7201a8\"],[0.3333333333333333,\"#9c179e\"],[0.4444444444444444,\"#bd3786\"],[0.5555555555555556,\"#d8576b\"],[0.6666666666666666,\"#ed7953\"],[0.7777777777777778,\"#fb9f3a\"],[0.8888888888888888,\"#fdca26\"],[1.0,\"#f0f921\"]],\"type\":\"histogram2d\"}],\"histogram2dcontour\":[{\"colorbar\":{\"outlinewidth\":0,\"ticks\":\"\"},\"colorscale\":[[0.0,\"#0d0887\"],[0.1111111111111111,\"#46039f\"],[0.2222222222222222,\"#7201a8\"],[0.3333333333333333,\"#9c179e\"],[0.4444444444444444,\"#bd3786\"],[0.5555555555555556,\"#d8576b\"],[0.6666666666666666,\"#ed7953\"],[0.7777777777777778,\"#fb9f3a\"],[0.8888888888888888,\"#fdca26\"],[1.0,\"#f0f921\"]],\"type\":\"histogram2dcontour\"}],\"mesh3d\":[{\"colorbar\":{\"outlinewidth\":0,\"ticks\":\"\"},\"type\":\"mesh3d\"}],\"parcoords\":[{\"line\":{\"colorbar\":{\"outlinewidth\":0,\"ticks\":\"\"}},\"type\":\"parcoords\"}],\"pie\":[{\"automargin\":true,\"type\":\"pie\"}],\"scatter\":[{\"marker\":{\"colorbar\":{\"outlinewidth\":0,\"ticks\":\"\"}},\"type\":\"scatter\"}],\"scatter3d\":[{\"line\":{\"colorbar\":{\"outlinewidth\":0,\"ticks\":\"\"}},\"marker\":{\"colorbar\":{\"outlinewidth\":0,\"ticks\":\"\"}},\"type\":\"scatter3d\"}],\"scattercarpet\":[{\"marker\":{\"colorbar\":{\"outlinewidth\":0,\"ticks\":\"\"}},\"type\":\"scattercarpet\"}],\"scattergeo\":[{\"marker\":{\"colorbar\":{\"outlinewidth\":0,\"ticks\":\"\"}},\"type\":\"scattergeo\"}],\"scattergl\":[{\"marker\":{\"colorbar\":{\"outlinewidth\":0,\"ticks\":\"\"}},\"type\":\"scattergl\"}],\"scattermapbox\":[{\"marker\":{\"colorbar\":{\"outlinewidth\":0,\"ticks\":\"\"}},\"type\":\"scattermapbox\"}],\"scatterpolar\":[{\"marker\":{\"colorbar\":{\"outlinewidth\":0,\"ticks\":\"\"}},\"type\":\"scatterpolar\"}],\"scatterpolargl\":[{\"marker\":{\"colorbar\":{\"outlinewidth\":0,\"ticks\":\"\"}},\"type\":\"scatterpolargl\"}],\"scatterternary\":[{\"marker\":{\"colorbar\":{\"outlinewidth\":0,\"ticks\":\"\"}},\"type\":\"scatterternary\"}],\"surface\":[{\"colorbar\":{\"outlinewidth\":0,\"ticks\":\"\"},\"colorscale\":[[0.0,\"#0d0887\"],[0.1111111111111111,\"#46039f\"],[0.2222222222222222,\"#7201a8\"],[0.3333333333333333,\"#9c179e\"],[0.4444444444444444,\"#bd3786\"],[0.5555555555555556,\"#d8576b\"],[0.6666666666666666,\"#ed7953\"],[0.7777777777777778,\"#fb9f3a\"],[0.8888888888888888,\"#fdca26\"],[1.0,\"#f0f921\"]],\"type\":\"surface\"}],\"table\":[{\"cells\":{\"fill\":{\"color\":\"#EBF0F8\"},\"line\":{\"color\":\"white\"}},\"header\":{\"fill\":{\"color\":\"#C8D4E3\"},\"line\":{\"color\":\"white\"}},\"type\":\"table\"}]},\"layout\":{\"annotationdefaults\":{\"arrowcolor\":\"#2a3f5f\",\"arrowhead\":0,\"arrowwidth\":1},\"autotypenumbers\":\"strict\",\"coloraxis\":{\"colorbar\":{\"outlinewidth\":0,\"ticks\":\"\"}},\"colorscale\":{\"diverging\":[[0,\"#8e0152\"],[0.1,\"#c51b7d\"],[0.2,\"#de77ae\"],[0.3,\"#f1b6da\"],[0.4,\"#fde0ef\"],[0.5,\"#f7f7f7\"],[0.6,\"#e6f5d0\"],[0.7,\"#b8e186\"],[0.8,\"#7fbc41\"],[0.9,\"#4d9221\"],[1,\"#276419\"]],\"sequential\":[[0.0,\"#0d0887\"],[0.1111111111111111,\"#46039f\"],[0.2222222222222222,\"#7201a8\"],[0.3333333333333333,\"#9c179e\"],[0.4444444444444444,\"#bd3786\"],[0.5555555555555556,\"#d8576b\"],[0.6666666666666666,\"#ed7953\"],[0.7777777777777778,\"#fb9f3a\"],[0.8888888888888888,\"#fdca26\"],[1.0,\"#f0f921\"]],\"sequentialminus\":[[0.0,\"#0d0887\"],[0.1111111111111111,\"#46039f\"],[0.2222222222222222,\"#7201a8\"],[0.3333333333333333,\"#9c179e\"],[0.4444444444444444,\"#bd3786\"],[0.5555555555555556,\"#d8576b\"],[0.6666666666666666,\"#ed7953\"],[0.7777777777777778,\"#fb9f3a\"],[0.8888888888888888,\"#fdca26\"],[1.0,\"#f0f921\"]]},\"colorway\":[\"#636efa\",\"#EF553B\",\"#00cc96\",\"#ab63fa\",\"#FFA15A\",\"#19d3f3\",\"#FF6692\",\"#B6E880\",\"#FF97FF\",\"#FECB52\"],\"font\":{\"color\":\"#2a3f5f\"},\"geo\":{\"bgcolor\":\"white\",\"lakecolor\":\"white\",\"landcolor\":\"#E5ECF6\",\"showlakes\":true,\"showland\":true,\"subunitcolor\":\"white\"},\"hoverlabel\":{\"align\":\"left\"},\"hovermode\":\"closest\",\"mapbox\":{\"style\":\"light\"},\"paper_bgcolor\":\"white\",\"plot_bgcolor\":\"#E5ECF6\",\"polar\":{\"angularaxis\":{\"gridcolor\":\"white\",\"linecolor\":\"white\",\"ticks\":\"\"},\"bgcolor\":\"#E5ECF6\",\"radialaxis\":{\"gridcolor\":\"white\",\"linecolor\":\"white\",\"ticks\":\"\"}},\"scene\":{\"xaxis\":{\"backgroundcolor\":\"#E5ECF6\",\"gridcolor\":\"white\",\"gridwidth\":2,\"linecolor\":\"white\",\"showbackground\":true,\"ticks\":\"\",\"zerolinecolor\":\"white\"},\"yaxis\":{\"backgroundcolor\":\"#E5ECF6\",\"gridcolor\":\"white\",\"gridwidth\":2,\"linecolor\":\"white\",\"showbackground\":true,\"ticks\":\"\",\"zerolinecolor\":\"white\"},\"zaxis\":{\"backgroundcolor\":\"#E5ECF6\",\"gridcolor\":\"white\",\"gridwidth\":2,\"linecolor\":\"white\",\"showbackground\":true,\"ticks\":\"\",\"zerolinecolor\":\"white\"}},\"shapedefaults\":{\"line\":{\"color\":\"#2a3f5f\"}},\"ternary\":{\"aaxis\":{\"gridcolor\":\"white\",\"linecolor\":\"white\",\"ticks\":\"\"},\"baxis\":{\"gridcolor\":\"white\",\"linecolor\":\"white\",\"ticks\":\"\"},\"bgcolor\":\"#E5ECF6\",\"caxis\":{\"gridcolor\":\"white\",\"linecolor\":\"white\",\"ticks\":\"\"}},\"title\":{\"x\":0.05},\"xaxis\":{\"automargin\":true,\"gridcolor\":\"white\",\"linecolor\":\"white\",\"ticks\":\"\",\"title\":{\"standoff\":15},\"zerolinecolor\":\"white\",\"zerolinewidth\":2},\"yaxis\":{\"automargin\":true,\"gridcolor\":\"white\",\"linecolor\":\"white\",\"ticks\":\"\",\"title\":{\"standoff\":15},\"zerolinecolor\":\"white\",\"zerolinewidth\":2}}},\"xaxis\":{\"anchor\":\"y\",\"domain\":[0.0,1.0],\"title\":{\"text\":\"duration\"}},\"yaxis\":{\"anchor\":\"x\",\"domain\":[0.0,1.0],\"title\":{\"text\":\"count\"}},\"legend\":{\"tracegroupgap\":0},\"margin\":{\"t\":60},\"barmode\":\"relative\"},                        {\"responsive\": true}                    ).then(function(){\n",
       "                            \n",
       "var gd = document.getElementById('cb7d082d-b0c1-461f-9a4e-0bda6bac363f');\n",
       "var x = new MutationObserver(function (mutations, observer) {{\n",
       "        var display = window.getComputedStyle(gd).display;\n",
       "        if (!display || display === 'none') {{\n",
       "            console.log([gd, 'removed!']);\n",
       "            Plotly.purge(gd);\n",
       "            observer.disconnect();\n",
       "        }}\n",
       "}});\n",
       "\n",
       "// Listen for the removal of the full notebook cells\n",
       "var notebookContainer = gd.closest('#notebook-container');\n",
       "if (notebookContainer) {{\n",
       "    x.observe(notebookContainer, {childList: true});\n",
       "}}\n",
       "\n",
       "// Listen for the clearing of the current output cell\n",
       "var outputEl = gd.closest('.output');\n",
       "if (outputEl) {{\n",
       "    x.observe(outputEl, {childList: true});\n",
       "}}\n",
       "\n",
       "                        })                };                });            </script>        </div>"
      ]
     },
     "metadata": {},
     "output_type": "display_data"
    }
   ],
   "source": [
    "fig = px.histogram(df, x=\"duration\", nbins = 20)\n",
    "fig.show()"
   ]
  },
  {
   "cell_type": "code",
   "execution_count": 57,
   "id": "5d79fe00-3730-4ab6-ad16-9e5d8e335460",
   "metadata": {},
   "outputs": [
    {
     "data": {
      "text/html": [
       "<div>\n",
       "<style scoped>\n",
       "    .dataframe tbody tr th:only-of-type {\n",
       "        vertical-align: middle;\n",
       "    }\n",
       "\n",
       "    .dataframe tbody tr th {\n",
       "        vertical-align: top;\n",
       "    }\n",
       "\n",
       "    .dataframe thead th {\n",
       "        text-align: right;\n",
       "    }\n",
       "</style>\n",
       "<table border=\"1\" class=\"dataframe\">\n",
       "  <thead>\n",
       "    <tr style=\"text-align: right;\">\n",
       "      <th></th>\n",
       "      <th>storm_id</th>\n",
       "      <th>duration</th>\n",
       "      <th>name</th>\n",
       "      <th>damage</th>\n",
       "      <th>date</th>\n",
       "      <th>wind</th>\n",
       "      <th>pressure</th>\n",
       "      <th>lat</th>\n",
       "      <th>long</th>\n",
       "      <th>rainfall</th>\n",
       "      <th>category</th>\n",
       "      <th>year</th>\n",
       "      <th>month</th>\n",
       "      <th>elevation</th>\n",
       "    </tr>\n",
       "  </thead>\n",
       "  <tbody>\n",
       "    <tr>\n",
       "      <th>157</th>\n",
       "      <td>AL122005</td>\n",
       "      <td>7.5</td>\n",
       "      <td>Katrina</td>\n",
       "      <td>1.250000e+11</td>\n",
       "      <td>2005-08-29</td>\n",
       "      <td>116.0</td>\n",
       "      <td>922.0</td>\n",
       "      <td>29.384533</td>\n",
       "      <td>-89.6027</td>\n",
       "      <td>16.43</td>\n",
       "      <td>3</td>\n",
       "      <td>2005</td>\n",
       "      <td>8</td>\n",
       "      <td>0.670101</td>\n",
       "    </tr>\n",
       "  </tbody>\n",
       "</table>\n",
       "</div>"
      ],
      "text/plain": [
       "     storm_id  duration     name        damage        date   wind  pressure  \\\n",
       "157  AL122005       7.5  Katrina  1.250000e+11  2005-08-29  116.0     922.0   \n",
       "\n",
       "           lat     long  rainfall  category  year  month  elevation  \n",
       "157  29.384533 -89.6027     16.43         3  2005      8   0.670101  "
      ]
     },
     "execution_count": 57,
     "metadata": {},
     "output_type": "execute_result"
    }
   ],
   "source": [
    "df[df.name == 'Katrina']"
   ]
  },
  {
   "cell_type": "code",
   "execution_count": 58,
   "id": "f2f43be7-30e8-4162-b77e-e79c1307bcaf",
   "metadata": {},
   "outputs": [
    {
     "data": {
      "text/html": [
       "<div>\n",
       "<style scoped>\n",
       "    .dataframe tbody tr th:only-of-type {\n",
       "        vertical-align: middle;\n",
       "    }\n",
       "\n",
       "    .dataframe tbody tr th {\n",
       "        vertical-align: top;\n",
       "    }\n",
       "\n",
       "    .dataframe thead th {\n",
       "        text-align: right;\n",
       "    }\n",
       "</style>\n",
       "<table border=\"1\" class=\"dataframe\">\n",
       "  <thead>\n",
       "    <tr style=\"text-align: right;\">\n",
       "      <th></th>\n",
       "      <th>storm_id</th>\n",
       "      <th>duration</th>\n",
       "      <th>name</th>\n",
       "      <th>damage</th>\n",
       "      <th>date</th>\n",
       "      <th>wind</th>\n",
       "      <th>pressure</th>\n",
       "      <th>lat</th>\n",
       "      <th>long</th>\n",
       "      <th>rainfall</th>\n",
       "      <th>category</th>\n",
       "      <th>year</th>\n",
       "      <th>month</th>\n",
       "      <th>elevation</th>\n",
       "    </tr>\n",
       "  </thead>\n",
       "  <tbody>\n",
       "    <tr>\n",
       "      <th>0</th>\n",
       "      <td>AL011959</td>\n",
       "      <td>5.50</td>\n",
       "      <td>Arlene</td>\n",
       "      <td>500000.0</td>\n",
       "      <td>1959-05-30</td>\n",
       "      <td>55.0</td>\n",
       "      <td>993.000000</td>\n",
       "      <td>29.650000</td>\n",
       "      <td>-91.600000</td>\n",
       "      <td>15.26</td>\n",
       "      <td>0</td>\n",
       "      <td>1959</td>\n",
       "      <td>5</td>\n",
       "      <td>0.299893</td>\n",
       "    </tr>\n",
       "    <tr>\n",
       "      <th>1</th>\n",
       "      <td>AL021993</td>\n",
       "      <td>3.25</td>\n",
       "      <td>Arlene</td>\n",
       "      <td>22000000.0</td>\n",
       "      <td>1993-06-20</td>\n",
       "      <td>35.0</td>\n",
       "      <td>1001.166667</td>\n",
       "      <td>27.116667</td>\n",
       "      <td>-97.466667</td>\n",
       "      <td>15.26</td>\n",
       "      <td>0</td>\n",
       "      <td>1993</td>\n",
       "      <td>6</td>\n",
       "      <td>2.473105</td>\n",
       "    </tr>\n",
       "    <tr>\n",
       "      <th>2</th>\n",
       "      <td>AL011962</td>\n",
       "      <td>6.75</td>\n",
       "      <td>Alma</td>\n",
       "      <td>1000000.0</td>\n",
       "      <td>1962-08-28</td>\n",
       "      <td>65.0</td>\n",
       "      <td>990.666667</td>\n",
       "      <td>34.526417</td>\n",
       "      <td>-76.099667</td>\n",
       "      <td>10.38</td>\n",
       "      <td>0</td>\n",
       "      <td>1962</td>\n",
       "      <td>8</td>\n",
       "      <td>-39.299995</td>\n",
       "    </tr>\n",
       "    <tr>\n",
       "      <th>3</th>\n",
       "      <td>AL011966</td>\n",
       "      <td>9.00</td>\n",
       "      <td>Alma</td>\n",
       "      <td>10050000.0</td>\n",
       "      <td>1966-06-09</td>\n",
       "      <td>80.0</td>\n",
       "      <td>979.666667</td>\n",
       "      <td>29.909800</td>\n",
       "      <td>-84.498200</td>\n",
       "      <td>10.38</td>\n",
       "      <td>1</td>\n",
       "      <td>1966</td>\n",
       "      <td>6</td>\n",
       "      <td>-0.304802</td>\n",
       "    </tr>\n",
       "    <tr>\n",
       "      <th>4</th>\n",
       "      <td>AL011968</td>\n",
       "      <td>12.25</td>\n",
       "      <td>Abby</td>\n",
       "      <td>450000.0</td>\n",
       "      <td>1968-06-04</td>\n",
       "      <td>57.0</td>\n",
       "      <td>992.000000</td>\n",
       "      <td>26.808383</td>\n",
       "      <td>-82.166817</td>\n",
       "      <td>14.65</td>\n",
       "      <td>0</td>\n",
       "      <td>1968</td>\n",
       "      <td>6</td>\n",
       "      <td>0.206002</td>\n",
       "    </tr>\n",
       "  </tbody>\n",
       "</table>\n",
       "</div>"
      ],
      "text/plain": [
       "   storm_id  duration    name      damage        date  wind     pressure  \\\n",
       "0  AL011959      5.50  Arlene    500000.0  1959-05-30  55.0   993.000000   \n",
       "1  AL021993      3.25  Arlene  22000000.0  1993-06-20  35.0  1001.166667   \n",
       "2  AL011962      6.75    Alma   1000000.0  1962-08-28  65.0   990.666667   \n",
       "3  AL011966      9.00    Alma  10050000.0  1966-06-09  80.0   979.666667   \n",
       "4  AL011968     12.25    Abby    450000.0  1968-06-04  57.0   992.000000   \n",
       "\n",
       "         lat       long  rainfall  category  year  month  elevation  \n",
       "0  29.650000 -91.600000     15.26         0  1959      5   0.299893  \n",
       "1  27.116667 -97.466667     15.26         0  1993      6   2.473105  \n",
       "2  34.526417 -76.099667     10.38         0  1962      8 -39.299995  \n",
       "3  29.909800 -84.498200     10.38         1  1966      6  -0.304802  \n",
       "4  26.808383 -82.166817     14.65         0  1968      6   0.206002  "
      ]
     },
     "execution_count": 58,
     "metadata": {},
     "output_type": "execute_result"
    }
   ],
   "source": [
    "df.head()"
   ]
  },
  {
   "cell_type": "code",
   "execution_count": 59,
   "id": "fcff3222-c714-4c8b-bc07-29bbcde8b4c9",
   "metadata": {},
   "outputs": [
    {
     "data": {
      "text/html": [
       "<div>\n",
       "<style scoped>\n",
       "    .dataframe tbody tr th:only-of-type {\n",
       "        vertical-align: middle;\n",
       "    }\n",
       "\n",
       "    .dataframe tbody tr th {\n",
       "        vertical-align: top;\n",
       "    }\n",
       "\n",
       "    .dataframe thead th {\n",
       "        text-align: right;\n",
       "    }\n",
       "</style>\n",
       "<table border=\"1\" class=\"dataframe\">\n",
       "  <thead>\n",
       "    <tr style=\"text-align: right;\">\n",
       "      <th></th>\n",
       "      <th>storm_id</th>\n",
       "      <th>duration</th>\n",
       "      <th>name</th>\n",
       "      <th>damage</th>\n",
       "      <th>date</th>\n",
       "      <th>wind</th>\n",
       "      <th>pressure</th>\n",
       "      <th>lat</th>\n",
       "      <th>long</th>\n",
       "      <th>rainfall</th>\n",
       "      <th>category</th>\n",
       "      <th>year</th>\n",
       "      <th>month</th>\n",
       "      <th>elevation</th>\n",
       "    </tr>\n",
       "  </thead>\n",
       "  <tbody>\n",
       "    <tr>\n",
       "      <th>232</th>\n",
       "      <td>AL111949</td>\n",
       "      <td>9.75</td>\n",
       "      <td>AL111949</td>\n",
       "      <td>6700000.0</td>\n",
       "      <td>1949-10-04</td>\n",
       "      <td>95.0</td>\n",
       "      <td>965.000000</td>\n",
       "      <td>28.800000</td>\n",
       "      <td>-95.600000</td>\n",
       "      <td>11.37</td>\n",
       "      <td>1</td>\n",
       "      <td>1949</td>\n",
       "      <td>10</td>\n",
       "      <td>0.679550</td>\n",
       "    </tr>\n",
       "    <tr>\n",
       "      <th>233</th>\n",
       "      <td>AL121933</td>\n",
       "      <td>14.75</td>\n",
       "      <td>AL121933</td>\n",
       "      <td>4750000.0</td>\n",
       "      <td>1933-09-16</td>\n",
       "      <td>90.0</td>\n",
       "      <td>952.833333</td>\n",
       "      <td>35.568750</td>\n",
       "      <td>-75.271083</td>\n",
       "      <td>12.61</td>\n",
       "      <td>1</td>\n",
       "      <td>1933</td>\n",
       "      <td>9</td>\n",
       "      <td>-25.026093</td>\n",
       "    </tr>\n",
       "    <tr>\n",
       "      <th>234</th>\n",
       "      <td>AL131936</td>\n",
       "      <td>17.50</td>\n",
       "      <td>AL131936</td>\n",
       "      <td>1600000.0</td>\n",
       "      <td>1936-09-18</td>\n",
       "      <td>85.0</td>\n",
       "      <td>965.000000</td>\n",
       "      <td>35.900000</td>\n",
       "      <td>-74.800000</td>\n",
       "      <td>7.79</td>\n",
       "      <td>1</td>\n",
       "      <td>1936</td>\n",
       "      <td>9</td>\n",
       "      <td>-718.417297</td>\n",
       "    </tr>\n",
       "    <tr>\n",
       "      <th>235</th>\n",
       "      <td>AL131944</td>\n",
       "      <td>12.00</td>\n",
       "      <td>AL131944</td>\n",
       "      <td>63000000.0</td>\n",
       "      <td>1944-10-19</td>\n",
       "      <td>95.0</td>\n",
       "      <td>962.000000</td>\n",
       "      <td>27.200000</td>\n",
       "      <td>-82.500000</td>\n",
       "      <td>11.27</td>\n",
       "      <td>1</td>\n",
       "      <td>1944</td>\n",
       "      <td>10</td>\n",
       "      <td>-0.903370</td>\n",
       "    </tr>\n",
       "    <tr>\n",
       "      <th>236</th>\n",
       "      <td>AL131944</td>\n",
       "      <td>12.00</td>\n",
       "      <td>AL131944</td>\n",
       "      <td>37000000.0</td>\n",
       "      <td>1944-10-19</td>\n",
       "      <td>60.0</td>\n",
       "      <td>978.666667</td>\n",
       "      <td>30.743267</td>\n",
       "      <td>-81.499733</td>\n",
       "      <td>11.27</td>\n",
       "      <td>0</td>\n",
       "      <td>1944</td>\n",
       "      <td>10</td>\n",
       "      <td>1.046803</td>\n",
       "    </tr>\n",
       "  </tbody>\n",
       "</table>\n",
       "</div>"
      ],
      "text/plain": [
       "     storm_id  duration      name      damage        date  wind    pressure  \\\n",
       "232  AL111949      9.75  AL111949   6700000.0  1949-10-04  95.0  965.000000   \n",
       "233  AL121933     14.75  AL121933   4750000.0  1933-09-16  90.0  952.833333   \n",
       "234  AL131936     17.50  AL131936   1600000.0  1936-09-18  85.0  965.000000   \n",
       "235  AL131944     12.00  AL131944  63000000.0  1944-10-19  95.0  962.000000   \n",
       "236  AL131944     12.00  AL131944  37000000.0  1944-10-19  60.0  978.666667   \n",
       "\n",
       "           lat       long  rainfall  category  year  month   elevation  \n",
       "232  28.800000 -95.600000     11.37         1  1949     10    0.679550  \n",
       "233  35.568750 -75.271083     12.61         1  1933      9  -25.026093  \n",
       "234  35.900000 -74.800000      7.79         1  1936      9 -718.417297  \n",
       "235  27.200000 -82.500000     11.27         1  1944     10   -0.903370  \n",
       "236  30.743267 -81.499733     11.27         0  1944     10    1.046803  "
      ]
     },
     "execution_count": 59,
     "metadata": {},
     "output_type": "execute_result"
    }
   ],
   "source": [
    "df.tail()"
   ]
  },
  {
   "cell_type": "markdown",
   "id": "b6562f1b-9ebc-4dab-8e3a-4def8208d371",
   "metadata": {},
   "source": [
    "## Correlation matrix"
   ]
  },
  {
   "cell_type": "code",
   "execution_count": 60,
   "id": "2938f981-f34d-4a7b-9626-b6f2e359fb6f",
   "metadata": {},
   "outputs": [
    {
     "data": {
      "text/html": [
       "<div>\n",
       "<style scoped>\n",
       "    .dataframe tbody tr th:only-of-type {\n",
       "        vertical-align: middle;\n",
       "    }\n",
       "\n",
       "    .dataframe tbody tr th {\n",
       "        vertical-align: top;\n",
       "    }\n",
       "\n",
       "    .dataframe thead th {\n",
       "        text-align: right;\n",
       "    }\n",
       "</style>\n",
       "<table border=\"1\" class=\"dataframe\">\n",
       "  <thead>\n",
       "    <tr style=\"text-align: right;\">\n",
       "      <th></th>\n",
       "      <th>duration</th>\n",
       "      <th>damage</th>\n",
       "      <th>wind</th>\n",
       "      <th>pressure</th>\n",
       "      <th>lat</th>\n",
       "      <th>long</th>\n",
       "      <th>rainfall</th>\n",
       "      <th>category</th>\n",
       "      <th>year</th>\n",
       "      <th>month</th>\n",
       "      <th>elevation</th>\n",
       "    </tr>\n",
       "  </thead>\n",
       "  <tbody>\n",
       "    <tr>\n",
       "      <th>duration</th>\n",
       "      <td>1.000000</td>\n",
       "      <td>0.098323</td>\n",
       "      <td>0.319139</td>\n",
       "      <td>-0.351517</td>\n",
       "      <td>0.095879</td>\n",
       "      <td>0.064002</td>\n",
       "      <td>-0.000848</td>\n",
       "      <td>0.287631</td>\n",
       "      <td>-0.034679</td>\n",
       "      <td>0.245062</td>\n",
       "      <td>-0.043991</td>\n",
       "    </tr>\n",
       "    <tr>\n",
       "      <th>damage</th>\n",
       "      <td>0.098323</td>\n",
       "      <td>1.000000</td>\n",
       "      <td>0.229903</td>\n",
       "      <td>-0.310574</td>\n",
       "      <td>-0.057458</td>\n",
       "      <td>0.180596</td>\n",
       "      <td>0.201965</td>\n",
       "      <td>0.273169</td>\n",
       "      <td>0.280663</td>\n",
       "      <td>0.024660</td>\n",
       "      <td>0.075542</td>\n",
       "    </tr>\n",
       "    <tr>\n",
       "      <th>wind</th>\n",
       "      <td>0.319139</td>\n",
       "      <td>0.229903</td>\n",
       "      <td>1.000000</td>\n",
       "      <td>-0.929566</td>\n",
       "      <td>-0.190143</td>\n",
       "      <td>0.176831</td>\n",
       "      <td>-0.165434</td>\n",
       "      <td>0.942746</td>\n",
       "      <td>-0.213119</td>\n",
       "      <td>0.138827</td>\n",
       "      <td>-0.030196</td>\n",
       "    </tr>\n",
       "    <tr>\n",
       "      <th>pressure</th>\n",
       "      <td>-0.351517</td>\n",
       "      <td>-0.310574</td>\n",
       "      <td>-0.929566</td>\n",
       "      <td>1.000000</td>\n",
       "      <td>0.123705</td>\n",
       "      <td>-0.155034</td>\n",
       "      <td>0.160898</td>\n",
       "      <td>-0.883919</td>\n",
       "      <td>0.194160</td>\n",
       "      <td>-0.164367</td>\n",
       "      <td>0.043615</td>\n",
       "    </tr>\n",
       "    <tr>\n",
       "      <th>lat</th>\n",
       "      <td>0.095879</td>\n",
       "      <td>-0.057458</td>\n",
       "      <td>-0.190143</td>\n",
       "      <td>0.123705</td>\n",
       "      <td>1.000000</td>\n",
       "      <td>-0.049383</td>\n",
       "      <td>-0.110831</td>\n",
       "      <td>-0.251128</td>\n",
       "      <td>0.014821</td>\n",
       "      <td>-0.034646</td>\n",
       "      <td>0.167836</td>\n",
       "    </tr>\n",
       "    <tr>\n",
       "      <th>long</th>\n",
       "      <td>0.064002</td>\n",
       "      <td>0.180596</td>\n",
       "      <td>0.176831</td>\n",
       "      <td>-0.155034</td>\n",
       "      <td>-0.049383</td>\n",
       "      <td>1.000000</td>\n",
       "      <td>-0.044898</td>\n",
       "      <td>0.203214</td>\n",
       "      <td>0.297090</td>\n",
       "      <td>-0.022055</td>\n",
       "      <td>0.319667</td>\n",
       "    </tr>\n",
       "    <tr>\n",
       "      <th>rainfall</th>\n",
       "      <td>-0.000848</td>\n",
       "      <td>0.201965</td>\n",
       "      <td>-0.165434</td>\n",
       "      <td>0.160898</td>\n",
       "      <td>-0.110831</td>\n",
       "      <td>-0.044898</td>\n",
       "      <td>1.000000</td>\n",
       "      <td>-0.141709</td>\n",
       "      <td>0.309390</td>\n",
       "      <td>-0.193381</td>\n",
       "      <td>0.084393</td>\n",
       "    </tr>\n",
       "    <tr>\n",
       "      <th>category</th>\n",
       "      <td>0.287631</td>\n",
       "      <td>0.273169</td>\n",
       "      <td>0.942746</td>\n",
       "      <td>-0.883919</td>\n",
       "      <td>-0.251128</td>\n",
       "      <td>0.203214</td>\n",
       "      <td>-0.141709</td>\n",
       "      <td>1.000000</td>\n",
       "      <td>-0.192296</td>\n",
       "      <td>0.118606</td>\n",
       "      <td>-0.030267</td>\n",
       "    </tr>\n",
       "    <tr>\n",
       "      <th>year</th>\n",
       "      <td>-0.034679</td>\n",
       "      <td>0.280663</td>\n",
       "      <td>-0.213119</td>\n",
       "      <td>0.194160</td>\n",
       "      <td>0.014821</td>\n",
       "      <td>0.297090</td>\n",
       "      <td>0.309390</td>\n",
       "      <td>-0.192296</td>\n",
       "      <td>1.000000</td>\n",
       "      <td>-0.074298</td>\n",
       "      <td>0.074549</td>\n",
       "    </tr>\n",
       "    <tr>\n",
       "      <th>month</th>\n",
       "      <td>0.245062</td>\n",
       "      <td>0.024660</td>\n",
       "      <td>0.138827</td>\n",
       "      <td>-0.164367</td>\n",
       "      <td>-0.034646</td>\n",
       "      <td>-0.022055</td>\n",
       "      <td>-0.193381</td>\n",
       "      <td>0.118606</td>\n",
       "      <td>-0.074298</td>\n",
       "      <td>1.000000</td>\n",
       "      <td>-0.016742</td>\n",
       "    </tr>\n",
       "    <tr>\n",
       "      <th>elevation</th>\n",
       "      <td>-0.043991</td>\n",
       "      <td>0.075542</td>\n",
       "      <td>-0.030196</td>\n",
       "      <td>0.043615</td>\n",
       "      <td>0.167836</td>\n",
       "      <td>0.319667</td>\n",
       "      <td>0.084393</td>\n",
       "      <td>-0.030267</td>\n",
       "      <td>0.074549</td>\n",
       "      <td>-0.016742</td>\n",
       "      <td>1.000000</td>\n",
       "    </tr>\n",
       "  </tbody>\n",
       "</table>\n",
       "</div>"
      ],
      "text/plain": [
       "           duration    damage      wind  pressure       lat      long  \\\n",
       "duration   1.000000  0.098323  0.319139 -0.351517  0.095879  0.064002   \n",
       "damage     0.098323  1.000000  0.229903 -0.310574 -0.057458  0.180596   \n",
       "wind       0.319139  0.229903  1.000000 -0.929566 -0.190143  0.176831   \n",
       "pressure  -0.351517 -0.310574 -0.929566  1.000000  0.123705 -0.155034   \n",
       "lat        0.095879 -0.057458 -0.190143  0.123705  1.000000 -0.049383   \n",
       "long       0.064002  0.180596  0.176831 -0.155034 -0.049383  1.000000   \n",
       "rainfall  -0.000848  0.201965 -0.165434  0.160898 -0.110831 -0.044898   \n",
       "category   0.287631  0.273169  0.942746 -0.883919 -0.251128  0.203214   \n",
       "year      -0.034679  0.280663 -0.213119  0.194160  0.014821  0.297090   \n",
       "month      0.245062  0.024660  0.138827 -0.164367 -0.034646 -0.022055   \n",
       "elevation -0.043991  0.075542 -0.030196  0.043615  0.167836  0.319667   \n",
       "\n",
       "           rainfall  category      year     month  elevation  \n",
       "duration  -0.000848  0.287631 -0.034679  0.245062  -0.043991  \n",
       "damage     0.201965  0.273169  0.280663  0.024660   0.075542  \n",
       "wind      -0.165434  0.942746 -0.213119  0.138827  -0.030196  \n",
       "pressure   0.160898 -0.883919  0.194160 -0.164367   0.043615  \n",
       "lat       -0.110831 -0.251128  0.014821 -0.034646   0.167836  \n",
       "long      -0.044898  0.203214  0.297090 -0.022055   0.319667  \n",
       "rainfall   1.000000 -0.141709  0.309390 -0.193381   0.084393  \n",
       "category  -0.141709  1.000000 -0.192296  0.118606  -0.030267  \n",
       "year       0.309390 -0.192296  1.000000 -0.074298   0.074549  \n",
       "month     -0.193381  0.118606 -0.074298  1.000000  -0.016742  \n",
       "elevation  0.084393 -0.030267  0.074549 -0.016742   1.000000  "
      ]
     },
     "execution_count": 60,
     "metadata": {},
     "output_type": "execute_result"
    }
   ],
   "source": [
    "df.corr()"
   ]
  },
  {
   "cell_type": "code",
   "execution_count": 61,
   "id": "6040cbed-5bd5-4886-8d50-5b4f89d2de9d",
   "metadata": {},
   "outputs": [
    {
     "data": {
      "text/plain": [
       "<AxesSubplot:>"
      ]
     },
     "execution_count": 61,
     "metadata": {},
     "output_type": "execute_result"
    },
    {
     "data": {
      "image/png": "[encoded data removed]",
      "text/plain": [
       "<Figure size 1080x720 with 2 Axes>"
      ]
     },
     "metadata": {
      "needs_background": "light"
     },
     "output_type": "display_data"
    }
   ],
   "source": [
    "fig, ax = plt.subplots(figsize=(15,10))\n",
    "sns.heatmap(df.corr(), cmap=\"YlGnBu\", annot=True)"
   ]
  },
  {
   "cell_type": "code",
   "execution_count": 63,
   "id": "2ca81353-e822-4954-9674-e1b472adbdc3",
   "metadata": {},
   "outputs": [
    {
     "data": {
      "text/plain": [
       "count     234.000000\n",
       "mean      970.489044\n",
       "std        22.537417\n",
       "min       899.465909\n",
       "25%       954.000000\n",
       "50%       973.000000\n",
       "75%       987.000000\n",
       "max      1009.500000\n",
       "Name: pressure, dtype: float64"
      ]
     },
     "execution_count": 63,
     "metadata": {},
     "output_type": "execute_result"
    }
   ],
   "source": [
    "df.pressure.describe()"
   ]
  },
  {
   "cell_type": "code",
   "execution_count": null,
   "id": "94b43b1e-d544-4038-9ef6-48f9bcbc87da",
   "metadata": {},
   "outputs": [],
   "source": []
  }
 ],
 "metadata": {
  "kernelspec": {
   "display_name": "Python 3 (ipykernel)",
   "language": "python",
   "name": "python3"
  },
  "language_info": {
   "codemirror_mode": {
    "name": "ipython",
    "version": 3
   },
   "file_extension": ".py",
   "mimetype": "text/x-python",
   "name": "python",
   "nbconvert_exporter": "python",
   "pygments_lexer": "ipython3",
   "version": "3.9.12"
  }
 },
 "nbformat": 4,
 "nbformat_minor": 5
}
