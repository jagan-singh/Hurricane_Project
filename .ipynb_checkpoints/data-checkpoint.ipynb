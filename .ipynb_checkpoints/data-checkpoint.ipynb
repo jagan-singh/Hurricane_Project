{
 "cells": [
  {
   "cell_type": "code",
   "execution_count": 186,
   "id": "11842ad5-cf18-497a-b52a-7d93878ef358",
   "metadata": {},
   "outputs": [],
   "source": [
    "import pandas as pd\n",
    "import numpy as np\n",
    "from datetime import datetime\n",
    "pd.set_option('display.max_columns', None)\n",
    "pd.set_option('display.max_rows', None)"
   ]
  },
  {
   "cell_type": "markdown",
   "id": "280ece93-526d-4627-85c2-855673f65132",
   "metadata": {},
   "source": [
    "## Processing data"
   ]
  },
  {
   "cell_type": "code",
   "execution_count": 107,
   "id": "e2ccd8f7-273d-444b-8c5f-efde0296b724",
   "metadata": {},
   "outputs": [],
   "source": [
    "hurricane_list = []\n",
    "with open('hurdat2.txt') as fp:\n",
    "    line = fp.readline()\n",
    "    while line:\n",
    "        if 'AL' in line:\n",
    "            storm_id = line.split(',')[0].strip()\n",
    "            storm_name = line.split(',')[1].strip()\n",
    "        else:\n",
    "            text = line.split(',')\n",
    "            oldformat = text[0] + text[1]\n",
    "            datetimeobject = datetime.strptime(oldformat,'%Y%m%d %H%M%S')\n",
    "            date = datetimeobject.strftime('%m-%d-%Y %H%M%S')\n",
    "            year = text[0].strip()[:4]\n",
    "            month = text[0].strip()[4:6]\n",
    "            landfall = text[2]\n",
    "            status = text[3].strip()\n",
    "            latitude = text[4].strip()\n",
    "            longitude = text[5].strip()\n",
    "            wind = text[6].strip()\n",
    "            hurricane_list.append(\n",
    "                {\n",
    "                    \"storm_id\": storm_id, \n",
    "                    \"name\": storm_name,\n",
    "                    \"date\": date,\n",
    "                    \"year\": year,\n",
    "                    \"month\": month,\n",
    "                    \"landfall\": landfall,\n",
    "                    \"status\" : status,\n",
    "                    \"latitude\" : latitude,\n",
    "                    \"longitude\" : longitude,\n",
    "                    \"windspeed\" : wind,\n",
    "                    \"pressure\" : pressure\n",
    "                }) \n",
    "        line = fp.readline() \n"
   ]
  },
  {
   "cell_type": "code",
   "execution_count": 108,
   "id": "d41c0564-ea96-4862-8ead-2cc368658a07",
   "metadata": {},
   "outputs": [],
   "source": [
    "# Create Dataframe and reorder columns\n",
    "df = pd.DataFrame(hurricane_list)\n",
    "df = df.loc[:, [\"storm_id\", \"name\",\"date\", \"year\", \"month\", \"status\", \"latitude\",\n",
    "                                    \"longitude\", \"windspeed\", \"pressure\", \"landfall\"]]"
   ]
  },
  {
   "cell_type": "code",
   "execution_count": 109,
   "id": "577a66c6-f829-4d0d-b0f2-4b7ed33380d3",
   "metadata": {},
   "outputs": [
    {
     "data": {
      "text/plain": [
       "(53501, 11)"
      ]
     },
     "execution_count": 109,
     "metadata": {},
     "output_type": "execute_result"
    }
   ],
   "source": [
    "df.shape"
   ]
  },
  {
   "cell_type": "code",
   "execution_count": 110,
   "id": "324c53d7-6264-4ea5-8423-6b1cc00edb8c",
   "metadata": {},
   "outputs": [
    {
     "data": {
      "text/html": [
       "<div>\n",
       "<style scoped>\n",
       "    .dataframe tbody tr th:only-of-type {\n",
       "        vertical-align: middle;\n",
       "    }\n",
       "\n",
       "    .dataframe tbody tr th {\n",
       "        vertical-align: top;\n",
       "    }\n",
       "\n",
       "    .dataframe thead th {\n",
       "        text-align: right;\n",
       "    }\n",
       "</style>\n",
       "<table border=\"1\" class=\"dataframe\">\n",
       "  <thead>\n",
       "    <tr style=\"text-align: right;\">\n",
       "      <th></th>\n",
       "      <th>storm_id</th>\n",
       "      <th>name</th>\n",
       "      <th>date</th>\n",
       "      <th>year</th>\n",
       "      <th>month</th>\n",
       "      <th>status</th>\n",
       "      <th>latitude</th>\n",
       "      <th>longitude</th>\n",
       "      <th>windspeed</th>\n",
       "      <th>pressure</th>\n",
       "      <th>landfall</th>\n",
       "    </tr>\n",
       "  </thead>\n",
       "  <tbody>\n",
       "    <tr>\n",
       "      <th>0</th>\n",
       "      <td>AL011851</td>\n",
       "      <td>UNNAMED</td>\n",
       "      <td>06-25-1851 000000</td>\n",
       "      <td>1851</td>\n",
       "      <td>06</td>\n",
       "      <td>HU</td>\n",
       "      <td>28.0N</td>\n",
       "      <td>94.8W</td>\n",
       "      <td>80</td>\n",
       "      <td>-999</td>\n",
       "      <td></td>\n",
       "    </tr>\n",
       "    <tr>\n",
       "      <th>1</th>\n",
       "      <td>AL011851</td>\n",
       "      <td>UNNAMED</td>\n",
       "      <td>06-25-1851 060000</td>\n",
       "      <td>1851</td>\n",
       "      <td>06</td>\n",
       "      <td>HU</td>\n",
       "      <td>28.0N</td>\n",
       "      <td>95.4W</td>\n",
       "      <td>80</td>\n",
       "      <td>-999</td>\n",
       "      <td></td>\n",
       "    </tr>\n",
       "    <tr>\n",
       "      <th>2</th>\n",
       "      <td>AL011851</td>\n",
       "      <td>UNNAMED</td>\n",
       "      <td>06-25-1851 120000</td>\n",
       "      <td>1851</td>\n",
       "      <td>06</td>\n",
       "      <td>HU</td>\n",
       "      <td>28.0N</td>\n",
       "      <td>96.0W</td>\n",
       "      <td>80</td>\n",
       "      <td>-999</td>\n",
       "      <td></td>\n",
       "    </tr>\n",
       "    <tr>\n",
       "      <th>3</th>\n",
       "      <td>AL011851</td>\n",
       "      <td>UNNAMED</td>\n",
       "      <td>06-25-1851 180000</td>\n",
       "      <td>1851</td>\n",
       "      <td>06</td>\n",
       "      <td>HU</td>\n",
       "      <td>28.1N</td>\n",
       "      <td>96.5W</td>\n",
       "      <td>80</td>\n",
       "      <td>-999</td>\n",
       "      <td></td>\n",
       "    </tr>\n",
       "    <tr>\n",
       "      <th>4</th>\n",
       "      <td>AL011851</td>\n",
       "      <td>UNNAMED</td>\n",
       "      <td>06-25-1851 210000</td>\n",
       "      <td>1851</td>\n",
       "      <td>06</td>\n",
       "      <td>HU</td>\n",
       "      <td>28.2N</td>\n",
       "      <td>96.8W</td>\n",
       "      <td>80</td>\n",
       "      <td>-999</td>\n",
       "      <td>L</td>\n",
       "    </tr>\n",
       "  </tbody>\n",
       "</table>\n",
       "</div>"
      ],
      "text/plain": [
       "   storm_id     name               date  year month status latitude longitude  \\\n",
       "0  AL011851  UNNAMED  06-25-1851 000000  1851    06     HU    28.0N     94.8W   \n",
       "1  AL011851  UNNAMED  06-25-1851 060000  1851    06     HU    28.0N     95.4W   \n",
       "2  AL011851  UNNAMED  06-25-1851 120000  1851    06     HU    28.0N     96.0W   \n",
       "3  AL011851  UNNAMED  06-25-1851 180000  1851    06     HU    28.1N     96.5W   \n",
       "4  AL011851  UNNAMED  06-25-1851 210000  1851    06     HU    28.2N     96.8W   \n",
       "\n",
       "  windspeed pressure landfall  \n",
       "0        80     -999           \n",
       "1        80     -999           \n",
       "2        80     -999           \n",
       "3        80     -999           \n",
       "4        80     -999        L  "
      ]
     },
     "execution_count": 110,
     "metadata": {},
     "output_type": "execute_result"
    }
   ],
   "source": [
    "df.head()"
   ]
  },
  {
   "cell_type": "code",
   "execution_count": 111,
   "id": "a1e36f70-7809-4f5e-a485-22ff5df0aaa6",
   "metadata": {},
   "outputs": [
    {
     "data": {
      "text/plain": [
       "storm_id     0\n",
       "name         0\n",
       "date         0\n",
       "year         0\n",
       "month        0\n",
       "status       0\n",
       "latitude     0\n",
       "longitude    0\n",
       "windspeed    0\n",
       "pressure     0\n",
       "landfall     0\n",
       "dtype: int64"
      ]
     },
     "execution_count": 111,
     "metadata": {},
     "output_type": "execute_result"
    }
   ],
   "source": [
    "df.isna().sum()"
   ]
  },
  {
   "cell_type": "code",
   "execution_count": 113,
   "id": "b53f49ee-7a3c-4e41-a62a-7de23139b613",
   "metadata": {},
   "outputs": [
    {
     "data": {
      "text/plain": [
       "storm_id     object\n",
       "name         object\n",
       "date         object\n",
       "year         object\n",
       "month        object\n",
       "status       object\n",
       "latitude     object\n",
       "longitude    object\n",
       "windspeed    object\n",
       "pressure     object\n",
       "landfall     object\n",
       "dtype: object"
      ]
     },
     "execution_count": 113,
     "metadata": {},
     "output_type": "execute_result"
    }
   ],
   "source": [
    "df.dtypes"
   ]
  },
  {
   "cell_type": "markdown",
   "id": "a4a1d55a-46e5-4754-bfad-b423726eaf6b",
   "metadata": {},
   "source": [
    "### Change types for Windspeed and Pressure to numeric and datetime"
   ]
  },
  {
   "cell_type": "markdown",
   "id": "cf9252cc-6d44-4633-a450-147559ea3dbd",
   "metadata": {},
   "source": [
    "#### Converting windspeed from kt to mph"
   ]
  },
  {
   "cell_type": "code",
   "execution_count": 115,
   "id": "a11547c6-8e45-4d21-a54d-fedcba2a7b09",
   "metadata": {},
   "outputs": [],
   "source": [
    "df['windspeed'] = pd.to_numeric(df['windspeed'])\n",
    "df['windspeed'] = df['windspeed'] * 1.15078\n",
    "df['pressure'] = pd.to_numeric(df['pressure'])\n",
    "df['date'] = pd.to_datetime(df['date'])"
   ]
  },
  {
   "cell_type": "markdown",
   "id": "2d107242-8f3c-4eb2-9728-18f779cb2afb",
   "metadata": {},
   "source": [
    "### Getting min and max date"
   ]
  },
  {
   "cell_type": "code",
   "execution_count": 143,
   "id": "de9edc30-6ad4-4c13-aae4-97c6054fa5b8",
   "metadata": {},
   "outputs": [],
   "source": [
    "new_df = df.groupby('storm_id')\n",
    "new_df = new_df['date']\n",
    "start_date = new_df.min()\n",
    "end_date = new_df.max()\n",
    "duration = end_date - start_date\n"
   ]
  },
  {
   "cell_type": "markdown",
   "id": "c5ab82fc-ee11-41e5-af9c-0fcedc09f31b",
   "metadata": {},
   "source": [
    "### Merge Start Date, End Date, and Duration to one dataframe. "
   ]
  },
  {
   "cell_type": "code",
   "execution_count": 161,
   "id": "3504058c-b267-42a0-a738-b001f5d2f324",
   "metadata": {},
   "outputs": [],
   "source": [
    "new_df = pd.DataFrame({\"start_date\": start_date\n",
    "                             ,\"end_date\": end_date\n",
    "                             ,\"duration\" : duration\n",
    "                            }).reset_index()"
   ]
  },
  {
   "cell_type": "code",
   "execution_count": 162,
   "id": "7d905062-0877-4bd6-979e-21eef29da7a4",
   "metadata": {},
   "outputs": [
    {
     "data": {
      "text/html": [
       "<div>\n",
       "<style scoped>\n",
       "    .dataframe tbody tr th:only-of-type {\n",
       "        vertical-align: middle;\n",
       "    }\n",
       "\n",
       "    .dataframe tbody tr th {\n",
       "        vertical-align: top;\n",
       "    }\n",
       "\n",
       "    .dataframe thead th {\n",
       "        text-align: right;\n",
       "    }\n",
       "</style>\n",
       "<table border=\"1\" class=\"dataframe\">\n",
       "  <thead>\n",
       "    <tr style=\"text-align: right;\">\n",
       "      <th></th>\n",
       "      <th>storm_id</th>\n",
       "      <th>start_date</th>\n",
       "      <th>end_date</th>\n",
       "      <th>duration</th>\n",
       "    </tr>\n",
       "  </thead>\n",
       "  <tbody>\n",
       "    <tr>\n",
       "      <th>0</th>\n",
       "      <td>AL011851</td>\n",
       "      <td>1851-06-25 00:00:00</td>\n",
       "      <td>1851-06-28 00:00:00</td>\n",
       "      <td>3 days 00:00:00</td>\n",
       "    </tr>\n",
       "    <tr>\n",
       "      <th>1</th>\n",
       "      <td>AL011852</td>\n",
       "      <td>1852-08-19 00:00:00</td>\n",
       "      <td>1852-08-30 00:00:00</td>\n",
       "      <td>11 days 00:00:00</td>\n",
       "    </tr>\n",
       "    <tr>\n",
       "      <th>2</th>\n",
       "      <td>AL011853</td>\n",
       "      <td>1853-08-05 12:00:00</td>\n",
       "      <td>1853-08-05 12:00:00</td>\n",
       "      <td>0 days 00:00:00</td>\n",
       "    </tr>\n",
       "    <tr>\n",
       "      <th>3</th>\n",
       "      <td>AL011854</td>\n",
       "      <td>1854-06-25 00:00:00</td>\n",
       "      <td>1854-06-27 12:00:00</td>\n",
       "      <td>2 days 12:00:00</td>\n",
       "    </tr>\n",
       "    <tr>\n",
       "      <th>4</th>\n",
       "      <td>AL011855</td>\n",
       "      <td>1855-08-06 12:00:00</td>\n",
       "      <td>1855-08-06 12:00:00</td>\n",
       "      <td>0 days 00:00:00</td>\n",
       "    </tr>\n",
       "  </tbody>\n",
       "</table>\n",
       "</div>"
      ],
      "text/plain": [
       "   storm_id          start_date            end_date         duration\n",
       "0  AL011851 1851-06-25 00:00:00 1851-06-28 00:00:00  3 days 00:00:00\n",
       "1  AL011852 1852-08-19 00:00:00 1852-08-30 00:00:00 11 days 00:00:00\n",
       "2  AL011853 1853-08-05 12:00:00 1853-08-05 12:00:00  0 days 00:00:00\n",
       "3  AL011854 1854-06-25 00:00:00 1854-06-27 12:00:00  2 days 12:00:00\n",
       "4  AL011855 1855-08-06 12:00:00 1855-08-06 12:00:00  0 days 00:00:00"
      ]
     },
     "execution_count": 162,
     "metadata": {},
     "output_type": "execute_result"
    }
   ],
   "source": [
    "new_df.head()"
   ]
  },
  {
   "cell_type": "code",
   "execution_count": 160,
   "id": "a9aaede1-9eb8-457d-991c-f9f89fb2ce7f",
   "metadata": {},
   "outputs": [
    {
     "data": {
      "text/plain": [
       "0    28.0N\n",
       "1    20.5N\n",
       "Name: latitude, dtype: object"
      ]
     },
     "execution_count": 160,
     "metadata": {},
     "output_type": "execute_result"
    }
   ],
   "source": [
    "pd.merge(date_df.head(100), df.head(100)[['latitude', 'date']], left_on = 'start_date', right_on = 'date')"
   ]
  },
  {
   "cell_type": "code",
   "execution_count": 165,
   "id": "5d38d521-c8af-4027-bbac-0e19596275e5",
   "metadata": {},
   "outputs": [],
   "source": [
    "new_df['begin_lat'] = pd.merge(new_df, df[['latitude', 'date']], left_on = 'start_date', right_on = 'date')['latitude']\n",
    "new_df['begin_lon'] = pd.merge(new_df, df[['longitude', 'date']], left_on = 'start_date', right_on = 'date')['longitude']\n",
    "new_df['end_lat'] = pd.merge(new_df, df[['latitude', 'date']], left_on = 'end_date', right_on = 'date')['latitude']\n",
    "new_df['end_lon'] = pd.merge(new_df, df[['longitude', 'date']], left_on = 'end_date', right_on = 'date')['longitude']"
   ]
  },
  {
   "cell_type": "code",
   "execution_count": 166,
   "id": "2ba83e8b-cc9a-49bd-b9b7-18c108efd14b",
   "metadata": {},
   "outputs": [
    {
     "data": {
      "text/html": [
       "<div>\n",
       "<style scoped>\n",
       "    .dataframe tbody tr th:only-of-type {\n",
       "        vertical-align: middle;\n",
       "    }\n",
       "\n",
       "    .dataframe tbody tr th {\n",
       "        vertical-align: top;\n",
       "    }\n",
       "\n",
       "    .dataframe thead th {\n",
       "        text-align: right;\n",
       "    }\n",
       "</style>\n",
       "<table border=\"1\" class=\"dataframe\">\n",
       "  <thead>\n",
       "    <tr style=\"text-align: right;\">\n",
       "      <th></th>\n",
       "      <th>storm_id</th>\n",
       "      <th>start_date</th>\n",
       "      <th>end_date</th>\n",
       "      <th>duration</th>\n",
       "      <th>begin_lat</th>\n",
       "      <th>begin_lon</th>\n",
       "      <th>end_lat</th>\n",
       "      <th>end_lon</th>\n",
       "    </tr>\n",
       "  </thead>\n",
       "  <tbody>\n",
       "    <tr>\n",
       "      <th>0</th>\n",
       "      <td>AL011851</td>\n",
       "      <td>1851-06-25 00:00:00</td>\n",
       "      <td>1851-06-28 00:00:00</td>\n",
       "      <td>3 days 00:00:00</td>\n",
       "      <td>28.0N</td>\n",
       "      <td>94.8W</td>\n",
       "      <td>31.0N</td>\n",
       "      <td>100.2W</td>\n",
       "    </tr>\n",
       "    <tr>\n",
       "      <th>1</th>\n",
       "      <td>AL011852</td>\n",
       "      <td>1852-08-19 00:00:00</td>\n",
       "      <td>1852-08-30 00:00:00</td>\n",
       "      <td>11 days 00:00:00</td>\n",
       "      <td>20.5N</td>\n",
       "      <td>67.1W</td>\n",
       "      <td>41.0N</td>\n",
       "      <td>68.0W</td>\n",
       "    </tr>\n",
       "    <tr>\n",
       "      <th>2</th>\n",
       "      <td>AL011853</td>\n",
       "      <td>1853-08-05 12:00:00</td>\n",
       "      <td>1853-08-05 12:00:00</td>\n",
       "      <td>0 days 00:00:00</td>\n",
       "      <td>32.5N</td>\n",
       "      <td>69.0W</td>\n",
       "      <td>32.5N</td>\n",
       "      <td>69.0W</td>\n",
       "    </tr>\n",
       "    <tr>\n",
       "      <th>3</th>\n",
       "      <td>AL011854</td>\n",
       "      <td>1854-06-25 00:00:00</td>\n",
       "      <td>1854-06-27 12:00:00</td>\n",
       "      <td>2 days 12:00:00</td>\n",
       "      <td>26.0N</td>\n",
       "      <td>92.5W</td>\n",
       "      <td>28.0N</td>\n",
       "      <td>103.0W</td>\n",
       "    </tr>\n",
       "    <tr>\n",
       "      <th>4</th>\n",
       "      <td>AL011855</td>\n",
       "      <td>1855-08-06 12:00:00</td>\n",
       "      <td>1855-08-06 12:00:00</td>\n",
       "      <td>0 days 00:00:00</td>\n",
       "      <td>22.2N</td>\n",
       "      <td>98.0W</td>\n",
       "      <td>22.2N</td>\n",
       "      <td>98.0W</td>\n",
       "    </tr>\n",
       "  </tbody>\n",
       "</table>\n",
       "</div>"
      ],
      "text/plain": [
       "   storm_id          start_date            end_date         duration  \\\n",
       "0  AL011851 1851-06-25 00:00:00 1851-06-28 00:00:00  3 days 00:00:00   \n",
       "1  AL011852 1852-08-19 00:00:00 1852-08-30 00:00:00 11 days 00:00:00   \n",
       "2  AL011853 1853-08-05 12:00:00 1853-08-05 12:00:00  0 days 00:00:00   \n",
       "3  AL011854 1854-06-25 00:00:00 1854-06-27 12:00:00  2 days 12:00:00   \n",
       "4  AL011855 1855-08-06 12:00:00 1855-08-06 12:00:00  0 days 00:00:00   \n",
       "\n",
       "  begin_lat begin_lon end_lat end_lon  \n",
       "0     28.0N     94.8W   31.0N  100.2W  \n",
       "1     20.5N     67.1W   41.0N   68.0W  \n",
       "2     32.5N     69.0W   32.5N   69.0W  \n",
       "3     26.0N     92.5W   28.0N  103.0W  \n",
       "4     22.2N     98.0W   22.2N   98.0W  "
      ]
     },
     "execution_count": 166,
     "metadata": {},
     "output_type": "execute_result"
    }
   ],
   "source": [
    "new_df.head()"
   ]
  },
  {
   "cell_type": "markdown",
   "id": "75565b96-2955-4ee3-929f-5b602cffa6a0",
   "metadata": {},
   "source": [
    "### Getting max windspeed"
   ]
  },
  {
   "cell_type": "code",
   "execution_count": 169,
   "id": "4f14a0a9-5b9b-485a-b145-4e504acd3c85",
   "metadata": {},
   "outputs": [],
   "source": [
    "wind_df = df.groupby('storm_id').windspeed.max()"
   ]
  },
  {
   "cell_type": "code",
   "execution_count": 172,
   "id": "a624e270-dd6e-4854-9063-2eb2d31625a3",
   "metadata": {},
   "outputs": [],
   "source": [
    "new_df = pd.merge(new_df, wind_df, on = 'storm_id')"
   ]
  },
  {
   "cell_type": "code",
   "execution_count": 173,
   "id": "c8a922d4-0c11-42f5-9ea8-ca4672e681f8",
   "metadata": {},
   "outputs": [
    {
     "data": {
      "text/html": [
       "<div>\n",
       "<style scoped>\n",
       "    .dataframe tbody tr th:only-of-type {\n",
       "        vertical-align: middle;\n",
       "    }\n",
       "\n",
       "    .dataframe tbody tr th {\n",
       "        vertical-align: top;\n",
       "    }\n",
       "\n",
       "    .dataframe thead th {\n",
       "        text-align: right;\n",
       "    }\n",
       "</style>\n",
       "<table border=\"1\" class=\"dataframe\">\n",
       "  <thead>\n",
       "    <tr style=\"text-align: right;\">\n",
       "      <th></th>\n",
       "      <th>storm_id</th>\n",
       "      <th>start_date</th>\n",
       "      <th>end_date</th>\n",
       "      <th>duration</th>\n",
       "      <th>begin_lat</th>\n",
       "      <th>begin_lon</th>\n",
       "      <th>end_lat</th>\n",
       "      <th>end_lon</th>\n",
       "      <th>windspeed</th>\n",
       "    </tr>\n",
       "  </thead>\n",
       "  <tbody>\n",
       "    <tr>\n",
       "      <th>0</th>\n",
       "      <td>AL011851</td>\n",
       "      <td>1851-06-25 00:00:00</td>\n",
       "      <td>1851-06-28 00:00:00</td>\n",
       "      <td>3 days 00:00:00</td>\n",
       "      <td>28.0N</td>\n",
       "      <td>94.8W</td>\n",
       "      <td>31.0N</td>\n",
       "      <td>100.2W</td>\n",
       "      <td>92.0624</td>\n",
       "    </tr>\n",
       "    <tr>\n",
       "      <th>1</th>\n",
       "      <td>AL011852</td>\n",
       "      <td>1852-08-19 00:00:00</td>\n",
       "      <td>1852-08-30 00:00:00</td>\n",
       "      <td>11 days 00:00:00</td>\n",
       "      <td>20.5N</td>\n",
       "      <td>67.1W</td>\n",
       "      <td>41.0N</td>\n",
       "      <td>68.0W</td>\n",
       "      <td>115.0780</td>\n",
       "    </tr>\n",
       "    <tr>\n",
       "      <th>2</th>\n",
       "      <td>AL011853</td>\n",
       "      <td>1853-08-05 12:00:00</td>\n",
       "      <td>1853-08-05 12:00:00</td>\n",
       "      <td>0 days 00:00:00</td>\n",
       "      <td>32.5N</td>\n",
       "      <td>69.0W</td>\n",
       "      <td>32.5N</td>\n",
       "      <td>69.0W</td>\n",
       "      <td>57.5390</td>\n",
       "    </tr>\n",
       "    <tr>\n",
       "      <th>3</th>\n",
       "      <td>AL011854</td>\n",
       "      <td>1854-06-25 00:00:00</td>\n",
       "      <td>1854-06-27 12:00:00</td>\n",
       "      <td>2 days 12:00:00</td>\n",
       "      <td>26.0N</td>\n",
       "      <td>92.5W</td>\n",
       "      <td>28.0N</td>\n",
       "      <td>103.0W</td>\n",
       "      <td>80.5546</td>\n",
       "    </tr>\n",
       "    <tr>\n",
       "      <th>4</th>\n",
       "      <td>AL011855</td>\n",
       "      <td>1855-08-06 12:00:00</td>\n",
       "      <td>1855-08-06 12:00:00</td>\n",
       "      <td>0 days 00:00:00</td>\n",
       "      <td>22.2N</td>\n",
       "      <td>98.0W</td>\n",
       "      <td>22.2N</td>\n",
       "      <td>98.0W</td>\n",
       "      <td>103.5702</td>\n",
       "    </tr>\n",
       "  </tbody>\n",
       "</table>\n",
       "</div>"
      ],
      "text/plain": [
       "   storm_id          start_date            end_date         duration  \\\n",
       "0  AL011851 1851-06-25 00:00:00 1851-06-28 00:00:00  3 days 00:00:00   \n",
       "1  AL011852 1852-08-19 00:00:00 1852-08-30 00:00:00 11 days 00:00:00   \n",
       "2  AL011853 1853-08-05 12:00:00 1853-08-05 12:00:00  0 days 00:00:00   \n",
       "3  AL011854 1854-06-25 00:00:00 1854-06-27 12:00:00  2 days 12:00:00   \n",
       "4  AL011855 1855-08-06 12:00:00 1855-08-06 12:00:00  0 days 00:00:00   \n",
       "\n",
       "  begin_lat begin_lon end_lat end_lon  windspeed  \n",
       "0     28.0N     94.8W   31.0N  100.2W    92.0624  \n",
       "1     20.5N     67.1W   41.0N   68.0W   115.0780  \n",
       "2     32.5N     69.0W   32.5N   69.0W    57.5390  \n",
       "3     26.0N     92.5W   28.0N  103.0W    80.5546  \n",
       "4     22.2N     98.0W   22.2N   98.0W   103.5702  "
      ]
     },
     "execution_count": 173,
     "metadata": {},
     "output_type": "execute_result"
    }
   ],
   "source": [
    "new_df.head()"
   ]
  },
  {
   "cell_type": "markdown",
   "id": "65f2cf3f-365c-4409-b974-91cb48e56c04",
   "metadata": {},
   "source": [
    "### Getting max pressure"
   ]
  },
  {
   "cell_type": "code",
   "execution_count": 175,
   "id": "2f6bf03c-80ca-43de-952a-7f1ace127f1c",
   "metadata": {},
   "outputs": [],
   "source": [
    "pressure_df = df.groupby('storm_id').pressure.max()\n",
    "new_df = pd.merge(new_df, pressure_df, on = 'storm_id')"
   ]
  },
  {
   "cell_type": "code",
   "execution_count": 176,
   "id": "2e027ae2-31db-49f7-b9a9-6c245143738a",
   "metadata": {},
   "outputs": [
    {
     "data": {
      "text/html": [
       "<div>\n",
       "<style scoped>\n",
       "    .dataframe tbody tr th:only-of-type {\n",
       "        vertical-align: middle;\n",
       "    }\n",
       "\n",
       "    .dataframe tbody tr th {\n",
       "        vertical-align: top;\n",
       "    }\n",
       "\n",
       "    .dataframe thead th {\n",
       "        text-align: right;\n",
       "    }\n",
       "</style>\n",
       "<table border=\"1\" class=\"dataframe\">\n",
       "  <thead>\n",
       "    <tr style=\"text-align: right;\">\n",
       "      <th></th>\n",
       "      <th>storm_id</th>\n",
       "      <th>start_date</th>\n",
       "      <th>end_date</th>\n",
       "      <th>duration</th>\n",
       "      <th>begin_lat</th>\n",
       "      <th>begin_lon</th>\n",
       "      <th>end_lat</th>\n",
       "      <th>end_lon</th>\n",
       "      <th>windspeed</th>\n",
       "      <th>pressure</th>\n",
       "    </tr>\n",
       "  </thead>\n",
       "  <tbody>\n",
       "    <tr>\n",
       "      <th>0</th>\n",
       "      <td>AL011851</td>\n",
       "      <td>1851-06-25 00:00:00</td>\n",
       "      <td>1851-06-28 00:00:00</td>\n",
       "      <td>3 days 00:00:00</td>\n",
       "      <td>28.0N</td>\n",
       "      <td>94.8W</td>\n",
       "      <td>31.0N</td>\n",
       "      <td>100.2W</td>\n",
       "      <td>92.0624</td>\n",
       "      <td>-999</td>\n",
       "    </tr>\n",
       "    <tr>\n",
       "      <th>1</th>\n",
       "      <td>AL011852</td>\n",
       "      <td>1852-08-19 00:00:00</td>\n",
       "      <td>1852-08-30 00:00:00</td>\n",
       "      <td>11 days 00:00:00</td>\n",
       "      <td>20.5N</td>\n",
       "      <td>67.1W</td>\n",
       "      <td>41.0N</td>\n",
       "      <td>68.0W</td>\n",
       "      <td>115.0780</td>\n",
       "      <td>-999</td>\n",
       "    </tr>\n",
       "    <tr>\n",
       "      <th>2</th>\n",
       "      <td>AL011853</td>\n",
       "      <td>1853-08-05 12:00:00</td>\n",
       "      <td>1853-08-05 12:00:00</td>\n",
       "      <td>0 days 00:00:00</td>\n",
       "      <td>32.5N</td>\n",
       "      <td>69.0W</td>\n",
       "      <td>32.5N</td>\n",
       "      <td>69.0W</td>\n",
       "      <td>57.5390</td>\n",
       "      <td>-999</td>\n",
       "    </tr>\n",
       "    <tr>\n",
       "      <th>3</th>\n",
       "      <td>AL011854</td>\n",
       "      <td>1854-06-25 00:00:00</td>\n",
       "      <td>1854-06-27 12:00:00</td>\n",
       "      <td>2 days 12:00:00</td>\n",
       "      <td>26.0N</td>\n",
       "      <td>92.5W</td>\n",
       "      <td>28.0N</td>\n",
       "      <td>103.0W</td>\n",
       "      <td>80.5546</td>\n",
       "      <td>-999</td>\n",
       "    </tr>\n",
       "    <tr>\n",
       "      <th>4</th>\n",
       "      <td>AL011855</td>\n",
       "      <td>1855-08-06 12:00:00</td>\n",
       "      <td>1855-08-06 12:00:00</td>\n",
       "      <td>0 days 00:00:00</td>\n",
       "      <td>22.2N</td>\n",
       "      <td>98.0W</td>\n",
       "      <td>22.2N</td>\n",
       "      <td>98.0W</td>\n",
       "      <td>103.5702</td>\n",
       "      <td>-999</td>\n",
       "    </tr>\n",
       "  </tbody>\n",
       "</table>\n",
       "</div>"
      ],
      "text/plain": [
       "   storm_id          start_date            end_date         duration  \\\n",
       "0  AL011851 1851-06-25 00:00:00 1851-06-28 00:00:00  3 days 00:00:00   \n",
       "1  AL011852 1852-08-19 00:00:00 1852-08-30 00:00:00 11 days 00:00:00   \n",
       "2  AL011853 1853-08-05 12:00:00 1853-08-05 12:00:00  0 days 00:00:00   \n",
       "3  AL011854 1854-06-25 00:00:00 1854-06-27 12:00:00  2 days 12:00:00   \n",
       "4  AL011855 1855-08-06 12:00:00 1855-08-06 12:00:00  0 days 00:00:00   \n",
       "\n",
       "  begin_lat begin_lon end_lat end_lon  windspeed  pressure  \n",
       "0     28.0N     94.8W   31.0N  100.2W    92.0624      -999  \n",
       "1     20.5N     67.1W   41.0N   68.0W   115.0780      -999  \n",
       "2     32.5N     69.0W   32.5N   69.0W    57.5390      -999  \n",
       "3     26.0N     92.5W   28.0N  103.0W    80.5546      -999  \n",
       "4     22.2N     98.0W   22.2N   98.0W   103.5702      -999  "
      ]
     },
     "execution_count": 176,
     "metadata": {},
     "output_type": "execute_result"
    }
   ],
   "source": [
    "new_df.head()"
   ]
  },
  {
   "cell_type": "code",
   "execution_count": 177,
   "id": "780e1997-6c62-4250-8ab4-fd99778317df",
   "metadata": {},
   "outputs": [
    {
     "data": {
      "text/plain": [
       "(1936, 10)"
      ]
     },
     "execution_count": 177,
     "metadata": {},
     "output_type": "execute_result"
    }
   ],
   "source": [
    "new_df.shape"
   ]
  },
  {
   "cell_type": "markdown",
   "id": "f3f72080-2c2e-4c50-b1b7-f6fafa438251",
   "metadata": {},
   "source": [
    "### Getting name in new df"
   ]
  },
  {
   "cell_type": "code",
   "execution_count": 184,
   "id": "28828534-5ecc-4ed2-8fad-502252ece464",
   "metadata": {},
   "outputs": [],
   "source": [
    "new_df['name'] = pd.merge(new_df, df[['storm_id', 'name']], on = 'storm_id')['name']"
   ]
  },
  {
   "cell_type": "code",
   "execution_count": 185,
   "id": "6ae197e8-8b2f-40b1-9329-f8b7a2ee3ba7",
   "metadata": {},
   "outputs": [
    {
     "data": {
      "text/html": [
       "<div>\n",
       "<style scoped>\n",
       "    .dataframe tbody tr th:only-of-type {\n",
       "        vertical-align: middle;\n",
       "    }\n",
       "\n",
       "    .dataframe tbody tr th {\n",
       "        vertical-align: top;\n",
       "    }\n",
       "\n",
       "    .dataframe thead th {\n",
       "        text-align: right;\n",
       "    }\n",
       "</style>\n",
       "<table border=\"1\" class=\"dataframe\">\n",
       "  <thead>\n",
       "    <tr style=\"text-align: right;\">\n",
       "      <th></th>\n",
       "      <th>storm_id</th>\n",
       "      <th>start_date</th>\n",
       "      <th>end_date</th>\n",
       "      <th>duration</th>\n",
       "      <th>begin_lat</th>\n",
       "      <th>begin_lon</th>\n",
       "      <th>end_lat</th>\n",
       "      <th>end_lon</th>\n",
       "      <th>windspeed</th>\n",
       "      <th>pressure</th>\n",
       "      <th>name</th>\n",
       "    </tr>\n",
       "  </thead>\n",
       "  <tbody>\n",
       "    <tr>\n",
       "      <th>0</th>\n",
       "      <td>AL011851</td>\n",
       "      <td>1851-06-25 00:00:00</td>\n",
       "      <td>1851-06-28 00:00:00</td>\n",
       "      <td>3 days 00:00:00</td>\n",
       "      <td>28.0N</td>\n",
       "      <td>94.8W</td>\n",
       "      <td>31.0N</td>\n",
       "      <td>100.2W</td>\n",
       "      <td>92.0624</td>\n",
       "      <td>-999</td>\n",
       "      <td>UNNAMED</td>\n",
       "    </tr>\n",
       "    <tr>\n",
       "      <th>1</th>\n",
       "      <td>AL011852</td>\n",
       "      <td>1852-08-19 00:00:00</td>\n",
       "      <td>1852-08-30 00:00:00</td>\n",
       "      <td>11 days 00:00:00</td>\n",
       "      <td>20.5N</td>\n",
       "      <td>67.1W</td>\n",
       "      <td>41.0N</td>\n",
       "      <td>68.0W</td>\n",
       "      <td>115.0780</td>\n",
       "      <td>-999</td>\n",
       "      <td>UNNAMED</td>\n",
       "    </tr>\n",
       "    <tr>\n",
       "      <th>2</th>\n",
       "      <td>AL011853</td>\n",
       "      <td>1853-08-05 12:00:00</td>\n",
       "      <td>1853-08-05 12:00:00</td>\n",
       "      <td>0 days 00:00:00</td>\n",
       "      <td>32.5N</td>\n",
       "      <td>69.0W</td>\n",
       "      <td>32.5N</td>\n",
       "      <td>69.0W</td>\n",
       "      <td>57.5390</td>\n",
       "      <td>-999</td>\n",
       "      <td>UNNAMED</td>\n",
       "    </tr>\n",
       "    <tr>\n",
       "      <th>3</th>\n",
       "      <td>AL011854</td>\n",
       "      <td>1854-06-25 00:00:00</td>\n",
       "      <td>1854-06-27 12:00:00</td>\n",
       "      <td>2 days 12:00:00</td>\n",
       "      <td>26.0N</td>\n",
       "      <td>92.5W</td>\n",
       "      <td>28.0N</td>\n",
       "      <td>103.0W</td>\n",
       "      <td>80.5546</td>\n",
       "      <td>-999</td>\n",
       "      <td>UNNAMED</td>\n",
       "    </tr>\n",
       "    <tr>\n",
       "      <th>4</th>\n",
       "      <td>AL011855</td>\n",
       "      <td>1855-08-06 12:00:00</td>\n",
       "      <td>1855-08-06 12:00:00</td>\n",
       "      <td>0 days 00:00:00</td>\n",
       "      <td>22.2N</td>\n",
       "      <td>98.0W</td>\n",
       "      <td>22.2N</td>\n",
       "      <td>98.0W</td>\n",
       "      <td>103.5702</td>\n",
       "      <td>-999</td>\n",
       "      <td>UNNAMED</td>\n",
       "    </tr>\n",
       "  </tbody>\n",
       "</table>\n",
       "</div>"
      ],
      "text/plain": [
       "   storm_id          start_date            end_date         duration  \\\n",
       "0  AL011851 1851-06-25 00:00:00 1851-06-28 00:00:00  3 days 00:00:00   \n",
       "1  AL011852 1852-08-19 00:00:00 1852-08-30 00:00:00 11 days 00:00:00   \n",
       "2  AL011853 1853-08-05 12:00:00 1853-08-05 12:00:00  0 days 00:00:00   \n",
       "3  AL011854 1854-06-25 00:00:00 1854-06-27 12:00:00  2 days 12:00:00   \n",
       "4  AL011855 1855-08-06 12:00:00 1855-08-06 12:00:00  0 days 00:00:00   \n",
       "\n",
       "  begin_lat begin_lon end_lat end_lon  windspeed  pressure     name  \n",
       "0     28.0N     94.8W   31.0N  100.2W    92.0624      -999  UNNAMED  \n",
       "1     20.5N     67.1W   41.0N   68.0W   115.0780      -999  UNNAMED  \n",
       "2     32.5N     69.0W   32.5N   69.0W    57.5390      -999  UNNAMED  \n",
       "3     26.0N     92.5W   28.0N  103.0W    80.5546      -999  UNNAMED  \n",
       "4     22.2N     98.0W   22.2N   98.0W   103.5702      -999  UNNAMED  "
      ]
     },
     "execution_count": 185,
     "metadata": {},
     "output_type": "execute_result"
    }
   ],
   "source": [
    "new_df.head()"
   ]
  },
  {
   "cell_type": "code",
   "execution_count": 208,
   "id": "90725727-23a5-4b3e-957c-f4bcef2b805b",
   "metadata": {},
   "outputs": [],
   "source": [
    "new_df['start_date'] = new_df['start_date'].dt.date\n",
    "new_df['end_date'] = new_df['end_date'].dt.date"
   ]
  },
  {
   "cell_type": "code",
   "execution_count": 209,
   "id": "57223ec2-9e4a-4044-8176-7c223a32c31d",
   "metadata": {},
   "outputs": [
    {
     "data": {
      "text/html": [
       "<div>\n",
       "<style scoped>\n",
       "    .dataframe tbody tr th:only-of-type {\n",
       "        vertical-align: middle;\n",
       "    }\n",
       "\n",
       "    .dataframe tbody tr th {\n",
       "        vertical-align: top;\n",
       "    }\n",
       "\n",
       "    .dataframe thead th {\n",
       "        text-align: right;\n",
       "    }\n",
       "</style>\n",
       "<table border=\"1\" class=\"dataframe\">\n",
       "  <thead>\n",
       "    <tr style=\"text-align: right;\">\n",
       "      <th></th>\n",
       "      <th>storm_id</th>\n",
       "      <th>start_date</th>\n",
       "      <th>end_date</th>\n",
       "      <th>duration</th>\n",
       "      <th>begin_lat</th>\n",
       "      <th>begin_lon</th>\n",
       "      <th>end_lat</th>\n",
       "      <th>end_lon</th>\n",
       "      <th>windspeed</th>\n",
       "      <th>pressure</th>\n",
       "      <th>name</th>\n",
       "    </tr>\n",
       "  </thead>\n",
       "  <tbody>\n",
       "    <tr>\n",
       "      <th>0</th>\n",
       "      <td>AL011851</td>\n",
       "      <td>1851-06-25</td>\n",
       "      <td>1851-06-28</td>\n",
       "      <td>3 days 00:00:00</td>\n",
       "      <td>28.0N</td>\n",
       "      <td>94.8W</td>\n",
       "      <td>31.0N</td>\n",
       "      <td>100.2W</td>\n",
       "      <td>92.0624</td>\n",
       "      <td>-999</td>\n",
       "      <td>UNNAMED</td>\n",
       "    </tr>\n",
       "    <tr>\n",
       "      <th>1</th>\n",
       "      <td>AL011852</td>\n",
       "      <td>1852-08-19</td>\n",
       "      <td>1852-08-30</td>\n",
       "      <td>11 days 00:00:00</td>\n",
       "      <td>20.5N</td>\n",
       "      <td>67.1W</td>\n",
       "      <td>41.0N</td>\n",
       "      <td>68.0W</td>\n",
       "      <td>115.0780</td>\n",
       "      <td>-999</td>\n",
       "      <td>UNNAMED</td>\n",
       "    </tr>\n",
       "    <tr>\n",
       "      <th>2</th>\n",
       "      <td>AL011853</td>\n",
       "      <td>1853-08-05</td>\n",
       "      <td>1853-08-05</td>\n",
       "      <td>0 days 00:00:00</td>\n",
       "      <td>32.5N</td>\n",
       "      <td>69.0W</td>\n",
       "      <td>32.5N</td>\n",
       "      <td>69.0W</td>\n",
       "      <td>57.5390</td>\n",
       "      <td>-999</td>\n",
       "      <td>UNNAMED</td>\n",
       "    </tr>\n",
       "    <tr>\n",
       "      <th>3</th>\n",
       "      <td>AL011854</td>\n",
       "      <td>1854-06-25</td>\n",
       "      <td>1854-06-27</td>\n",
       "      <td>2 days 12:00:00</td>\n",
       "      <td>26.0N</td>\n",
       "      <td>92.5W</td>\n",
       "      <td>28.0N</td>\n",
       "      <td>103.0W</td>\n",
       "      <td>80.5546</td>\n",
       "      <td>-999</td>\n",
       "      <td>UNNAMED</td>\n",
       "    </tr>\n",
       "    <tr>\n",
       "      <th>4</th>\n",
       "      <td>AL011855</td>\n",
       "      <td>1855-08-06</td>\n",
       "      <td>1855-08-06</td>\n",
       "      <td>0 days 00:00:00</td>\n",
       "      <td>22.2N</td>\n",
       "      <td>98.0W</td>\n",
       "      <td>22.2N</td>\n",
       "      <td>98.0W</td>\n",
       "      <td>103.5702</td>\n",
       "      <td>-999</td>\n",
       "      <td>UNNAMED</td>\n",
       "    </tr>\n",
       "  </tbody>\n",
       "</table>\n",
       "</div>"
      ],
      "text/plain": [
       "   storm_id  start_date    end_date         duration begin_lat begin_lon  \\\n",
       "0  AL011851  1851-06-25  1851-06-28  3 days 00:00:00     28.0N     94.8W   \n",
       "1  AL011852  1852-08-19  1852-08-30 11 days 00:00:00     20.5N     67.1W   \n",
       "2  AL011853  1853-08-05  1853-08-05  0 days 00:00:00     32.5N     69.0W   \n",
       "3  AL011854  1854-06-25  1854-06-27  2 days 12:00:00     26.0N     92.5W   \n",
       "4  AL011855  1855-08-06  1855-08-06  0 days 00:00:00     22.2N     98.0W   \n",
       "\n",
       "  end_lat end_lon  windspeed  pressure     name  \n",
       "0   31.0N  100.2W    92.0624      -999  UNNAMED  \n",
       "1   41.0N   68.0W   115.0780      -999  UNNAMED  \n",
       "2   32.5N   69.0W    57.5390      -999  UNNAMED  \n",
       "3   28.0N  103.0W    80.5546      -999  UNNAMED  \n",
       "4   22.2N   98.0W   103.5702      -999  UNNAMED  "
      ]
     },
     "execution_count": 209,
     "metadata": {},
     "output_type": "execute_result"
    }
   ],
   "source": [
    "new_df.head()"
   ]
  },
  {
   "cell_type": "markdown",
   "id": "35832f0b-9f1c-4d2e-9fe0-fb56e5be2946",
   "metadata": {},
   "source": [
    "# New File to get damage caused by hurricanes"
   ]
  },
  {
   "cell_type": "code",
   "execution_count": 214,
   "id": "ad8aefc2-16a8-4525-9a19-1bf7a761639d",
   "metadata": {},
   "outputs": [],
   "source": [
    "# Loading first file\n",
    "cols = [ 'EVENT_TYPE', 'INJURIES_DIRECT', 'INJURIES_INDIRECT', 'DEATHS_DIRECT', 'DEATHS_INDIRECT', 'DAMAGE_PROPERTY', 'DAMAGE_CROPS', 'BEGIN_DATE_TIME', 'END_DATE_TIME']\n",
    "df = pd.read_csv('https://www.ncei.noaa.gov/pub/data/swdi/stormevents/csvfiles/StormEvents_details-ftp_v1.0_d1950_c20210803.csv.gz',\n",
    "                 compression = 'gzip', usecols= cols)\n",
    "df = df[df['EVENT_TYPE'] == 'Hurricane']\n",
    "\n",
    "# Using a loop to download and concatenate other files with same pattern names\n",
    "years1 = list(range(1951, 1972))\n",
    "years2 = list(range(1972, 2014))\n",
    "\n",
    "# First types of files\n",
    "for i in range(len(years1)):\n",
    "    temp_df = pd.read_csv('https://www.ncei.noaa.gov/pub/data/swdi/stormevents/csvfiles/StormEvents_details-ftp_v1.0_d' + str(years1[i]) +'_c20210803.csv.gz', \n",
    "                          compression = 'gzip', low_memory=False, usecols= cols)\n",
    "    temp_df = temp_df[temp_df['EVENT_TYPE'] == 'Hurricane']\n",
    "    df = pd.concat([df, temp_df], ignore_index=True)\n",
    "    \n",
    "# Second type of files\n",
    "for i in range(len(years2)):\n",
    "    temp_df = pd.read_csv('https://www.ncei.noaa.gov/pub/data/swdi/stormevents/csvfiles/StormEvents_details-ftp_v1.0_d' + str(years2[i]) +'_c20220425.csv.gz',\n",
    "                          compression = 'gzip', low_memory=False, usecols= cols)\n",
    "    temp_df = temp_df[temp_df['EVENT_TYPE'] == 'Hurricane']\n",
    "    df = pd.concat([df, temp_df], ignore_index=True)\n",
    "    \n",
    "# Files without a pattern in the names are downloaded and concatenated separately\n",
    "df = pd.concat([df, pd.read_csv('https://www.ncei.noaa.gov/pub/data/swdi/stormevents/csvfiles/StormEvents_details-ftp_v1.0_d2014_c20220719.csv.gz', compression = 'gzip', low_memory=False, usecols= cols)], ignore_index=True)\n",
    "df = pd.concat([df, pd.read_csv('https://www.ncei.noaa.gov/pub/data/swdi/stormevents/csvfiles/StormEvents_details-ftp_v1.0_d2015_c20220425.csv.gz', compression = 'gzip', low_memory=False, usecols= cols)], ignore_index=True)\n",
    "df = pd.concat([df, pd.read_csv('https://www.ncei.noaa.gov/pub/data/swdi/stormevents/csvfiles/StormEvents_details-ftp_v1.0_d2016_c20220719.csv.gz', compression = 'gzip', low_memory=False, usecols= cols)], ignore_index=True)\n",
    "df = pd.concat([df, pd.read_csv('https://www.ncei.noaa.gov/pub/data/swdi/stormevents/csvfiles/StormEvents_details-ftp_v1.0_d2017_c20220719.csv.gz', compression = 'gzip', low_memory=False, usecols= cols)], ignore_index=True)\n",
    "df = pd.concat([df, pd.read_csv('https://www.ncei.noaa.gov/pub/data/swdi/stormevents/csvfiles/StormEvents_details-ftp_v1.0_d2018_c20220425.csv.gz', compression = 'gzip', low_memory=False, usecols= cols)], ignore_index=True)\n",
    "df = pd.concat([df, pd.read_csv('https://www.ncei.noaa.gov/pub/data/swdi/stormevents/csvfiles/StormEvents_details-ftp_v1.0_d2019_c20220425.csv.gz', compression = 'gzip', low_memory=False, usecols= cols)], ignore_index=True)\n",
    "df = pd.concat([df, pd.read_csv('https://www.ncei.noaa.gov/pub/data/swdi/stormevents/csvfiles/StormEvents_details-ftp_v1.0_d2020_c20220816.csv.gz', compression = 'gzip', low_memory=False, usecols= cols)], ignore_index=True)\n",
    "df = pd.concat([df, pd.read_csv('https://www.ncei.noaa.gov/pub/data/swdi/stormevents/csvfiles/StormEvents_details-ftp_v1.0_d2021_c20220921.csv.gz', compression = 'gzip', low_memory=False, usecols= cols)], ignore_index=True)\n",
    "df = pd.concat([df, pd.read_csv('https://www.ncei.noaa.gov/pub/data/swdi/stormevents/csvfiles/StormEvents_details-ftp_v1.0_d2022_c20220921.csv.gz', compression = 'gzip', low_memory=False, usecols= cols)], ignore_index=True)\n",
    "df = df[df['EVENT_TYPE'] == 'Hurricane']\n",
    "df.reset_index(drop = True, inplace = True)"
   ]
  },
  {
   "cell_type": "code",
   "execution_count": 216,
   "id": "340d068c-bdb5-4036-9181-d24eef67451f",
   "metadata": {},
   "outputs": [],
   "source": [
    "df.BEGIN_DATE_TIME = pd.to_datetime(df['BEGIN_DATE_TIME']).dt.date\n",
    "df.END_DATE_TIME = pd.to_datetime(df['END_DATE_TIME']).dt.date"
   ]
  },
  {
   "cell_type": "code",
   "execution_count": 217,
   "id": "f9a6a484-ba9c-46b3-b79c-286c3b2d3e6d",
   "metadata": {},
   "outputs": [
    {
     "data": {
      "text/plain": [
       "EVENT_TYPE           object\n",
       "BEGIN_DATE_TIME      object\n",
       "END_DATE_TIME        object\n",
       "INJURIES_DIRECT       int64\n",
       "INJURIES_INDIRECT     int64\n",
       "DEATHS_DIRECT         int64\n",
       "DEATHS_INDIRECT       int64\n",
       "DAMAGE_PROPERTY      object\n",
       "DAMAGE_CROPS         object\n",
       "dtype: object"
      ]
     },
     "execution_count": 217,
     "metadata": {},
     "output_type": "execute_result"
    }
   ],
   "source": [
    "df.dtypes"
   ]
  },
  {
   "cell_type": "code",
   "execution_count": null,
   "id": "4dc7d482-bdbd-4381-b637-740d5d51b14f",
   "metadata": {},
   "outputs": [],
   "source": []
  },
  {
   "cell_type": "code",
   "execution_count": null,
   "id": "762e78fb-9130-49f6-bef3-c76e8e6f69c3",
   "metadata": {},
   "outputs": [],
   "source": [
    "df.head()"
   ]
  },
  {
   "cell_type": "code",
   "execution_count": 218,
   "id": "e1368ad3-f350-4c73-b30c-87478a295229",
   "metadata": {},
   "outputs": [
    {
     "data": {
      "text/html": [
       "<div>\n",
       "<style scoped>\n",
       "    .dataframe tbody tr th:only-of-type {\n",
       "        vertical-align: middle;\n",
       "    }\n",
       "\n",
       "    .dataframe tbody tr th {\n",
       "        vertical-align: top;\n",
       "    }\n",
       "\n",
       "    .dataframe thead th {\n",
       "        text-align: right;\n",
       "    }\n",
       "</style>\n",
       "<table border=\"1\" class=\"dataframe\">\n",
       "  <thead>\n",
       "    <tr style=\"text-align: right;\">\n",
       "      <th></th>\n",
       "      <th>storm_id</th>\n",
       "      <th>start_date</th>\n",
       "      <th>end_date</th>\n",
       "      <th>duration</th>\n",
       "      <th>begin_lat</th>\n",
       "      <th>begin_lon</th>\n",
       "      <th>end_lat</th>\n",
       "      <th>end_lon</th>\n",
       "      <th>windspeed</th>\n",
       "      <th>pressure</th>\n",
       "      <th>name</th>\n",
       "      <th>EVENT_TYPE</th>\n",
       "      <th>BEGIN_DATE_TIME</th>\n",
       "      <th>END_DATE_TIME</th>\n",
       "      <th>INJURIES_DIRECT</th>\n",
       "      <th>INJURIES_INDIRECT</th>\n",
       "      <th>DEATHS_DIRECT</th>\n",
       "      <th>DEATHS_INDIRECT</th>\n",
       "      <th>DAMAGE_PROPERTY</th>\n",
       "      <th>DAMAGE_CROPS</th>\n",
       "    </tr>\n",
       "  </thead>\n",
       "  <tbody>\n",
       "  </tbody>\n",
       "</table>\n",
       "</div>"
      ],
      "text/plain": [
       "Empty DataFrame\n",
       "Columns: [storm_id, start_date, end_date, duration, begin_lat, begin_lon, end_lat, end_lon, windspeed, pressure, name, EVENT_TYPE, BEGIN_DATE_TIME, END_DATE_TIME, INJURIES_DIRECT, INJURIES_INDIRECT, DEATHS_DIRECT, DEATHS_INDIRECT, DAMAGE_PROPERTY, DAMAGE_CROPS]\n",
       "Index: []"
      ]
     },
     "execution_count": 218,
     "metadata": {},
     "output_type": "execute_result"
    }
   ],
   "source": [
    "pd.merge(new_df, df, left_on = 'start_date', right_on = 'BEGIN_DATE_TIME')"
   ]
  },
  {
   "cell_type": "code",
   "execution_count": null,
   "id": "82e42622-c903-444f-a3ef-e488d8059c9f",
   "metadata": {},
   "outputs": [],
   "source": []
  }
 ],
 "metadata": {
  "kernelspec": {
   "display_name": "Python 3 (ipykernel)",
   "language": "python",
   "name": "python3"
  },
  "language_info": {
   "codemirror_mode": {
    "name": "ipython",
    "version": 3
   },
   "file_extension": ".py",
   "mimetype": "text/x-python",
   "name": "python",
   "nbconvert_exporter": "python",
   "pygments_lexer": "ipython3",
   "version": "3.9.12"
  }
 },
 "nbformat": 4,
 "nbformat_minor": 5
}
